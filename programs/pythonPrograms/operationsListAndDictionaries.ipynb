{
 "cells": [
  {
   "cell_type": "code",
   "execution_count": 23,
   "metadata": {},
   "outputs": [],
   "source": [
    "dictionary = {'name':list(map(lambda person:person.lower(),['SHASHANK','AKASH','RAM','ADITYA','SANJAY','SNEHA','KANIKA','AMRITA'])),\n",
    "             'age':[24,26,25,30,25,23,26,25],\n",
    "             'score':[100,200,10,25,30,31,50,25],\n",
    "             'company':['Accenture','LTI','Accenture','Infosys','TCS','Accenture','TCS','Accenture'],\n",
    "             'area':['borivali','borivali','virar','kandivali','nalasopara','borivali','borivali','andheri'],\n",
    "             'salaray':[300,500,600,456,625,565,321,123],\n",
    "             'gender':['male','male','male','male','male','female','female','female'],\n",
    "             'education':['undergraduate','graduate','undergraduate','graduate','graduate','undergraduate','undergraduate','graduate']}"
   ]
  },
  {
   "cell_type": "code",
   "execution_count": 20,
   "metadata": {},
   "outputs": [],
   "source": [
    "import pandas as pd"
   ]
  },
  {
   "cell_type": "code",
   "execution_count": 25,
   "metadata": {},
   "outputs": [
    {
     "data": {
      "text/html": [
       "<div>\n",
       "<style scoped>\n",
       "    .dataframe tbody tr th:only-of-type {\n",
       "        vertical-align: middle;\n",
       "    }\n",
       "\n",
       "    .dataframe tbody tr th {\n",
       "        vertical-align: top;\n",
       "    }\n",
       "\n",
       "    .dataframe thead th {\n",
       "        text-align: right;\n",
       "    }\n",
       "</style>\n",
       "<table border=\"1\" class=\"dataframe\">\n",
       "  <thead>\n",
       "    <tr style=\"text-align: right;\">\n",
       "      <th></th>\n",
       "      <th>name</th>\n",
       "      <th>age</th>\n",
       "      <th>score</th>\n",
       "      <th>company</th>\n",
       "      <th>area</th>\n",
       "      <th>salaray</th>\n",
       "      <th>gender</th>\n",
       "      <th>education</th>\n",
       "    </tr>\n",
       "  </thead>\n",
       "  <tbody>\n",
       "    <tr>\n",
       "      <th>0</th>\n",
       "      <td>shashank</td>\n",
       "      <td>24</td>\n",
       "      <td>100</td>\n",
       "      <td>Accenture</td>\n",
       "      <td>borivali</td>\n",
       "      <td>300</td>\n",
       "      <td>male</td>\n",
       "      <td>undergraduate</td>\n",
       "    </tr>\n",
       "    <tr>\n",
       "      <th>1</th>\n",
       "      <td>akash</td>\n",
       "      <td>26</td>\n",
       "      <td>200</td>\n",
       "      <td>LTI</td>\n",
       "      <td>borivali</td>\n",
       "      <td>500</td>\n",
       "      <td>male</td>\n",
       "      <td>graduate</td>\n",
       "    </tr>\n",
       "    <tr>\n",
       "      <th>2</th>\n",
       "      <td>ram</td>\n",
       "      <td>25</td>\n",
       "      <td>10</td>\n",
       "      <td>Accenture</td>\n",
       "      <td>virar</td>\n",
       "      <td>600</td>\n",
       "      <td>male</td>\n",
       "      <td>undergraduate</td>\n",
       "    </tr>\n",
       "    <tr>\n",
       "      <th>3</th>\n",
       "      <td>aditya</td>\n",
       "      <td>30</td>\n",
       "      <td>25</td>\n",
       "      <td>Infosys</td>\n",
       "      <td>kandivali</td>\n",
       "      <td>456</td>\n",
       "      <td>male</td>\n",
       "      <td>graduate</td>\n",
       "    </tr>\n",
       "    <tr>\n",
       "      <th>4</th>\n",
       "      <td>sanjay</td>\n",
       "      <td>25</td>\n",
       "      <td>30</td>\n",
       "      <td>TCS</td>\n",
       "      <td>nalasopara</td>\n",
       "      <td>625</td>\n",
       "      <td>male</td>\n",
       "      <td>graduate</td>\n",
       "    </tr>\n",
       "    <tr>\n",
       "      <th>5</th>\n",
       "      <td>sneha</td>\n",
       "      <td>23</td>\n",
       "      <td>31</td>\n",
       "      <td>Accenture</td>\n",
       "      <td>borivali</td>\n",
       "      <td>565</td>\n",
       "      <td>female</td>\n",
       "      <td>undergraduate</td>\n",
       "    </tr>\n",
       "    <tr>\n",
       "      <th>6</th>\n",
       "      <td>kanika</td>\n",
       "      <td>26</td>\n",
       "      <td>50</td>\n",
       "      <td>TCS</td>\n",
       "      <td>borivali</td>\n",
       "      <td>321</td>\n",
       "      <td>female</td>\n",
       "      <td>undergraduate</td>\n",
       "    </tr>\n",
       "    <tr>\n",
       "      <th>7</th>\n",
       "      <td>amrita</td>\n",
       "      <td>25</td>\n",
       "      <td>25</td>\n",
       "      <td>Accenture</td>\n",
       "      <td>andheri</td>\n",
       "      <td>123</td>\n",
       "      <td>female</td>\n",
       "      <td>graduate</td>\n",
       "    </tr>\n",
       "  </tbody>\n",
       "</table>\n",
       "</div>"
      ],
      "text/plain": [
       "       name  age  score    company        area  salaray  gender      education\n",
       "0  shashank   24    100  Accenture    borivali      300    male  undergraduate\n",
       "1     akash   26    200        LTI    borivali      500    male       graduate\n",
       "2       ram   25     10  Accenture       virar      600    male  undergraduate\n",
       "3    aditya   30     25    Infosys   kandivali      456    male       graduate\n",
       "4    sanjay   25     30        TCS  nalasopara      625    male       graduate\n",
       "5     sneha   23     31  Accenture    borivali      565  female  undergraduate\n",
       "6    kanika   26     50        TCS    borivali      321  female  undergraduate\n",
       "7    amrita   25     25  Accenture     andheri      123  female       graduate"
      ]
     },
     "execution_count": 25,
     "metadata": {},
     "output_type": "execute_result"
    }
   ],
   "source": [
    "dictionaryFrame = pd.DataFrame(dictionary)\n",
    "dictionaryFrame"
   ]
  },
  {
   "cell_type": "code",
   "execution_count": 55,
   "metadata": {},
   "outputs": [],
   "source": [
    "salaryOfGraduateFemale = dictionaryFrame.groupby(['education','gender'])"
   ]
  },
  {
   "cell_type": "code",
   "execution_count": 56,
   "metadata": {},
   "outputs": [
    {
     "name": "stdout",
     "output_type": "stream",
     "text": [
      "('graduate', 'female')\n",
      "     name  age  score    company     area  salaray  gender education\n",
      "7  amrita   25     25  Accenture  andheri      123  female  graduate\n",
      "('graduate', 'male')\n",
      "     name  age  score  company        area  salaray gender education\n",
      "1   akash   26    200      LTI    borivali      500   male  graduate\n",
      "3  aditya   30     25  Infosys   kandivali      456   male  graduate\n",
      "4  sanjay   25     30      TCS  nalasopara      625   male  graduate\n",
      "('undergraduate', 'female')\n",
      "     name  age  score    company      area  salaray  gender      education\n",
      "5   sneha   23     31  Accenture  borivali      565  female  undergraduate\n",
      "6  kanika   26     50        TCS  borivali      321  female  undergraduate\n",
      "('undergraduate', 'male')\n",
      "       name  age  score    company      area  salaray gender      education\n",
      "0  shashank   24    100  Accenture  borivali      300   male  undergraduate\n",
      "2       ram   25     10  Accenture     virar      600   male  undergraduate\n"
     ]
    }
   ],
   "source": [
    "for name,salary in salaryOfGraduateFemale:\n",
    "    print(name)\n",
    "    print(salary)"
   ]
  },
  {
   "cell_type": "code",
   "execution_count": 66,
   "metadata": {},
   "outputs": [],
   "source": [
    "newdict = {'AKASH'.lower():24,'SHASHANK'.lower():25,'SANJAY'.lower():26}"
   ]
  },
  {
   "cell_type": "code",
   "execution_count": 88,
   "metadata": {},
   "outputs": [
    {
     "name": "stdout",
     "output_type": "stream",
     "text": [
      "akash\n",
      "shashank\n",
      "sanjay\n"
     ]
    }
   ],
   "source": [
    "for key,value in newdict.items():\n",
    "    print(key.lower())"
   ]
  }
 ],
 "metadata": {
  "kernelspec": {
   "display_name": "Python 3",
   "language": "python",
   "name": "python3"
  },
  "language_info": {
   "codemirror_mode": {
    "name": "ipython",
    "version": 3
   },
   "file_extension": ".py",
   "mimetype": "text/x-python",
   "name": "python",
   "nbconvert_exporter": "python",
   "pygments_lexer": "ipython3",
   "version": "3.7.0"
  }
 },
 "nbformat": 4,
 "nbformat_minor": 2
}
