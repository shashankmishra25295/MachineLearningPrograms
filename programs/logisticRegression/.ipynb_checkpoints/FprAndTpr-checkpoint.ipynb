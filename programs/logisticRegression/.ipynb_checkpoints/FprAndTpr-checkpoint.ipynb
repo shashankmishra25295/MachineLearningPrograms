{
 "cells": [
  {
   "cell_type": "code",
   "execution_count": 1,
   "metadata": {},
   "outputs": [],
   "source": [
    "import numpy as np\n",
    "import pandas as pd\n",
    "import seaborn as sns\n",
    "import matplotlib.pyplot as plt"
   ]
  },
  {
   "cell_type": "code",
   "execution_count": 2,
   "metadata": {},
   "outputs": [],
   "source": [
    "def confusion_matrix(yActual,yPredicted):\n",
    "    \n",
    "    true_possitive = sum((yActual==1)&(yPredicted==1))\n",
    "    true_negative = sum((yActual==0)&(yPredicted==0))\n",
    "    false_possitive = sum((yActual==0)&(yPredicted==1))\n",
    "    false_negative = sum((yActual==1)&(yPredicted==0))\n",
    "    \n",
    "    \n",
    "    return true_possitive,true_negative,false_possitive,false_negative"
   ]
  },
  {
   "cell_type": "code",
   "execution_count": 6,
   "metadata": {},
   "outputs": [
    {
     "data": {
      "text/html": [
       "<div>\n",
       "<style scoped>\n",
       "    .dataframe tbody tr th:only-of-type {\n",
       "        vertical-align: middle;\n",
       "    }\n",
       "\n",
       "    .dataframe tbody tr th {\n",
       "        vertical-align: top;\n",
       "    }\n",
       "\n",
       "    .dataframe thead th {\n",
       "        text-align: right;\n",
       "    }\n",
       "</style>\n",
       "<table border=\"1\" class=\"dataframe\">\n",
       "  <thead>\n",
       "    <tr style=\"text-align: right;\">\n",
       "      <th></th>\n",
       "      <th>yActual</th>\n",
       "      <th>yPredicted</th>\n",
       "    </tr>\n",
       "  </thead>\n",
       "  <tbody>\n",
       "    <tr>\n",
       "      <th>0</th>\n",
       "      <td>1</td>\n",
       "      <td>0.8</td>\n",
       "    </tr>\n",
       "    <tr>\n",
       "      <th>1</th>\n",
       "      <td>0</td>\n",
       "      <td>0.6</td>\n",
       "    </tr>\n",
       "    <tr>\n",
       "      <th>2</th>\n",
       "      <td>1</td>\n",
       "      <td>0.4</td>\n",
       "    </tr>\n",
       "    <tr>\n",
       "      <th>3</th>\n",
       "      <td>0</td>\n",
       "      <td>0.2</td>\n",
       "    </tr>\n",
       "  </tbody>\n",
       "</table>\n",
       "</div>"
      ],
      "text/plain": [
       "   yActual  yPredicted\n",
       "0        1         0.8\n",
       "1        0         0.6\n",
       "2        1         0.4\n",
       "3        0         0.2"
      ]
     },
     "execution_count": 6,
     "metadata": {},
     "output_type": "execute_result"
    }
   ],
   "source": [
    "data = pd.DataFrame({'yActual':[1,0,1,0],\n",
    "                            'yPredicted':[0.8,0.6,0.4,0.2]})\n",
    "data"
   ]
  },
  {
   "cell_type": "code",
   "execution_count": 9,
   "metadata": {},
   "outputs": [
    {
     "data": {
      "text/html": [
       "<div>\n",
       "<style scoped>\n",
       "    .dataframe tbody tr th:only-of-type {\n",
       "        vertical-align: middle;\n",
       "    }\n",
       "\n",
       "    .dataframe tbody tr th {\n",
       "        vertical-align: top;\n",
       "    }\n",
       "\n",
       "    .dataframe thead th {\n",
       "        text-align: right;\n",
       "    }\n",
       "</style>\n",
       "<table border=\"1\" class=\"dataframe\">\n",
       "  <thead>\n",
       "    <tr style=\"text-align: right;\">\n",
       "      <th></th>\n",
       "      <th>yActual</th>\n",
       "      <th>yPredicted</th>\n",
       "      <th>y0</th>\n",
       "    </tr>\n",
       "  </thead>\n",
       "  <tbody>\n",
       "    <tr>\n",
       "      <th>0</th>\n",
       "      <td>1</td>\n",
       "      <td>0.8</td>\n",
       "      <td>1</td>\n",
       "    </tr>\n",
       "    <tr>\n",
       "      <th>1</th>\n",
       "      <td>0</td>\n",
       "      <td>0.6</td>\n",
       "      <td>1</td>\n",
       "    </tr>\n",
       "    <tr>\n",
       "      <th>2</th>\n",
       "      <td>1</td>\n",
       "      <td>0.4</td>\n",
       "      <td>1</td>\n",
       "    </tr>\n",
       "    <tr>\n",
       "      <th>3</th>\n",
       "      <td>0</td>\n",
       "      <td>0.2</td>\n",
       "      <td>1</td>\n",
       "    </tr>\n",
       "  </tbody>\n",
       "</table>\n",
       "</div>"
      ],
      "text/plain": [
       "   yActual  yPredicted  y0\n",
       "0        1         0.8   1\n",
       "1        0         0.6   1\n",
       "2        1         0.4   1\n",
       "3        0         0.2   1"
      ]
     },
     "execution_count": 9,
     "metadata": {},
     "output_type": "execute_result"
    }
   ],
   "source": [
    "data['y0'] = [1,1,1,1]\n",
    "data"
   ]
  },
  {
   "cell_type": "code",
   "execution_count": 10,
   "metadata": {},
   "outputs": [],
   "source": [
    "data['yPoint2'] = [1,1,1,1]\n",
    "data['yPoint4'] = [1,1,1,0]\n",
    "data['yPoint6'] = [1,1,0,0]\n",
    "data['yPoint8'] = [1,0,0,0]\n",
    "data['yPoint1'] = [0,0,0,0]"
   ]
  },
  {
   "cell_type": "code",
   "execution_count": 11,
   "metadata": {},
   "outputs": [
    {
     "data": {
      "text/html": [
       "<div>\n",
       "<style scoped>\n",
       "    .dataframe tbody tr th:only-of-type {\n",
       "        vertical-align: middle;\n",
       "    }\n",
       "\n",
       "    .dataframe tbody tr th {\n",
       "        vertical-align: top;\n",
       "    }\n",
       "\n",
       "    .dataframe thead th {\n",
       "        text-align: right;\n",
       "    }\n",
       "</style>\n",
       "<table border=\"1\" class=\"dataframe\">\n",
       "  <thead>\n",
       "    <tr style=\"text-align: right;\">\n",
       "      <th></th>\n",
       "      <th>yActual</th>\n",
       "      <th>yPredicted</th>\n",
       "      <th>y0</th>\n",
       "      <th>yPoint2</th>\n",
       "      <th>yPoint4</th>\n",
       "      <th>yPoint6</th>\n",
       "      <th>yPoint8</th>\n",
       "      <th>yPoint1</th>\n",
       "    </tr>\n",
       "  </thead>\n",
       "  <tbody>\n",
       "    <tr>\n",
       "      <th>0</th>\n",
       "      <td>1</td>\n",
       "      <td>0.8</td>\n",
       "      <td>1</td>\n",
       "      <td>1</td>\n",
       "      <td>1</td>\n",
       "      <td>1</td>\n",
       "      <td>1</td>\n",
       "      <td>0</td>\n",
       "    </tr>\n",
       "    <tr>\n",
       "      <th>1</th>\n",
       "      <td>0</td>\n",
       "      <td>0.6</td>\n",
       "      <td>1</td>\n",
       "      <td>1</td>\n",
       "      <td>1</td>\n",
       "      <td>1</td>\n",
       "      <td>0</td>\n",
       "      <td>0</td>\n",
       "    </tr>\n",
       "    <tr>\n",
       "      <th>2</th>\n",
       "      <td>1</td>\n",
       "      <td>0.4</td>\n",
       "      <td>1</td>\n",
       "      <td>1</td>\n",
       "      <td>1</td>\n",
       "      <td>0</td>\n",
       "      <td>0</td>\n",
       "      <td>0</td>\n",
       "    </tr>\n",
       "    <tr>\n",
       "      <th>3</th>\n",
       "      <td>0</td>\n",
       "      <td>0.2</td>\n",
       "      <td>1</td>\n",
       "      <td>1</td>\n",
       "      <td>0</td>\n",
       "      <td>0</td>\n",
       "      <td>0</td>\n",
       "      <td>0</td>\n",
       "    </tr>\n",
       "  </tbody>\n",
       "</table>\n",
       "</div>"
      ],
      "text/plain": [
       "   yActual  yPredicted  y0  yPoint2  yPoint4  yPoint6  yPoint8  yPoint1\n",
       "0        1         0.8   1        1        1        1        1        0\n",
       "1        0         0.6   1        1        1        1        0        0\n",
       "2        1         0.4   1        1        1        0        0        0\n",
       "3        0         0.2   1        1        0        0        0        0"
      ]
     },
     "execution_count": 11,
     "metadata": {},
     "output_type": "execute_result"
    }
   ],
   "source": [
    "data"
   ]
  },
  {
   "cell_type": "code",
   "execution_count": 14,
   "metadata": {},
   "outputs": [
    {
     "name": "stdout",
     "output_type": "stream",
     "text": [
      "FPR for p0 =  1.0\n",
      "TPR for p0 =  1.0\n"
     ]
    }
   ],
   "source": [
    "# For y0\n",
    "true_possitive,true_negative,false_possitive,false_negative = confusion_matrix(data['yActual'],data['y0'])\n",
    "\n",
    "fpr = false_possitive/(false_possitive+true_negative)\n",
    "print('FPR for p0 = ',fpr)\n",
    "\n",
    "tpr = true_possitive/(true_possitive+false_negative)\n",
    "print('TPR for p0 = ',tpr)"
   ]
  },
  {
   "cell_type": "code",
   "execution_count": 15,
   "metadata": {},
   "outputs": [
    {
     "name": "stdout",
     "output_type": "stream",
     "text": [
      "FPR for p0.2 =  1.0\n",
      "TPR for p0.2 =  1.0\n"
     ]
    }
   ],
   "source": [
    "# For y0.2\n",
    "true_possitive,true_negative,false_possitive,false_negative = confusion_matrix(data['yActual'],data['yPoint2'])\n",
    "\n",
    "fpr = false_possitive/(false_possitive+true_negative)\n",
    "print('FPR for p0.2 = ',fpr)\n",
    "\n",
    "tpr = true_possitive/(true_possitive+false_negative)\n",
    "print('TPR for p0.2 = ',tpr)"
   ]
  },
  {
   "cell_type": "code",
   "execution_count": 16,
   "metadata": {},
   "outputs": [
    {
     "name": "stdout",
     "output_type": "stream",
     "text": [
      "FPR for p0.4 =  0.5\n",
      "TPR for p0.4 =  1.0\n"
     ]
    }
   ],
   "source": [
    "# For y0.4\n",
    "true_possitive,true_negative,false_possitive,false_negative = confusion_matrix(data['yActual'],data['yPoint4'])\n",
    "\n",
    "fpr = false_possitive/(false_possitive+true_negative)\n",
    "print('FPR for p0.4 = ',fpr)\n",
    "\n",
    "tpr = true_possitive/(true_possitive+false_negative)\n",
    "print('TPR for p0.4 = ',tpr)"
   ]
  },
  {
   "cell_type": "code",
   "execution_count": 17,
   "metadata": {},
   "outputs": [
    {
     "name": "stdout",
     "output_type": "stream",
     "text": [
      "FPR for p0.6 =  0.5\n",
      "TPR for p0.6 =  0.5\n"
     ]
    }
   ],
   "source": [
    "# For y0.6\n",
    "true_possitive,true_negative,false_possitive,false_negative = confusion_matrix(data['yActual'],data['yPoint6'])\n",
    "\n",
    "fpr = false_possitive/(false_possitive+true_negative)\n",
    "print('FPR for p0.6 = ',fpr)\n",
    "\n",
    "tpr = true_possitive/(true_possitive+false_negative)\n",
    "print('TPR for p0.6 = ',tpr)"
   ]
  },
  {
   "cell_type": "code",
   "execution_count": 18,
   "metadata": {},
   "outputs": [
    {
     "name": "stdout",
     "output_type": "stream",
     "text": [
      "FPR for p0.8 =  0.0\n",
      "TPR for p0.8 =  0.5\n"
     ]
    }
   ],
   "source": [
    "# For y0.8\n",
    "true_possitive,true_negative,false_possitive,false_negative = confusion_matrix(data['yActual'],data['yPoint8'])\n",
    "\n",
    "fpr = false_possitive/(false_possitive+true_negative)\n",
    "print('FPR for p0.8 = ',fpr)\n",
    "\n",
    "tpr = true_possitive/(true_possitive+false_negative)\n",
    "print('TPR for p0.8 = ',tpr)"
   ]
  },
  {
   "cell_type": "code",
   "execution_count": 19,
   "metadata": {},
   "outputs": [
    {
     "name": "stdout",
     "output_type": "stream",
     "text": [
      "FPR for p1 =  0.0\n",
      "TPR for p1 =  0.0\n"
     ]
    }
   ],
   "source": [
    "# For y1\n",
    "true_possitive,true_negative,false_possitive,false_negative = confusion_matrix(data['yActual'],data['yPoint1'])\n",
    "\n",
    "fpr = false_possitive/(false_possitive+true_negative)\n",
    "print('FPR for p1 = ',fpr)\n",
    "\n",
    "tpr = true_possitive/(true_possitive+false_negative)\n",
    "print('TPR for p1 = ',tpr)"
   ]
  },
  {
   "cell_type": "code",
   "execution_count": 20,
   "metadata": {},
   "outputs": [
    {
     "data": {
      "text/html": [
       "<div>\n",
       "<style scoped>\n",
       "    .dataframe tbody tr th:only-of-type {\n",
       "        vertical-align: middle;\n",
       "    }\n",
       "\n",
       "    .dataframe tbody tr th {\n",
       "        vertical-align: top;\n",
       "    }\n",
       "\n",
       "    .dataframe thead th {\n",
       "        text-align: right;\n",
       "    }\n",
       "</style>\n",
       "<table border=\"1\" class=\"dataframe\">\n",
       "  <thead>\n",
       "    <tr style=\"text-align: right;\">\n",
       "      <th></th>\n",
       "      <th>yActual</th>\n",
       "      <th>yPredicted</th>\n",
       "      <th>y0</th>\n",
       "      <th>yPoint2</th>\n",
       "      <th>yPoint4</th>\n",
       "      <th>yPoint6</th>\n",
       "      <th>yPoint8</th>\n",
       "      <th>yPoint1</th>\n",
       "    </tr>\n",
       "  </thead>\n",
       "  <tbody>\n",
       "    <tr>\n",
       "      <th>0</th>\n",
       "      <td>1</td>\n",
       "      <td>0.8</td>\n",
       "      <td>1</td>\n",
       "      <td>1</td>\n",
       "      <td>1</td>\n",
       "      <td>1</td>\n",
       "      <td>1</td>\n",
       "      <td>0</td>\n",
       "    </tr>\n",
       "    <tr>\n",
       "      <th>1</th>\n",
       "      <td>0</td>\n",
       "      <td>0.6</td>\n",
       "      <td>1</td>\n",
       "      <td>1</td>\n",
       "      <td>1</td>\n",
       "      <td>1</td>\n",
       "      <td>0</td>\n",
       "      <td>0</td>\n",
       "    </tr>\n",
       "    <tr>\n",
       "      <th>2</th>\n",
       "      <td>1</td>\n",
       "      <td>0.4</td>\n",
       "      <td>1</td>\n",
       "      <td>1</td>\n",
       "      <td>1</td>\n",
       "      <td>0</td>\n",
       "      <td>0</td>\n",
       "      <td>0</td>\n",
       "    </tr>\n",
       "    <tr>\n",
       "      <th>3</th>\n",
       "      <td>0</td>\n",
       "      <td>0.2</td>\n",
       "      <td>1</td>\n",
       "      <td>1</td>\n",
       "      <td>0</td>\n",
       "      <td>0</td>\n",
       "      <td>0</td>\n",
       "      <td>0</td>\n",
       "    </tr>\n",
       "  </tbody>\n",
       "</table>\n",
       "</div>"
      ],
      "text/plain": [
       "   yActual  yPredicted  y0  yPoint2  yPoint4  yPoint6  yPoint8  yPoint1\n",
       "0        1         0.8   1        1        1        1        1        0\n",
       "1        0         0.6   1        1        1        1        0        0\n",
       "2        1         0.4   1        1        1        0        0        0\n",
       "3        0         0.2   1        1        0        0        0        0"
      ]
     },
     "execution_count": 20,
     "metadata": {},
     "output_type": "execute_result"
    }
   ],
   "source": [
    "data.rename({'yPoint1':'y1'},inplace=True)\n",
    "data"
   ]
  }
 ],
 "metadata": {
  "kernelspec": {
   "display_name": "Python 3",
   "language": "python",
   "name": "python3"
  },
  "language_info": {
   "codemirror_mode": {
    "name": "ipython",
    "version": 3
   },
   "file_extension": ".py",
   "mimetype": "text/x-python",
   "name": "python",
   "nbconvert_exporter": "python",
   "pygments_lexer": "ipython3",
   "version": "3.7.0"
  }
 },
 "nbformat": 4,
 "nbformat_minor": 2
}
