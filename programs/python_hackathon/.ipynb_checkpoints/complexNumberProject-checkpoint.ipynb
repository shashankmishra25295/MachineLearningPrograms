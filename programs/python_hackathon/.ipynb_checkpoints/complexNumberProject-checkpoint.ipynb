{
 "cells": [
  {
   "cell_type": "code",
   "execution_count": 6,
   "metadata": {},
   "outputs": [],
   "source": [
    "class complex_numbers:\n",
    "    \n",
    "    def __init__(self,real,imag):\n",
    "        self.real=real\n",
    "        self.imag=imag\n",
    "    \n",
    "    def __repr__(self):\n",
    "        if self.real == 0.0 and self.imag == 0.0:\n",
    "            return \"0.00\"\n",
    "        if self.real == 0:\n",
    "            return \"%.2fi\" % self.imag\n",
    "        if self.imag == 0:\n",
    "            return \"%.2f\" % self.real\n",
    "        return \"%.2f %s %.2fi\" % (self.real, \"+\" if self.imag >= 0 else \"-\", abs(self.imag))   \n",
    "    \n",
    "    def __add__(self,other):\n",
    "        return self.real + self.imag+i"
   ]
  }
 ],
 "metadata": {
  "kernelspec": {
   "display_name": "Python 3",
   "language": "python",
   "name": "python3"
  },
  "language_info": {
   "codemirror_mode": {
    "name": "ipython",
    "version": 3
   },
   "file_extension": ".py",
   "mimetype": "text/x-python",
   "name": "python",
   "nbconvert_exporter": "python",
   "pygments_lexer": "ipython3",
   "version": "3.7.0"
  }
 },
 "nbformat": 4,
 "nbformat_minor": 2
}
