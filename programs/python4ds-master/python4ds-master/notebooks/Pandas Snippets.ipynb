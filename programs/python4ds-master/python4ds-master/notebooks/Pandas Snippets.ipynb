{
 "cells": [
  {
   "cell_type": "markdown",
   "metadata": {},
   "source": [
    "## Collection of snippets for Pandas"
   ]
  },
  {
   "cell_type": "code",
   "execution_count": 2,
   "metadata": {},
   "outputs": [],
   "source": [
    "import pandas as pd"
   ]
  },
  {
   "cell_type": "markdown",
   "metadata": {},
   "source": [
    "### Any `pd.Series` can also be a `pd.DataFrame`"
   ]
  },
  {
   "cell_type": "code",
   "execution_count": 3,
   "metadata": {},
   "outputs": [],
   "source": [
    "my_list = [1, 2, 3]"
   ]
  },
  {
   "cell_type": "code",
   "execution_count": 4,
   "metadata": {},
   "outputs": [],
   "source": [
    "index = [\"This\", \"That\", \"What!\"]"
   ]
  },
  {
   "cell_type": "code",
   "execution_count": 5,
   "metadata": {},
   "outputs": [
    {
     "data": {
      "text/html": [
       "<div>\n",
       "<style scoped>\n",
       "    .dataframe tbody tr th:only-of-type {\n",
       "        vertical-align: middle;\n",
       "    }\n",
       "\n",
       "    .dataframe tbody tr th {\n",
       "        vertical-align: top;\n",
       "    }\n",
       "\n",
       "    .dataframe thead th {\n",
       "        text-align: right;\n",
       "    }\n",
       "</style>\n",
       "<table border=\"1\" class=\"dataframe\">\n",
       "  <thead>\n",
       "    <tr style=\"text-align: right;\">\n",
       "      <th></th>\n",
       "      <th>0</th>\n",
       "    </tr>\n",
       "  </thead>\n",
       "  <tbody>\n",
       "    <tr>\n",
       "      <th>This</th>\n",
       "      <td>1</td>\n",
       "    </tr>\n",
       "    <tr>\n",
       "      <th>That</th>\n",
       "      <td>2</td>\n",
       "    </tr>\n",
       "    <tr>\n",
       "      <th>What!</th>\n",
       "      <td>3</td>\n",
       "    </tr>\n",
       "  </tbody>\n",
       "</table>\n",
       "</div>"
      ],
      "text/plain": [
       "       0\n",
       "This   1\n",
       "That   2\n",
       "What!  3"
      ]
     },
     "execution_count": 5,
     "metadata": {},
     "output_type": "execute_result"
    }
   ],
   "source": [
    "pd.DataFrame(my_list, index=index)"
   ]
  },
  {
   "cell_type": "code",
   "execution_count": 6,
   "metadata": {},
   "outputs": [
    {
     "data": {
      "text/html": [
       "<div>\n",
       "<style scoped>\n",
       "    .dataframe tbody tr th:only-of-type {\n",
       "        vertical-align: middle;\n",
       "    }\n",
       "\n",
       "    .dataframe tbody tr th {\n",
       "        vertical-align: top;\n",
       "    }\n",
       "\n",
       "    .dataframe thead th {\n",
       "        text-align: right;\n",
       "    }\n",
       "</style>\n",
       "<table border=\"1\" class=\"dataframe\">\n",
       "  <thead>\n",
       "    <tr style=\"text-align: right;\">\n",
       "      <th></th>\n",
       "      <th>a_number</th>\n",
       "    </tr>\n",
       "  </thead>\n",
       "  <tbody>\n",
       "    <tr>\n",
       "      <th>This</th>\n",
       "      <td>1</td>\n",
       "    </tr>\n",
       "    <tr>\n",
       "      <th>That</th>\n",
       "      <td>2</td>\n",
       "    </tr>\n",
       "    <tr>\n",
       "      <th>What!</th>\n",
       "      <td>3</td>\n",
       "    </tr>\n",
       "  </tbody>\n",
       "</table>\n",
       "</div>"
      ],
      "text/plain": [
       "       a_number\n",
       "This          1\n",
       "That          2\n",
       "What!         3"
      ]
     },
     "execution_count": 6,
     "metadata": {},
     "output_type": "execute_result"
    }
   ],
   "source": [
    "pd.DataFrame(my_list, columns=['a_number'], index=index)"
   ]
  },
  {
   "cell_type": "markdown",
   "metadata": {},
   "source": [
    "### Creating dataframes using dictionaries"
   ]
  },
  {
   "cell_type": "code",
   "execution_count": 202,
   "metadata": {},
   "outputs": [
    {
     "data": {
      "text/plain": [
       "name    Prathamesh\n",
       "age             28\n",
       "dtype: object"
      ]
     },
     "execution_count": 202,
     "metadata": {},
     "output_type": "execute_result"
    }
   ],
   "source": [
    "pd.Series({'name': 'Prathamesh', 'age': 28})"
   ]
  },
  {
   "cell_type": "code",
   "execution_count": 206,
   "metadata": {},
   "outputs": [],
   "source": [
    "name = ['Jeremy', 'Sebastian', 'Rachel']\n",
    "age = [45, 29, 40]"
   ]
  },
  {
   "cell_type": "code",
   "execution_count": 212,
   "metadata": {},
   "outputs": [
    {
     "data": {
      "text/html": [
       "<div>\n",
       "<style scoped>\n",
       "    .dataframe tbody tr th:only-of-type {\n",
       "        vertical-align: middle;\n",
       "    }\n",
       "\n",
       "    .dataframe tbody tr th {\n",
       "        vertical-align: top;\n",
       "    }\n",
       "\n",
       "    .dataframe thead th {\n",
       "        text-align: right;\n",
       "    }\n",
       "</style>\n",
       "<table border=\"1\" class=\"dataframe\">\n",
       "  <thead>\n",
       "    <tr style=\"text-align: right;\">\n",
       "      <th></th>\n",
       "      <th>first_name</th>\n",
       "      <th>surname</th>\n",
       "      <th>age</th>\n",
       "    </tr>\n",
       "  </thead>\n",
       "  <tbody>\n",
       "    <tr>\n",
       "      <th>0</th>\n",
       "      <td>Prathamesh</td>\n",
       "      <td>Sarang</td>\n",
       "      <td>28</td>\n",
       "    </tr>\n",
       "    <tr>\n",
       "      <th>1</th>\n",
       "      <td>This</td>\n",
       "      <td></td>\n",
       "      <td></td>\n",
       "    </tr>\n",
       "    <tr>\n",
       "      <th>2</th>\n",
       "      <td>Vinit</td>\n",
       "      <td>Sarang</td>\n",
       "      <td>26</td>\n",
       "    </tr>\n",
       "  </tbody>\n",
       "</table>\n",
       "</div>"
      ],
      "text/plain": [
       "   first_name surname age\n",
       "0  Prathamesh  Sarang  28\n",
       "1        This            \n",
       "2       Vinit  Sarang  26"
      ]
     },
     "execution_count": 212,
     "metadata": {},
     "output_type": "execute_result"
    }
   ],
   "source": [
    "pd.DataFrame({'first_name': ['Prathamesh', 'This', 'Vinit'],\n",
    "              'surname': [\"Sarang\", \"\", \"Sarang\"],\n",
    "              'age': [28, \"\", 26]})\n",
    "\n",
    "#surname"
   ]
  },
  {
   "cell_type": "code",
   "execution_count": 224,
   "metadata": {},
   "outputs": [
    {
     "data": {
      "text/html": [
       "<div>\n",
       "<style scoped>\n",
       "    .dataframe tbody tr th:only-of-type {\n",
       "        vertical-align: middle;\n",
       "    }\n",
       "\n",
       "    .dataframe tbody tr th {\n",
       "        vertical-align: top;\n",
       "    }\n",
       "\n",
       "    .dataframe thead th {\n",
       "        text-align: right;\n",
       "    }\n",
       "</style>\n",
       "<table border=\"1\" class=\"dataframe\">\n",
       "  <thead>\n",
       "    <tr style=\"text-align: right;\">\n",
       "      <th></th>\n",
       "      <th>0</th>\n",
       "      <th>1</th>\n",
       "      <th>2</th>\n",
       "    </tr>\n",
       "  </thead>\n",
       "  <tbody>\n",
       "    <tr>\n",
       "      <th>0</th>\n",
       "      <td>Prathamesh</td>\n",
       "      <td>28</td>\n",
       "      <td>Sarang</td>\n",
       "    </tr>\n",
       "    <tr>\n",
       "      <th>1</th>\n",
       "      <td>Vinit</td>\n",
       "      <td>26</td>\n",
       "      <td>Sarang</td>\n",
       "    </tr>\n",
       "  </tbody>\n",
       "</table>\n",
       "</div>"
      ],
      "text/plain": [
       "            0   1       2\n",
       "0  Prathamesh  28  Sarang\n",
       "1       Vinit  26  Sarang"
      ]
     },
     "execution_count": 224,
     "metadata": {},
     "output_type": "execute_result"
    }
   ],
   "source": [
    "pd.DataFrame([['Prathamesh', 'Vinit'],\n",
    "             [28, 26], ['Sarang', 'Sarang']]).T"
   ]
  },
  {
   "cell_type": "code",
   "execution_count": 222,
   "metadata": {},
   "outputs": [
    {
     "data": {
      "text/html": [
       "<div>\n",
       "<style scoped>\n",
       "    .dataframe tbody tr th:only-of-type {\n",
       "        vertical-align: middle;\n",
       "    }\n",
       "\n",
       "    .dataframe tbody tr th {\n",
       "        vertical-align: top;\n",
       "    }\n",
       "\n",
       "    .dataframe thead th {\n",
       "        text-align: right;\n",
       "    }\n",
       "</style>\n",
       "<table border=\"1\" class=\"dataframe\">\n",
       "  <thead>\n",
       "    <tr style=\"text-align: right;\">\n",
       "      <th></th>\n",
       "      <th>name</th>\n",
       "      <th>age</th>\n",
       "      <th>surname</th>\n",
       "    </tr>\n",
       "  </thead>\n",
       "  <tbody>\n",
       "    <tr>\n",
       "      <th>0</th>\n",
       "      <td>Prathamesh</td>\n",
       "      <td>28</td>\n",
       "      <td>Sarang</td>\n",
       "    </tr>\n",
       "    <tr>\n",
       "      <th>1</th>\n",
       "      <td>Vinit</td>\n",
       "      <td>26</td>\n",
       "      <td>Sarang</td>\n",
       "    </tr>\n",
       "  </tbody>\n",
       "</table>\n",
       "</div>"
      ],
      "text/plain": [
       "         name  age surname\n",
       "0  Prathamesh   28  Sarang\n",
       "1       Vinit   26  Sarang"
      ]
     },
     "execution_count": 222,
     "metadata": {},
     "output_type": "execute_result"
    }
   ],
   "source": [
    "pd.DataFrame([['Prathamesh', 28, 'Sarang'], \n",
    "              ['Vinit', 26, 'Sarang']], \n",
    "             columns=['name', 'age', 'surname'])"
   ]
  },
  {
   "cell_type": "code",
   "execution_count": null,
   "metadata": {},
   "outputs": [],
   "source": []
  },
  {
   "cell_type": "markdown",
   "metadata": {},
   "source": [
    "### We know that each column is a `pd.Series`"
   ]
  },
  {
   "cell_type": "code",
   "execution_count": 231,
   "metadata": {},
   "outputs": [
    {
     "data": {
      "text/html": [
       "<div>\n",
       "<style scoped>\n",
       "    .dataframe tbody tr th:only-of-type {\n",
       "        vertical-align: middle;\n",
       "    }\n",
       "\n",
       "    .dataframe tbody tr th {\n",
       "        vertical-align: top;\n",
       "    }\n",
       "\n",
       "    .dataframe thead th {\n",
       "        text-align: right;\n",
       "    }\n",
       "</style>\n",
       "<table border=\"1\" class=\"dataframe\">\n",
       "  <thead>\n",
       "    <tr style=\"text-align: right;\">\n",
       "      <th></th>\n",
       "      <th>0</th>\n",
       "      <th>1</th>\n",
       "      <th>2</th>\n",
       "    </tr>\n",
       "  </thead>\n",
       "  <tbody>\n",
       "    <tr>\n",
       "      <th>0</th>\n",
       "      <td>Prathamesh</td>\n",
       "      <td>28</td>\n",
       "      <td>Sarang</td>\n",
       "    </tr>\n",
       "    <tr>\n",
       "      <th>1</th>\n",
       "      <td>Vinit</td>\n",
       "      <td>29</td>\n",
       "      <td>Sarang</td>\n",
       "    </tr>\n",
       "  </tbody>\n",
       "</table>\n",
       "</div>"
      ],
      "text/plain": [
       "            0   1       2\n",
       "0  Prathamesh  28  Sarang\n",
       "1       Vinit  29  Sarang"
      ]
     },
     "execution_count": 231,
     "metadata": {},
     "output_type": "execute_result"
    }
   ],
   "source": [
    "pd.DataFrame([pd.Series(['Prathamesh', 'Vinit']),\n",
    "pd.Series([28, 29]),\n",
    "pd.Series(['Sarang', 'Sarang'])]).T"
   ]
  },
  {
   "cell_type": "markdown",
   "metadata": {},
   "source": [
    "### We know that each column is a `pd.Series`"
   ]
  },
  {
   "cell_type": "code",
   "execution_count": 8,
   "metadata": {},
   "outputs": [
    {
     "data": {
      "text/plain": [
       "this     1\n",
       "that     2\n",
       "what!    3\n",
       "dtype: int64"
      ]
     },
     "execution_count": 8,
     "metadata": {},
     "output_type": "execute_result"
    }
   ],
   "source": [
    "pd.Series(my_dict)"
   ]
  },
  {
   "cell_type": "code",
   "execution_count": 9,
   "metadata": {},
   "outputs": [
    {
     "data": {
      "text/html": [
       "<div>\n",
       "<style scoped>\n",
       "    .dataframe tbody tr th:only-of-type {\n",
       "        vertical-align: middle;\n",
       "    }\n",
       "\n",
       "    .dataframe tbody tr th {\n",
       "        vertical-align: top;\n",
       "    }\n",
       "\n",
       "    .dataframe thead th {\n",
       "        text-align: right;\n",
       "    }\n",
       "</style>\n",
       "<table border=\"1\" class=\"dataframe\">\n",
       "  <thead>\n",
       "    <tr style=\"text-align: right;\">\n",
       "      <th></th>\n",
       "      <th>0</th>\n",
       "    </tr>\n",
       "  </thead>\n",
       "  <tbody>\n",
       "    <tr>\n",
       "      <th>this</th>\n",
       "      <td>1</td>\n",
       "    </tr>\n",
       "    <tr>\n",
       "      <th>that</th>\n",
       "      <td>2</td>\n",
       "    </tr>\n",
       "    <tr>\n",
       "      <th>what!</th>\n",
       "      <td>3</td>\n",
       "    </tr>\n",
       "  </tbody>\n",
       "</table>\n",
       "</div>"
      ],
      "text/plain": [
       "       0\n",
       "this   1\n",
       "that   2\n",
       "what!  3"
      ]
     },
     "execution_count": 9,
     "metadata": {},
     "output_type": "execute_result"
    }
   ],
   "source": [
    "pd.DataFrame(pd.Series(my_dict))"
   ]
  },
  {
   "cell_type": "markdown",
   "metadata": {},
   "source": [
    "## Q: What would be the output of this?"
   ]
  },
  {
   "cell_type": "code",
   "execution_count": 10,
   "metadata": {},
   "outputs": [
    {
     "data": {
      "text/html": [
       "<div>\n",
       "<style scoped>\n",
       "    .dataframe tbody tr th:only-of-type {\n",
       "        vertical-align: middle;\n",
       "    }\n",
       "\n",
       "    .dataframe tbody tr th {\n",
       "        vertical-align: top;\n",
       "    }\n",
       "\n",
       "    .dataframe thead th {\n",
       "        text-align: right;\n",
       "    }\n",
       "</style>\n",
       "<table border=\"1\" class=\"dataframe\">\n",
       "  <thead>\n",
       "    <tr style=\"text-align: right;\">\n",
       "      <th></th>\n",
       "      <th>a</th>\n",
       "      <th>b</th>\n",
       "      <th>c</th>\n",
       "    </tr>\n",
       "  </thead>\n",
       "  <tbody>\n",
       "    <tr>\n",
       "      <th>0</th>\n",
       "      <td>1.0</td>\n",
       "      <td>2</td>\n",
       "      <td>NaN</td>\n",
       "    </tr>\n",
       "    <tr>\n",
       "      <th>1</th>\n",
       "      <td>NaN</td>\n",
       "      <td>3</td>\n",
       "      <td>4.0</td>\n",
       "    </tr>\n",
       "  </tbody>\n",
       "</table>\n",
       "</div>"
      ],
      "text/plain": [
       "     a  b    c\n",
       "0  1.0  2  NaN\n",
       "1  NaN  3  4.0"
      ]
     },
     "execution_count": 10,
     "metadata": {},
     "output_type": "execute_result"
    }
   ],
   "source": [
    "pd.DataFrame([{'a': 1, 'b': 2}, {'b': 3, 'c': 4}])"
   ]
  },
  {
   "cell_type": "markdown",
   "metadata": {},
   "source": [
    "## Before moving on, I also want to talk about numpy vectorization again!"
   ]
  },
  {
   "cell_type": "code",
   "execution_count": 56,
   "metadata": {},
   "outputs": [
    {
     "data": {
      "text/plain": [
       "array([1, 3, 4, 5, 5])"
      ]
     },
     "execution_count": 56,
     "metadata": {},
     "output_type": "execute_result"
    }
   ],
   "source": [
    "np.array([1, 3, 4, 5, 5])"
   ]
  },
  {
   "cell_type": "code",
   "execution_count": 57,
   "metadata": {
    "collapsed": true
   },
   "outputs": [],
   "source": [
    "my_arr = np.array([1, 3, 4, 5, 5])"
   ]
  },
  {
   "cell_type": "code",
   "execution_count": 58,
   "metadata": {},
   "outputs": [
    {
     "data": {
      "text/plain": [
       "array([False, False, False,  True,  True], dtype=bool)"
      ]
     },
     "execution_count": 58,
     "metadata": {},
     "output_type": "execute_result"
    }
   ],
   "source": [
    "my_arr == 5"
   ]
  },
  {
   "cell_type": "markdown",
   "metadata": {},
   "source": [
    "## Want to get the slice using filter"
   ]
  },
  {
   "cell_type": "code",
   "execution_count": 59,
   "metadata": {},
   "outputs": [
    {
     "data": {
      "text/plain": [
       "array([5, 5])"
      ]
     },
     "execution_count": 59,
     "metadata": {},
     "output_type": "execute_result"
    }
   ],
   "source": [
    "my_arr[my_arr == 5]"
   ]
  },
  {
   "cell_type": "markdown",
   "metadata": {},
   "source": [
    "## You can do it similarly using pandas!"
   ]
  },
  {
   "cell_type": "code",
   "execution_count": 60,
   "metadata": {},
   "outputs": [
    {
     "data": {
      "text/html": [
       "<div>\n",
       "<style>\n",
       "    .dataframe thead tr:only-child th {\n",
       "        text-align: right;\n",
       "    }\n",
       "\n",
       "    .dataframe thead th {\n",
       "        text-align: left;\n",
       "    }\n",
       "\n",
       "    .dataframe tbody tr th {\n",
       "        vertical-align: top;\n",
       "    }\n",
       "</style>\n",
       "<table border=\"1\" class=\"dataframe\">\n",
       "  <thead>\n",
       "    <tr style=\"text-align: right;\">\n",
       "      <th></th>\n",
       "      <th>Date/Time</th>\n",
       "      <th>Temp (C)</th>\n",
       "      <th>Dew Point Temp (C)</th>\n",
       "      <th>Rel Hum (%)</th>\n",
       "      <th>Wind Spd (km/h)</th>\n",
       "      <th>Visibility (km)</th>\n",
       "      <th>Stn Press (kPa)</th>\n",
       "      <th>Weather</th>\n",
       "    </tr>\n",
       "  </thead>\n",
       "  <tbody>\n",
       "    <tr>\n",
       "      <th>0</th>\n",
       "      <td>2012-01-01 00:00:00</td>\n",
       "      <td>-1.8</td>\n",
       "      <td>-3.9</td>\n",
       "      <td>86</td>\n",
       "      <td>4</td>\n",
       "      <td>8.0</td>\n",
       "      <td>101.24</td>\n",
       "      <td>Fog</td>\n",
       "    </tr>\n",
       "    <tr>\n",
       "      <th>1</th>\n",
       "      <td>2012-01-01 01:00:00</td>\n",
       "      <td>-1.8</td>\n",
       "      <td>-3.7</td>\n",
       "      <td>87</td>\n",
       "      <td>4</td>\n",
       "      <td>8.0</td>\n",
       "      <td>101.24</td>\n",
       "      <td>Fog</td>\n",
       "    </tr>\n",
       "    <tr>\n",
       "      <th>2</th>\n",
       "      <td>2012-01-01 02:00:00</td>\n",
       "      <td>-1.8</td>\n",
       "      <td>-3.4</td>\n",
       "      <td>89</td>\n",
       "      <td>7</td>\n",
       "      <td>4.0</td>\n",
       "      <td>101.26</td>\n",
       "      <td>Freezing Drizzle,Fog</td>\n",
       "    </tr>\n",
       "    <tr>\n",
       "      <th>3</th>\n",
       "      <td>2012-01-01 03:00:00</td>\n",
       "      <td>-1.5</td>\n",
       "      <td>-3.2</td>\n",
       "      <td>88</td>\n",
       "      <td>6</td>\n",
       "      <td>4.0</td>\n",
       "      <td>101.27</td>\n",
       "      <td>Freezing Drizzle,Fog</td>\n",
       "    </tr>\n",
       "    <tr>\n",
       "      <th>4</th>\n",
       "      <td>2012-01-01 04:00:00</td>\n",
       "      <td>-1.5</td>\n",
       "      <td>-3.3</td>\n",
       "      <td>88</td>\n",
       "      <td>7</td>\n",
       "      <td>4.8</td>\n",
       "      <td>101.23</td>\n",
       "      <td>Fog</td>\n",
       "    </tr>\n",
       "  </tbody>\n",
       "</table>\n",
       "</div>"
      ],
      "text/plain": [
       "             Date/Time  Temp (C)  Dew Point Temp (C)  Rel Hum (%)  \\\n",
       "0  2012-01-01 00:00:00      -1.8                -3.9           86   \n",
       "1  2012-01-01 01:00:00      -1.8                -3.7           87   \n",
       "2  2012-01-01 02:00:00      -1.8                -3.4           89   \n",
       "3  2012-01-01 03:00:00      -1.5                -3.2           88   \n",
       "4  2012-01-01 04:00:00      -1.5                -3.3           88   \n",
       "\n",
       "   Wind Spd (km/h)  Visibility (km)  Stn Press (kPa)               Weather  \n",
       "0                4              8.0           101.24                   Fog  \n",
       "1                4              8.0           101.24                   Fog  \n",
       "2                7              4.0           101.26  Freezing Drizzle,Fog  \n",
       "3                6              4.0           101.27  Freezing Drizzle,Fog  \n",
       "4                7              4.8           101.23                   Fog  "
      ]
     },
     "execution_count": 60,
     "metadata": {},
     "output_type": "execute_result"
    }
   ],
   "source": [
    "weather_df.head()"
   ]
  },
  {
   "cell_type": "markdown",
   "metadata": {},
   "source": [
    "### Q: You need to return rows that has 'Weather == Kya Chal raha hai'"
   ]
  },
  {
   "cell_type": "code",
   "execution_count": null,
   "metadata": {
    "collapsed": true
   },
   "outputs": [],
   "source": []
  },
  {
   "cell_type": "markdown",
   "metadata": {},
   "source": [
    "### Create a subset where Wind Speed is > 4"
   ]
  },
  {
   "cell_type": "code",
   "execution_count": 349,
   "metadata": {},
   "outputs": [
    {
     "data": {
      "text/plain": [
       "Index(['Date/Time', 'Temp (C)', 'Dew Point Temp (C)', 'Rel Hum (%)',\n",
       "       'Wind Spd (km/h)', 'Visibility (km)', 'Stn Press (kPa)', 'Weather'],\n",
       "      dtype='object')"
      ]
     },
     "execution_count": 349,
     "metadata": {},
     "output_type": "execute_result"
    }
   ],
   "source": [
    "weather_df.columns"
   ]
  },
  {
   "cell_type": "code",
   "execution_count": 1,
   "metadata": {},
   "outputs": [],
   "source": [
    "weather_df[weather_df['Wind Spd (km/h)'] == 4]"
   ]
  },
  {
   "cell_type": "markdown",
   "metadata": {
    "ExecuteTime": {
     "end_time": "2017-09-22T12:41:32.876489Z",
     "start_time": "2017-09-22T12:41:32.860307Z"
    },
    "slideshow": {
     "slide_type": "subslide"
    }
   },
   "source": [
    "### Find all instances when wind speed was above 24 and visibility was 25"
   ]
  },
  {
   "cell_type": "code",
   "execution_count": 28,
   "metadata": {
    "slideshow": {
     "slide_type": "fragment"
    }
   },
   "outputs": [
    {
     "data": {
      "text/html": [
       "<div>\n",
       "<style scoped>\n",
       "    .dataframe tbody tr th:only-of-type {\n",
       "        vertical-align: middle;\n",
       "    }\n",
       "\n",
       "    .dataframe tbody tr th {\n",
       "        vertical-align: top;\n",
       "    }\n",
       "\n",
       "    .dataframe thead th {\n",
       "        text-align: right;\n",
       "    }\n",
       "</style>\n",
       "<table border=\"1\" class=\"dataframe\">\n",
       "  <thead>\n",
       "    <tr style=\"text-align: right;\">\n",
       "      <th></th>\n",
       "      <th>Temp (C)</th>\n",
       "      <th>Dew Point Temp (C)</th>\n",
       "      <th>Rel Hum (%)</th>\n",
       "      <th>Wind Spd (km/h)</th>\n",
       "      <th>Visibility (km)</th>\n",
       "      <th>Stn Press (kPa)</th>\n",
       "      <th>Weather</th>\n",
       "    </tr>\n",
       "    <tr>\n",
       "      <th>Date/Time</th>\n",
       "      <th></th>\n",
       "      <th></th>\n",
       "      <th></th>\n",
       "      <th></th>\n",
       "      <th></th>\n",
       "      <th></th>\n",
       "      <th></th>\n",
       "    </tr>\n",
       "  </thead>\n",
       "  <tbody>\n",
       "    <tr>\n",
       "      <th>2012-01-01 23:00:00</th>\n",
       "      <td>5.3</td>\n",
       "      <td>2.0</td>\n",
       "      <td>79</td>\n",
       "      <td>30</td>\n",
       "      <td>25.0</td>\n",
       "      <td>99.31</td>\n",
       "      <td>Cloudy</td>\n",
       "    </tr>\n",
       "    <tr>\n",
       "      <th>2012-01-02 00:00:00</th>\n",
       "      <td>5.2</td>\n",
       "      <td>1.5</td>\n",
       "      <td>77</td>\n",
       "      <td>35</td>\n",
       "      <td>25.0</td>\n",
       "      <td>99.26</td>\n",
       "      <td>Rain Showers</td>\n",
       "    </tr>\n",
       "    <tr>\n",
       "      <th>2012-01-02 01:00:00</th>\n",
       "      <td>4.6</td>\n",
       "      <td>0.0</td>\n",
       "      <td>72</td>\n",
       "      <td>39</td>\n",
       "      <td>25.0</td>\n",
       "      <td>99.26</td>\n",
       "      <td>Cloudy</td>\n",
       "    </tr>\n",
       "    <tr>\n",
       "      <th>2012-01-02 02:00:00</th>\n",
       "      <td>3.9</td>\n",
       "      <td>-0.9</td>\n",
       "      <td>71</td>\n",
       "      <td>32</td>\n",
       "      <td>25.0</td>\n",
       "      <td>99.26</td>\n",
       "      <td>Mostly Cloudy</td>\n",
       "    </tr>\n",
       "    <tr>\n",
       "      <th>2012-01-02 03:00:00</th>\n",
       "      <td>3.7</td>\n",
       "      <td>-1.5</td>\n",
       "      <td>69</td>\n",
       "      <td>33</td>\n",
       "      <td>25.0</td>\n",
       "      <td>99.30</td>\n",
       "      <td>Mostly Cloudy</td>\n",
       "    </tr>\n",
       "  </tbody>\n",
       "</table>\n",
       "</div>"
      ],
      "text/plain": [
       "                     Temp (C)  Dew Point Temp (C)  Rel Hum (%)  \\\n",
       "Date/Time                                                        \n",
       "2012-01-01 23:00:00       5.3                 2.0           79   \n",
       "2012-01-02 00:00:00       5.2                 1.5           77   \n",
       "2012-01-02 01:00:00       4.6                 0.0           72   \n",
       "2012-01-02 02:00:00       3.9                -0.9           71   \n",
       "2012-01-02 03:00:00       3.7                -1.5           69   \n",
       "\n",
       "                     Wind Spd (km/h)  Visibility (km)  Stn Press (kPa)  \\\n",
       "Date/Time                                                                \n",
       "2012-01-01 23:00:00               30             25.0            99.31   \n",
       "2012-01-02 00:00:00               35             25.0            99.26   \n",
       "2012-01-02 01:00:00               39             25.0            99.26   \n",
       "2012-01-02 02:00:00               32             25.0            99.26   \n",
       "2012-01-02 03:00:00               33             25.0            99.30   \n",
       "\n",
       "                           Weather  \n",
       "Date/Time                           \n",
       "2012-01-01 23:00:00         Cloudy  \n",
       "2012-01-02 00:00:00   Rain Showers  \n",
       "2012-01-02 01:00:00         Cloudy  \n",
       "2012-01-02 02:00:00  Mostly Cloudy  \n",
       "2012-01-02 03:00:00  Mostly Cloudy  "
      ]
     },
     "execution_count": 28,
     "metadata": {},
     "output_type": "execute_result"
    }
   ],
   "source": [
    "df = weather_df2[(weather_df2['Wind Spd (km/h)'] > 24) & (weather_df2['Visibility (km)']== 25)]\n",
    "df.head()"
   ]
  },
  {
   "cell_type": "code",
   "execution_count": null,
   "metadata": {},
   "outputs": [],
   "source": []
  },
  {
   "cell_type": "markdown",
   "metadata": {},
   "source": [
    "## `df.query`\n",
    "\n",
    ">DataFrame.query: Query the columns of a frame with a boolean expression."
   ]
  },
  {
   "cell_type": "code",
   "execution_count": 49,
   "metadata": {
    "slideshow": {
     "slide_type": "fragment"
    }
   },
   "outputs": [],
   "source": [
    "# Using loc or iloc\n",
    "# NOTE: slice is `:5:2`, not 6 !\n",
    "# df.loc[row number/slice, 'Column name/s']\n"
   ]
  },
  {
   "cell_type": "code",
   "execution_count": 55,
   "metadata": {},
   "outputs": [],
   "source": [
    "## iloc == numpy slicing! Damn! \n",
    "## df.iloc[row number/slice, column number/slice]"
   ]
  },
  {
   "cell_type": "code",
   "execution_count": null,
   "metadata": {},
   "outputs": [],
   "source": []
  },
  {
   "cell_type": "markdown",
   "metadata": {},
   "source": [
    "## You can do a lot of things with the indices as well: `df.sort_index`"
   ]
  },
  {
   "cell_type": "code",
   "execution_count": 37,
   "metadata": {},
   "outputs": [
    {
     "data": {
      "text/html": [
       "<div>\n",
       "<style>\n",
       "    .dataframe thead tr:only-child th {\n",
       "        text-align: right;\n",
       "    }\n",
       "\n",
       "    .dataframe thead th {\n",
       "        text-align: left;\n",
       "    }\n",
       "\n",
       "    .dataframe tbody tr th {\n",
       "        vertical-align: top;\n",
       "    }\n",
       "</style>\n",
       "<table border=\"1\" class=\"dataframe\">\n",
       "  <thead>\n",
       "    <tr style=\"text-align: right;\">\n",
       "      <th></th>\n",
       "      <th>Temp (C)</th>\n",
       "      <th>Dew Point Temp (C)</th>\n",
       "      <th>Rel Hum (%)</th>\n",
       "      <th>Wind Spd (km/h)</th>\n",
       "      <th>Visibility (km)</th>\n",
       "      <th>Stn Press (kPa)</th>\n",
       "      <th>Weather</th>\n",
       "    </tr>\n",
       "    <tr>\n",
       "      <th>Date/Time</th>\n",
       "      <th></th>\n",
       "      <th></th>\n",
       "      <th></th>\n",
       "      <th></th>\n",
       "      <th></th>\n",
       "      <th></th>\n",
       "      <th></th>\n",
       "    </tr>\n",
       "  </thead>\n",
       "  <tbody>\n",
       "    <tr>\n",
       "      <th>2012-12-31 23:00:00</th>\n",
       "      <td>0.0</td>\n",
       "      <td>-2.1</td>\n",
       "      <td>86</td>\n",
       "      <td>30</td>\n",
       "      <td>11.3</td>\n",
       "      <td>99.89</td>\n",
       "      <td>Snow</td>\n",
       "    </tr>\n",
       "    <tr>\n",
       "      <th>2012-12-31 22:00:00</th>\n",
       "      <td>-0.2</td>\n",
       "      <td>-1.8</td>\n",
       "      <td>89</td>\n",
       "      <td>28</td>\n",
       "      <td>9.7</td>\n",
       "      <td>99.91</td>\n",
       "      <td>Snow</td>\n",
       "    </tr>\n",
       "    <tr>\n",
       "      <th>2012-12-31 21:00:00</th>\n",
       "      <td>-0.5</td>\n",
       "      <td>-1.5</td>\n",
       "      <td>93</td>\n",
       "      <td>28</td>\n",
       "      <td>4.8</td>\n",
       "      <td>99.95</td>\n",
       "      <td>Snow</td>\n",
       "    </tr>\n",
       "    <tr>\n",
       "      <th>2012-12-31 20:00:00</th>\n",
       "      <td>0.2</td>\n",
       "      <td>-2.4</td>\n",
       "      <td>83</td>\n",
       "      <td>24</td>\n",
       "      <td>9.7</td>\n",
       "      <td>100.03</td>\n",
       "      <td>Snow</td>\n",
       "    </tr>\n",
       "    <tr>\n",
       "      <th>2012-12-31 19:00:00</th>\n",
       "      <td>0.1</td>\n",
       "      <td>-2.7</td>\n",
       "      <td>81</td>\n",
       "      <td>30</td>\n",
       "      <td>9.7</td>\n",
       "      <td>100.13</td>\n",
       "      <td>Snow</td>\n",
       "    </tr>\n",
       "  </tbody>\n",
       "</table>\n",
       "</div>"
      ],
      "text/plain": [
       "                     Temp (C)  Dew Point Temp (C)  Rel Hum (%)  \\\n",
       "Date/Time                                                        \n",
       "2012-12-31 23:00:00       0.0                -2.1           86   \n",
       "2012-12-31 22:00:00      -0.2                -1.8           89   \n",
       "2012-12-31 21:00:00      -0.5                -1.5           93   \n",
       "2012-12-31 20:00:00       0.2                -2.4           83   \n",
       "2012-12-31 19:00:00       0.1                -2.7           81   \n",
       "\n",
       "                     Wind Spd (km/h)  Visibility (km)  Stn Press (kPa) Weather  \n",
       "Date/Time                                                                       \n",
       "2012-12-31 23:00:00               30             11.3            99.89    Snow  \n",
       "2012-12-31 22:00:00               28              9.7            99.91    Snow  \n",
       "2012-12-31 21:00:00               28              4.8            99.95    Snow  \n",
       "2012-12-31 20:00:00               24              9.7           100.03    Snow  \n",
       "2012-12-31 19:00:00               30              9.7           100.13    Snow  "
      ]
     },
     "execution_count": 37,
     "metadata": {},
     "output_type": "execute_result"
    }
   ],
   "source": [
    "weather_df2.sort_index(ascending=False).head()"
   ]
  },
  {
   "cell_type": "markdown",
   "metadata": {},
   "source": [
    "## If you have sort values by index, then shouldn't there be sort_by_value?"
   ]
  },
  {
   "cell_type": "code",
   "execution_count": 41,
   "metadata": {},
   "outputs": [
    {
     "data": {
      "text/html": [
       "<div>\n",
       "<style>\n",
       "    .dataframe thead tr:only-child th {\n",
       "        text-align: right;\n",
       "    }\n",
       "\n",
       "    .dataframe thead th {\n",
       "        text-align: left;\n",
       "    }\n",
       "\n",
       "    .dataframe tbody tr th {\n",
       "        vertical-align: top;\n",
       "    }\n",
       "</style>\n",
       "<table border=\"1\" class=\"dataframe\">\n",
       "  <thead>\n",
       "    <tr style=\"text-align: right;\">\n",
       "      <th></th>\n",
       "      <th>Temp (C)</th>\n",
       "      <th>Dew Point Temp (C)</th>\n",
       "      <th>Rel Hum (%)</th>\n",
       "      <th>Wind Spd (km/h)</th>\n",
       "      <th>Visibility (km)</th>\n",
       "      <th>Stn Press (kPa)</th>\n",
       "      <th>Weather</th>\n",
       "    </tr>\n",
       "    <tr>\n",
       "      <th>Date/Time</th>\n",
       "      <th></th>\n",
       "      <th></th>\n",
       "      <th></th>\n",
       "      <th></th>\n",
       "      <th></th>\n",
       "      <th></th>\n",
       "      <th></th>\n",
       "    </tr>\n",
       "  </thead>\n",
       "  <tbody>\n",
       "    <tr>\n",
       "      <th>2012-06-21 15:00:00</th>\n",
       "      <td>33.0</td>\n",
       "      <td>19.0</td>\n",
       "      <td>44</td>\n",
       "      <td>24</td>\n",
       "      <td>24.1</td>\n",
       "      <td>100.20</td>\n",
       "      <td>Mainly Clear</td>\n",
       "    </tr>\n",
       "    <tr>\n",
       "      <th>2012-07-14 15:00:00</th>\n",
       "      <td>33.0</td>\n",
       "      <td>16.8</td>\n",
       "      <td>38</td>\n",
       "      <td>22</td>\n",
       "      <td>48.3</td>\n",
       "      <td>101.31</td>\n",
       "      <td>Mainly Clear</td>\n",
       "    </tr>\n",
       "    <tr>\n",
       "      <th>2012-07-14 16:00:00</th>\n",
       "      <td>32.9</td>\n",
       "      <td>15.3</td>\n",
       "      <td>35</td>\n",
       "      <td>24</td>\n",
       "      <td>48.3</td>\n",
       "      <td>101.26</td>\n",
       "      <td>Mainly Clear</td>\n",
       "    </tr>\n",
       "    <tr>\n",
       "      <th>2012-08-04 15:00:00</th>\n",
       "      <td>32.8</td>\n",
       "      <td>18.8</td>\n",
       "      <td>44</td>\n",
       "      <td>17</td>\n",
       "      <td>24.1</td>\n",
       "      <td>101.39</td>\n",
       "      <td>Clear</td>\n",
       "    </tr>\n",
       "    <tr>\n",
       "      <th>2012-07-14 14:00:00</th>\n",
       "      <td>32.7</td>\n",
       "      <td>15.3</td>\n",
       "      <td>35</td>\n",
       "      <td>28</td>\n",
       "      <td>48.3</td>\n",
       "      <td>101.35</td>\n",
       "      <td>Mainly Clear</td>\n",
       "    </tr>\n",
       "    <tr>\n",
       "      <th>2012-06-21 14:00:00</th>\n",
       "      <td>32.6</td>\n",
       "      <td>20.4</td>\n",
       "      <td>49</td>\n",
       "      <td>20</td>\n",
       "      <td>24.1</td>\n",
       "      <td>100.25</td>\n",
       "      <td>Mainly Clear</td>\n",
       "    </tr>\n",
       "    <tr>\n",
       "      <th>2012-08-04 17:00:00</th>\n",
       "      <td>32.5</td>\n",
       "      <td>19.8</td>\n",
       "      <td>47</td>\n",
       "      <td>13</td>\n",
       "      <td>24.1</td>\n",
       "      <td>101.32</td>\n",
       "      <td>Clear</td>\n",
       "    </tr>\n",
       "    <tr>\n",
       "      <th>2012-08-04 16:00:00</th>\n",
       "      <td>32.5</td>\n",
       "      <td>18.5</td>\n",
       "      <td>44</td>\n",
       "      <td>15</td>\n",
       "      <td>24.1</td>\n",
       "      <td>101.34</td>\n",
       "      <td>Clear</td>\n",
       "    </tr>\n",
       "    <tr>\n",
       "      <th>2012-06-21 16:00:00</th>\n",
       "      <td>32.5</td>\n",
       "      <td>17.9</td>\n",
       "      <td>42</td>\n",
       "      <td>24</td>\n",
       "      <td>24.1</td>\n",
       "      <td>100.14</td>\n",
       "      <td>Mainly Clear</td>\n",
       "    </tr>\n",
       "    <tr>\n",
       "      <th>2012-07-14 17:00:00</th>\n",
       "      <td>32.5</td>\n",
       "      <td>16.5</td>\n",
       "      <td>38</td>\n",
       "      <td>19</td>\n",
       "      <td>48.3</td>\n",
       "      <td>101.22</td>\n",
       "      <td>Mainly Clear</td>\n",
       "    </tr>\n",
       "    <tr>\n",
       "      <th>2012-06-20 18:00:00</th>\n",
       "      <td>32.4</td>\n",
       "      <td>19.9</td>\n",
       "      <td>48</td>\n",
       "      <td>17</td>\n",
       "      <td>24.1</td>\n",
       "      <td>100.61</td>\n",
       "      <td>Mostly Cloudy</td>\n",
       "    </tr>\n",
       "    <tr>\n",
       "      <th>2012-06-20 17:00:00</th>\n",
       "      <td>32.3</td>\n",
       "      <td>20.3</td>\n",
       "      <td>49</td>\n",
       "      <td>15</td>\n",
       "      <td>24.1</td>\n",
       "      <td>100.69</td>\n",
       "      <td>Mainly Clear</td>\n",
       "    </tr>\n",
       "    <tr>\n",
       "      <th>2012-08-04 18:00:00</th>\n",
       "      <td>32.2</td>\n",
       "      <td>20.1</td>\n",
       "      <td>49</td>\n",
       "      <td>13</td>\n",
       "      <td>24.1</td>\n",
       "      <td>101.29</td>\n",
       "      <td>Mostly Cloudy</td>\n",
       "    </tr>\n",
       "    <tr>\n",
       "      <th>2012-06-20 16:00:00</th>\n",
       "      <td>32.2</td>\n",
       "      <td>20.0</td>\n",
       "      <td>49</td>\n",
       "      <td>26</td>\n",
       "      <td>24.1</td>\n",
       "      <td>100.74</td>\n",
       "      <td>Mainly Clear</td>\n",
       "    </tr>\n",
       "    <tr>\n",
       "      <th>2012-06-20 15:00:00</th>\n",
       "      <td>32.2</td>\n",
       "      <td>19.6</td>\n",
       "      <td>47</td>\n",
       "      <td>22</td>\n",
       "      <td>24.1</td>\n",
       "      <td>100.75</td>\n",
       "      <td>Mainly Clear</td>\n",
       "    </tr>\n",
       "    <tr>\n",
       "      <th>2012-06-21 17:00:00</th>\n",
       "      <td>32.1</td>\n",
       "      <td>17.9</td>\n",
       "      <td>43</td>\n",
       "      <td>30</td>\n",
       "      <td>24.1</td>\n",
       "      <td>100.09</td>\n",
       "      <td>Mainly Clear</td>\n",
       "    </tr>\n",
       "    <tr>\n",
       "      <th>2012-07-13 14:00:00</th>\n",
       "      <td>32.1</td>\n",
       "      <td>10.2</td>\n",
       "      <td>26</td>\n",
       "      <td>20</td>\n",
       "      <td>48.3</td>\n",
       "      <td>101.49</td>\n",
       "      <td>Mainly Clear</td>\n",
       "    </tr>\n",
       "    <tr>\n",
       "      <th>2012-08-04 14:00:00</th>\n",
       "      <td>32.0</td>\n",
       "      <td>18.3</td>\n",
       "      <td>44</td>\n",
       "      <td>17</td>\n",
       "      <td>24.1</td>\n",
       "      <td>101.48</td>\n",
       "      <td>Clear</td>\n",
       "    </tr>\n",
       "    <tr>\n",
       "      <th>2012-07-14 13:00:00</th>\n",
       "      <td>31.9</td>\n",
       "      <td>19.3</td>\n",
       "      <td>47</td>\n",
       "      <td>19</td>\n",
       "      <td>48.3</td>\n",
       "      <td>101.37</td>\n",
       "      <td>Mainly Clear</td>\n",
       "    </tr>\n",
       "    <tr>\n",
       "      <th>2012-07-13 15:00:00</th>\n",
       "      <td>31.9</td>\n",
       "      <td>12.3</td>\n",
       "      <td>30</td>\n",
       "      <td>22</td>\n",
       "      <td>48.3</td>\n",
       "      <td>101.46</td>\n",
       "      <td>Clear</td>\n",
       "    </tr>\n",
       "    <tr>\n",
       "      <th>2012-06-21 12:00:00</th>\n",
       "      <td>31.8</td>\n",
       "      <td>20.8</td>\n",
       "      <td>52</td>\n",
       "      <td>15</td>\n",
       "      <td>24.1</td>\n",
       "      <td>100.36</td>\n",
       "      <td>Mainly Clear</td>\n",
       "    </tr>\n",
       "    <tr>\n",
       "      <th>2012-06-20 14:00:00</th>\n",
       "      <td>31.7</td>\n",
       "      <td>20.4</td>\n",
       "      <td>51</td>\n",
       "      <td>17</td>\n",
       "      <td>24.1</td>\n",
       "      <td>100.83</td>\n",
       "      <td>Clear</td>\n",
       "    </tr>\n",
       "    <tr>\n",
       "      <th>2012-07-14 12:00:00</th>\n",
       "      <td>31.7</td>\n",
       "      <td>19.7</td>\n",
       "      <td>49</td>\n",
       "      <td>22</td>\n",
       "      <td>48.3</td>\n",
       "      <td>101.41</td>\n",
       "      <td>Mainly Clear</td>\n",
       "    </tr>\n",
       "    <tr>\n",
       "      <th>2012-06-21 13:00:00</th>\n",
       "      <td>31.6</td>\n",
       "      <td>20.6</td>\n",
       "      <td>52</td>\n",
       "      <td>24</td>\n",
       "      <td>24.1</td>\n",
       "      <td>100.32</td>\n",
       "      <td>Mostly Cloudy</td>\n",
       "    </tr>\n",
       "    <tr>\n",
       "      <th>2012-07-13 16:00:00</th>\n",
       "      <td>31.6</td>\n",
       "      <td>11.8</td>\n",
       "      <td>30</td>\n",
       "      <td>22</td>\n",
       "      <td>48.3</td>\n",
       "      <td>101.40</td>\n",
       "      <td>Clear</td>\n",
       "    </tr>\n",
       "    <tr>\n",
       "      <th>2012-07-14 18:00:00</th>\n",
       "      <td>31.5</td>\n",
       "      <td>18.4</td>\n",
       "      <td>46</td>\n",
       "      <td>15</td>\n",
       "      <td>24.1</td>\n",
       "      <td>101.19</td>\n",
       "      <td>Mainly Clear</td>\n",
       "    </tr>\n",
       "    <tr>\n",
       "      <th>2012-07-13 17:00:00</th>\n",
       "      <td>31.4</td>\n",
       "      <td>13.8</td>\n",
       "      <td>34</td>\n",
       "      <td>20</td>\n",
       "      <td>48.3</td>\n",
       "      <td>101.36</td>\n",
       "      <td>Mainly Clear</td>\n",
       "    </tr>\n",
       "    <tr>\n",
       "      <th>2012-08-04 13:00:00</th>\n",
       "      <td>31.2</td>\n",
       "      <td>18.1</td>\n",
       "      <td>46</td>\n",
       "      <td>11</td>\n",
       "      <td>24.1</td>\n",
       "      <td>101.56</td>\n",
       "      <td>Clear</td>\n",
       "    </tr>\n",
       "    <tr>\n",
       "      <th>2012-07-13 13:00:00</th>\n",
       "      <td>31.2</td>\n",
       "      <td>14.6</td>\n",
       "      <td>37</td>\n",
       "      <td>20</td>\n",
       "      <td>48.3</td>\n",
       "      <td>101.51</td>\n",
       "      <td>Mainly Clear</td>\n",
       "    </tr>\n",
       "    <tr>\n",
       "      <th>2012-05-20 16:00:00</th>\n",
       "      <td>31.2</td>\n",
       "      <td>10.7</td>\n",
       "      <td>28</td>\n",
       "      <td>4</td>\n",
       "      <td>48.3</td>\n",
       "      <td>101.61</td>\n",
       "      <td>Mainly Clear</td>\n",
       "    </tr>\n",
       "    <tr>\n",
       "      <th>...</th>\n",
       "      <td>...</td>\n",
       "      <td>...</td>\n",
       "      <td>...</td>\n",
       "      <td>...</td>\n",
       "      <td>...</td>\n",
       "      <td>...</td>\n",
       "      <td>...</td>\n",
       "    </tr>\n",
       "    <tr>\n",
       "      <th>2012-01-16 02:00:00</th>\n",
       "      <td>-18.5</td>\n",
       "      <td>-23.0</td>\n",
       "      <td>68</td>\n",
       "      <td>6</td>\n",
       "      <td>25.0</td>\n",
       "      <td>103.08</td>\n",
       "      <td>Clear</td>\n",
       "    </tr>\n",
       "    <tr>\n",
       "      <th>2012-01-04 06:00:00</th>\n",
       "      <td>-18.5</td>\n",
       "      <td>-24.1</td>\n",
       "      <td>61</td>\n",
       "      <td>11</td>\n",
       "      <td>25.0</td>\n",
       "      <td>101.74</td>\n",
       "      <td>Cloudy</td>\n",
       "    </tr>\n",
       "    <tr>\n",
       "      <th>2012-01-21 20:00:00</th>\n",
       "      <td>-18.5</td>\n",
       "      <td>-24.4</td>\n",
       "      <td>60</td>\n",
       "      <td>4</td>\n",
       "      <td>25.0</td>\n",
       "      <td>102.36</td>\n",
       "      <td>Clear</td>\n",
       "    </tr>\n",
       "    <tr>\n",
       "      <th>2012-01-04 03:00:00</th>\n",
       "      <td>-18.5</td>\n",
       "      <td>-24.6</td>\n",
       "      <td>59</td>\n",
       "      <td>13</td>\n",
       "      <td>25.0</td>\n",
       "      <td>101.88</td>\n",
       "      <td>Mainly Clear</td>\n",
       "    </tr>\n",
       "    <tr>\n",
       "      <th>2012-01-04 04:00:00</th>\n",
       "      <td>-18.5</td>\n",
       "      <td>-24.6</td>\n",
       "      <td>59</td>\n",
       "      <td>13</td>\n",
       "      <td>25.0</td>\n",
       "      <td>101.82</td>\n",
       "      <td>Mainly Clear</td>\n",
       "    </tr>\n",
       "    <tr>\n",
       "      <th>2012-01-20 21:00:00</th>\n",
       "      <td>-18.5</td>\n",
       "      <td>-25.6</td>\n",
       "      <td>54</td>\n",
       "      <td>9</td>\n",
       "      <td>25.0</td>\n",
       "      <td>102.37</td>\n",
       "      <td>Mainly Clear</td>\n",
       "    </tr>\n",
       "    <tr>\n",
       "      <th>2012-01-22 07:00:00</th>\n",
       "      <td>-18.6</td>\n",
       "      <td>-22.8</td>\n",
       "      <td>69</td>\n",
       "      <td>6</td>\n",
       "      <td>12.9</td>\n",
       "      <td>102.91</td>\n",
       "      <td>Mainly Clear</td>\n",
       "    </tr>\n",
       "    <tr>\n",
       "      <th>2012-01-04 05:00:00</th>\n",
       "      <td>-18.6</td>\n",
       "      <td>-24.0</td>\n",
       "      <td>62</td>\n",
       "      <td>9</td>\n",
       "      <td>25.0</td>\n",
       "      <td>101.77</td>\n",
       "      <td>Mainly Clear</td>\n",
       "    </tr>\n",
       "    <tr>\n",
       "      <th>2012-01-16 06:00:00</th>\n",
       "      <td>-18.7</td>\n",
       "      <td>-23.2</td>\n",
       "      <td>68</td>\n",
       "      <td>0</td>\n",
       "      <td>25.0</td>\n",
       "      <td>103.01</td>\n",
       "      <td>Clear</td>\n",
       "    </tr>\n",
       "    <tr>\n",
       "      <th>2012-01-16 04:00:00</th>\n",
       "      <td>-18.7</td>\n",
       "      <td>-23.5</td>\n",
       "      <td>66</td>\n",
       "      <td>0</td>\n",
       "      <td>25.0</td>\n",
       "      <td>103.05</td>\n",
       "      <td>Clear</td>\n",
       "    </tr>\n",
       "    <tr>\n",
       "      <th>2012-01-22 06:00:00</th>\n",
       "      <td>-19.0</td>\n",
       "      <td>-22.9</td>\n",
       "      <td>71</td>\n",
       "      <td>6</td>\n",
       "      <td>0.8</td>\n",
       "      <td>102.85</td>\n",
       "      <td>Freezing Fog</td>\n",
       "    </tr>\n",
       "    <tr>\n",
       "      <th>2012-01-16 05:00:00</th>\n",
       "      <td>-19.1</td>\n",
       "      <td>-23.3</td>\n",
       "      <td>69</td>\n",
       "      <td>0</td>\n",
       "      <td>25.0</td>\n",
       "      <td>103.02</td>\n",
       "      <td>Clear</td>\n",
       "    </tr>\n",
       "    <tr>\n",
       "      <th>2012-01-16 03:00:00</th>\n",
       "      <td>-19.2</td>\n",
       "      <td>-23.8</td>\n",
       "      <td>67</td>\n",
       "      <td>6</td>\n",
       "      <td>25.0</td>\n",
       "      <td>103.07</td>\n",
       "      <td>Clear</td>\n",
       "    </tr>\n",
       "    <tr>\n",
       "      <th>2012-01-15 11:00:00</th>\n",
       "      <td>-19.3</td>\n",
       "      <td>-26.1</td>\n",
       "      <td>55</td>\n",
       "      <td>9</td>\n",
       "      <td>48.3</td>\n",
       "      <td>102.68</td>\n",
       "      <td>Mainly Clear</td>\n",
       "    </tr>\n",
       "    <tr>\n",
       "      <th>2012-01-22 05:00:00</th>\n",
       "      <td>-19.5</td>\n",
       "      <td>-23.4</td>\n",
       "      <td>71</td>\n",
       "      <td>6</td>\n",
       "      <td>16.1</td>\n",
       "      <td>102.84</td>\n",
       "      <td>Mainly Clear</td>\n",
       "    </tr>\n",
       "    <tr>\n",
       "      <th>2012-01-14 20:00:00</th>\n",
       "      <td>-19.6</td>\n",
       "      <td>-25.8</td>\n",
       "      <td>58</td>\n",
       "      <td>13</td>\n",
       "      <td>25.0</td>\n",
       "      <td>101.62</td>\n",
       "      <td>Mainly Clear</td>\n",
       "    </tr>\n",
       "    <tr>\n",
       "      <th>2012-01-14 22:00:00</th>\n",
       "      <td>-19.9</td>\n",
       "      <td>-26.0</td>\n",
       "      <td>58</td>\n",
       "      <td>13</td>\n",
       "      <td>25.0</td>\n",
       "      <td>101.74</td>\n",
       "      <td>Mostly Cloudy</td>\n",
       "    </tr>\n",
       "    <tr>\n",
       "      <th>2012-01-14 21:00:00</th>\n",
       "      <td>-20.0</td>\n",
       "      <td>-25.9</td>\n",
       "      <td>59</td>\n",
       "      <td>11</td>\n",
       "      <td>25.0</td>\n",
       "      <td>101.65</td>\n",
       "      <td>Mostly Cloudy</td>\n",
       "    </tr>\n",
       "    <tr>\n",
       "      <th>2012-01-14 23:00:00</th>\n",
       "      <td>-20.3</td>\n",
       "      <td>-26.2</td>\n",
       "      <td>59</td>\n",
       "      <td>9</td>\n",
       "      <td>25.0</td>\n",
       "      <td>101.79</td>\n",
       "      <td>Mostly Cloudy</td>\n",
       "    </tr>\n",
       "    <tr>\n",
       "      <th>2012-01-15 10:00:00</th>\n",
       "      <td>-20.6</td>\n",
       "      <td>-26.8</td>\n",
       "      <td>58</td>\n",
       "      <td>9</td>\n",
       "      <td>48.3</td>\n",
       "      <td>102.66</td>\n",
       "      <td>Mainly Clear</td>\n",
       "    </tr>\n",
       "    <tr>\n",
       "      <th>2012-01-15 03:00:00</th>\n",
       "      <td>-20.7</td>\n",
       "      <td>-26.1</td>\n",
       "      <td>62</td>\n",
       "      <td>4</td>\n",
       "      <td>25.0</td>\n",
       "      <td>102.04</td>\n",
       "      <td>Cloudy</td>\n",
       "    </tr>\n",
       "    <tr>\n",
       "      <th>2012-01-15 04:00:00</th>\n",
       "      <td>-21.0</td>\n",
       "      <td>-26.6</td>\n",
       "      <td>61</td>\n",
       "      <td>0</td>\n",
       "      <td>25.0</td>\n",
       "      <td>102.12</td>\n",
       "      <td>Cloudy</td>\n",
       "    </tr>\n",
       "    <tr>\n",
       "      <th>2012-01-15 01:00:00</th>\n",
       "      <td>-21.1</td>\n",
       "      <td>-26.6</td>\n",
       "      <td>61</td>\n",
       "      <td>9</td>\n",
       "      <td>25.0</td>\n",
       "      <td>101.86</td>\n",
       "      <td>Cloudy</td>\n",
       "    </tr>\n",
       "    <tr>\n",
       "      <th>2012-01-15 00:00:00</th>\n",
       "      <td>-21.2</td>\n",
       "      <td>-26.8</td>\n",
       "      <td>61</td>\n",
       "      <td>11</td>\n",
       "      <td>25.0</td>\n",
       "      <td>101.81</td>\n",
       "      <td>Cloudy</td>\n",
       "    </tr>\n",
       "    <tr>\n",
       "      <th>2012-01-15 05:00:00</th>\n",
       "      <td>-21.3</td>\n",
       "      <td>-26.5</td>\n",
       "      <td>63</td>\n",
       "      <td>6</td>\n",
       "      <td>25.0</td>\n",
       "      <td>102.19</td>\n",
       "      <td>Mostly Cloudy</td>\n",
       "    </tr>\n",
       "    <tr>\n",
       "      <th>2012-01-15 02:00:00</th>\n",
       "      <td>-21.4</td>\n",
       "      <td>-26.6</td>\n",
       "      <td>63</td>\n",
       "      <td>9</td>\n",
       "      <td>25.0</td>\n",
       "      <td>101.99</td>\n",
       "      <td>Cloudy</td>\n",
       "    </tr>\n",
       "    <tr>\n",
       "      <th>2012-01-15 09:00:00</th>\n",
       "      <td>-22.2</td>\n",
       "      <td>-27.8</td>\n",
       "      <td>60</td>\n",
       "      <td>9</td>\n",
       "      <td>48.3</td>\n",
       "      <td>102.57</td>\n",
       "      <td>Mainly Clear</td>\n",
       "    </tr>\n",
       "    <tr>\n",
       "      <th>2012-01-15 07:00:00</th>\n",
       "      <td>-22.8</td>\n",
       "      <td>-28.0</td>\n",
       "      <td>62</td>\n",
       "      <td>9</td>\n",
       "      <td>25.0</td>\n",
       "      <td>102.37</td>\n",
       "      <td>Mainly Clear</td>\n",
       "    </tr>\n",
       "    <tr>\n",
       "      <th>2012-01-15 06:00:00</th>\n",
       "      <td>-23.2</td>\n",
       "      <td>-28.5</td>\n",
       "      <td>62</td>\n",
       "      <td>7</td>\n",
       "      <td>25.0</td>\n",
       "      <td>102.28</td>\n",
       "      <td>Mostly Cloudy</td>\n",
       "    </tr>\n",
       "    <tr>\n",
       "      <th>2012-01-15 08:00:00</th>\n",
       "      <td>-23.3</td>\n",
       "      <td>-28.5</td>\n",
       "      <td>62</td>\n",
       "      <td>7</td>\n",
       "      <td>24.1</td>\n",
       "      <td>102.45</td>\n",
       "      <td>Clear</td>\n",
       "    </tr>\n",
       "  </tbody>\n",
       "</table>\n",
       "<p>8784 rows × 7 columns</p>\n",
       "</div>"
      ],
      "text/plain": [
       "                     Temp (C)  Dew Point Temp (C)  Rel Hum (%)  \\\n",
       "Date/Time                                                        \n",
       "2012-06-21 15:00:00      33.0                19.0           44   \n",
       "2012-07-14 15:00:00      33.0                16.8           38   \n",
       "2012-07-14 16:00:00      32.9                15.3           35   \n",
       "2012-08-04 15:00:00      32.8                18.8           44   \n",
       "2012-07-14 14:00:00      32.7                15.3           35   \n",
       "2012-06-21 14:00:00      32.6                20.4           49   \n",
       "2012-08-04 17:00:00      32.5                19.8           47   \n",
       "2012-08-04 16:00:00      32.5                18.5           44   \n",
       "2012-06-21 16:00:00      32.5                17.9           42   \n",
       "2012-07-14 17:00:00      32.5                16.5           38   \n",
       "2012-06-20 18:00:00      32.4                19.9           48   \n",
       "2012-06-20 17:00:00      32.3                20.3           49   \n",
       "2012-08-04 18:00:00      32.2                20.1           49   \n",
       "2012-06-20 16:00:00      32.2                20.0           49   \n",
       "2012-06-20 15:00:00      32.2                19.6           47   \n",
       "2012-06-21 17:00:00      32.1                17.9           43   \n",
       "2012-07-13 14:00:00      32.1                10.2           26   \n",
       "2012-08-04 14:00:00      32.0                18.3           44   \n",
       "2012-07-14 13:00:00      31.9                19.3           47   \n",
       "2012-07-13 15:00:00      31.9                12.3           30   \n",
       "2012-06-21 12:00:00      31.8                20.8           52   \n",
       "2012-06-20 14:00:00      31.7                20.4           51   \n",
       "2012-07-14 12:00:00      31.7                19.7           49   \n",
       "2012-06-21 13:00:00      31.6                20.6           52   \n",
       "2012-07-13 16:00:00      31.6                11.8           30   \n",
       "2012-07-14 18:00:00      31.5                18.4           46   \n",
       "2012-07-13 17:00:00      31.4                13.8           34   \n",
       "2012-08-04 13:00:00      31.2                18.1           46   \n",
       "2012-07-13 13:00:00      31.2                14.6           37   \n",
       "2012-05-20 16:00:00      31.2                10.7           28   \n",
       "...                       ...                 ...          ...   \n",
       "2012-01-16 02:00:00     -18.5               -23.0           68   \n",
       "2012-01-04 06:00:00     -18.5               -24.1           61   \n",
       "2012-01-21 20:00:00     -18.5               -24.4           60   \n",
       "2012-01-04 03:00:00     -18.5               -24.6           59   \n",
       "2012-01-04 04:00:00     -18.5               -24.6           59   \n",
       "2012-01-20 21:00:00     -18.5               -25.6           54   \n",
       "2012-01-22 07:00:00     -18.6               -22.8           69   \n",
       "2012-01-04 05:00:00     -18.6               -24.0           62   \n",
       "2012-01-16 06:00:00     -18.7               -23.2           68   \n",
       "2012-01-16 04:00:00     -18.7               -23.5           66   \n",
       "2012-01-22 06:00:00     -19.0               -22.9           71   \n",
       "2012-01-16 05:00:00     -19.1               -23.3           69   \n",
       "2012-01-16 03:00:00     -19.2               -23.8           67   \n",
       "2012-01-15 11:00:00     -19.3               -26.1           55   \n",
       "2012-01-22 05:00:00     -19.5               -23.4           71   \n",
       "2012-01-14 20:00:00     -19.6               -25.8           58   \n",
       "2012-01-14 22:00:00     -19.9               -26.0           58   \n",
       "2012-01-14 21:00:00     -20.0               -25.9           59   \n",
       "2012-01-14 23:00:00     -20.3               -26.2           59   \n",
       "2012-01-15 10:00:00     -20.6               -26.8           58   \n",
       "2012-01-15 03:00:00     -20.7               -26.1           62   \n",
       "2012-01-15 04:00:00     -21.0               -26.6           61   \n",
       "2012-01-15 01:00:00     -21.1               -26.6           61   \n",
       "2012-01-15 00:00:00     -21.2               -26.8           61   \n",
       "2012-01-15 05:00:00     -21.3               -26.5           63   \n",
       "2012-01-15 02:00:00     -21.4               -26.6           63   \n",
       "2012-01-15 09:00:00     -22.2               -27.8           60   \n",
       "2012-01-15 07:00:00     -22.8               -28.0           62   \n",
       "2012-01-15 06:00:00     -23.2               -28.5           62   \n",
       "2012-01-15 08:00:00     -23.3               -28.5           62   \n",
       "\n",
       "                     Wind Spd (km/h)  Visibility (km)  Stn Press (kPa)  \\\n",
       "Date/Time                                                                \n",
       "2012-06-21 15:00:00               24             24.1           100.20   \n",
       "2012-07-14 15:00:00               22             48.3           101.31   \n",
       "2012-07-14 16:00:00               24             48.3           101.26   \n",
       "2012-08-04 15:00:00               17             24.1           101.39   \n",
       "2012-07-14 14:00:00               28             48.3           101.35   \n",
       "2012-06-21 14:00:00               20             24.1           100.25   \n",
       "2012-08-04 17:00:00               13             24.1           101.32   \n",
       "2012-08-04 16:00:00               15             24.1           101.34   \n",
       "2012-06-21 16:00:00               24             24.1           100.14   \n",
       "2012-07-14 17:00:00               19             48.3           101.22   \n",
       "2012-06-20 18:00:00               17             24.1           100.61   \n",
       "2012-06-20 17:00:00               15             24.1           100.69   \n",
       "2012-08-04 18:00:00               13             24.1           101.29   \n",
       "2012-06-20 16:00:00               26             24.1           100.74   \n",
       "2012-06-20 15:00:00               22             24.1           100.75   \n",
       "2012-06-21 17:00:00               30             24.1           100.09   \n",
       "2012-07-13 14:00:00               20             48.3           101.49   \n",
       "2012-08-04 14:00:00               17             24.1           101.48   \n",
       "2012-07-14 13:00:00               19             48.3           101.37   \n",
       "2012-07-13 15:00:00               22             48.3           101.46   \n",
       "2012-06-21 12:00:00               15             24.1           100.36   \n",
       "2012-06-20 14:00:00               17             24.1           100.83   \n",
       "2012-07-14 12:00:00               22             48.3           101.41   \n",
       "2012-06-21 13:00:00               24             24.1           100.32   \n",
       "2012-07-13 16:00:00               22             48.3           101.40   \n",
       "2012-07-14 18:00:00               15             24.1           101.19   \n",
       "2012-07-13 17:00:00               20             48.3           101.36   \n",
       "2012-08-04 13:00:00               11             24.1           101.56   \n",
       "2012-07-13 13:00:00               20             48.3           101.51   \n",
       "2012-05-20 16:00:00                4             48.3           101.61   \n",
       "...                              ...              ...              ...   \n",
       "2012-01-16 02:00:00                6             25.0           103.08   \n",
       "2012-01-04 06:00:00               11             25.0           101.74   \n",
       "2012-01-21 20:00:00                4             25.0           102.36   \n",
       "2012-01-04 03:00:00               13             25.0           101.88   \n",
       "2012-01-04 04:00:00               13             25.0           101.82   \n",
       "2012-01-20 21:00:00                9             25.0           102.37   \n",
       "2012-01-22 07:00:00                6             12.9           102.91   \n",
       "2012-01-04 05:00:00                9             25.0           101.77   \n",
       "2012-01-16 06:00:00                0             25.0           103.01   \n",
       "2012-01-16 04:00:00                0             25.0           103.05   \n",
       "2012-01-22 06:00:00                6              0.8           102.85   \n",
       "2012-01-16 05:00:00                0             25.0           103.02   \n",
       "2012-01-16 03:00:00                6             25.0           103.07   \n",
       "2012-01-15 11:00:00                9             48.3           102.68   \n",
       "2012-01-22 05:00:00                6             16.1           102.84   \n",
       "2012-01-14 20:00:00               13             25.0           101.62   \n",
       "2012-01-14 22:00:00               13             25.0           101.74   \n",
       "2012-01-14 21:00:00               11             25.0           101.65   \n",
       "2012-01-14 23:00:00                9             25.0           101.79   \n",
       "2012-01-15 10:00:00                9             48.3           102.66   \n",
       "2012-01-15 03:00:00                4             25.0           102.04   \n",
       "2012-01-15 04:00:00                0             25.0           102.12   \n",
       "2012-01-15 01:00:00                9             25.0           101.86   \n",
       "2012-01-15 00:00:00               11             25.0           101.81   \n",
       "2012-01-15 05:00:00                6             25.0           102.19   \n",
       "2012-01-15 02:00:00                9             25.0           101.99   \n",
       "2012-01-15 09:00:00                9             48.3           102.57   \n",
       "2012-01-15 07:00:00                9             25.0           102.37   \n",
       "2012-01-15 06:00:00                7             25.0           102.28   \n",
       "2012-01-15 08:00:00                7             24.1           102.45   \n",
       "\n",
       "                           Weather  \n",
       "Date/Time                           \n",
       "2012-06-21 15:00:00   Mainly Clear  \n",
       "2012-07-14 15:00:00   Mainly Clear  \n",
       "2012-07-14 16:00:00   Mainly Clear  \n",
       "2012-08-04 15:00:00          Clear  \n",
       "2012-07-14 14:00:00   Mainly Clear  \n",
       "2012-06-21 14:00:00   Mainly Clear  \n",
       "2012-08-04 17:00:00          Clear  \n",
       "2012-08-04 16:00:00          Clear  \n",
       "2012-06-21 16:00:00   Mainly Clear  \n",
       "2012-07-14 17:00:00   Mainly Clear  \n",
       "2012-06-20 18:00:00  Mostly Cloudy  \n",
       "2012-06-20 17:00:00   Mainly Clear  \n",
       "2012-08-04 18:00:00  Mostly Cloudy  \n",
       "2012-06-20 16:00:00   Mainly Clear  \n",
       "2012-06-20 15:00:00   Mainly Clear  \n",
       "2012-06-21 17:00:00   Mainly Clear  \n",
       "2012-07-13 14:00:00   Mainly Clear  \n",
       "2012-08-04 14:00:00          Clear  \n",
       "2012-07-14 13:00:00   Mainly Clear  \n",
       "2012-07-13 15:00:00          Clear  \n",
       "2012-06-21 12:00:00   Mainly Clear  \n",
       "2012-06-20 14:00:00          Clear  \n",
       "2012-07-14 12:00:00   Mainly Clear  \n",
       "2012-06-21 13:00:00  Mostly Cloudy  \n",
       "2012-07-13 16:00:00          Clear  \n",
       "2012-07-14 18:00:00   Mainly Clear  \n",
       "2012-07-13 17:00:00   Mainly Clear  \n",
       "2012-08-04 13:00:00          Clear  \n",
       "2012-07-13 13:00:00   Mainly Clear  \n",
       "2012-05-20 16:00:00   Mainly Clear  \n",
       "...                            ...  \n",
       "2012-01-16 02:00:00          Clear  \n",
       "2012-01-04 06:00:00         Cloudy  \n",
       "2012-01-21 20:00:00          Clear  \n",
       "2012-01-04 03:00:00   Mainly Clear  \n",
       "2012-01-04 04:00:00   Mainly Clear  \n",
       "2012-01-20 21:00:00   Mainly Clear  \n",
       "2012-01-22 07:00:00   Mainly Clear  \n",
       "2012-01-04 05:00:00   Mainly Clear  \n",
       "2012-01-16 06:00:00          Clear  \n",
       "2012-01-16 04:00:00          Clear  \n",
       "2012-01-22 06:00:00   Freezing Fog  \n",
       "2012-01-16 05:00:00          Clear  \n",
       "2012-01-16 03:00:00          Clear  \n",
       "2012-01-15 11:00:00   Mainly Clear  \n",
       "2012-01-22 05:00:00   Mainly Clear  \n",
       "2012-01-14 20:00:00   Mainly Clear  \n",
       "2012-01-14 22:00:00  Mostly Cloudy  \n",
       "2012-01-14 21:00:00  Mostly Cloudy  \n",
       "2012-01-14 23:00:00  Mostly Cloudy  \n",
       "2012-01-15 10:00:00   Mainly Clear  \n",
       "2012-01-15 03:00:00         Cloudy  \n",
       "2012-01-15 04:00:00         Cloudy  \n",
       "2012-01-15 01:00:00         Cloudy  \n",
       "2012-01-15 00:00:00         Cloudy  \n",
       "2012-01-15 05:00:00  Mostly Cloudy  \n",
       "2012-01-15 02:00:00         Cloudy  \n",
       "2012-01-15 09:00:00   Mainly Clear  \n",
       "2012-01-15 07:00:00   Mainly Clear  \n",
       "2012-01-15 06:00:00  Mostly Cloudy  \n",
       "2012-01-15 08:00:00          Clear  \n",
       "\n",
       "[8784 rows x 7 columns]"
      ]
     },
     "execution_count": 41,
     "metadata": {},
     "output_type": "execute_result"
    }
   ],
   "source": [
    "weather_df2.sort_values(by=['Temp (C)', 'Dew Point Temp (C)'], ascending=False)"
   ]
  },
  {
   "cell_type": "markdown",
   "metadata": {},
   "source": [
    "## `.dt.` or `DateTime` Operator\n",
    "\n",
    "### What if I don't want datetime values as indices, but I want to get the datetime values as datetime?"
   ]
  },
  {
   "cell_type": "code",
   "execution_count": 410,
   "metadata": {},
   "outputs": [],
   "source": [
    "weather_df['datetime'] = pd.to_datetime(weather_df['datetime'])"
   ]
  },
  {
   "cell_type": "code",
   "execution_count": 418,
   "metadata": {},
   "outputs": [],
   "source": [
    "weather_df['month'] = weather_df['datetime'].dt.month\n",
    "weather_df['day'] = weather_df['datetime'].dt.day\n",
    "weather_df['quarter'] = weather_df['datetime'].dt.quarter"
   ]
  },
  {
   "cell_type": "code",
   "execution_count": 423,
   "metadata": {},
   "outputs": [
    {
     "data": {
      "text/plain": [
       "4    2208\n",
       "3    2208\n",
       "2    2184\n",
       "1    2184\n",
       "Name: quarter, dtype: int64"
      ]
     },
     "execution_count": 423,
     "metadata": {},
     "output_type": "execute_result"
    }
   ],
   "source": [
    "weather_df['quarter'].value_counts()"
   ]
  },
  {
   "cell_type": "code",
   "execution_count": 422,
   "metadata": {},
   "outputs": [
    {
     "data": {
      "text/plain": [
       "2184"
      ]
     },
     "execution_count": 422,
     "metadata": {},
     "output_type": "execute_result"
    }
   ],
   "source": [
    "weather_df[weather_df['quarter'] == 2].shape[0]"
   ]
  },
  {
   "cell_type": "markdown",
   "metadata": {},
   "source": [
    "## `.join()` and `merge()` operations\n",
    "### The Data"
   ]
  },
  {
   "cell_type": "code",
   "execution_count": 486,
   "metadata": {},
   "outputs": [],
   "source": [
    "name = ['Magneto', 'Storm', 'Mystique', \n",
    "        'Batman', 'Joker', 'Catwoman', 'Hellboy']\n",
    "alignment = ['bad', 'good', 'bad', 'good', \n",
    "             'bad', 'bad', 'good']\n",
    "gender = ['male', 'female', 'female', \n",
    "          'male', 'male', 'female', 'male']\n",
    "publisher = ['Marvel', 'Marvel', 'Marvel', \n",
    "             'DC', 'DC', 'DC', 'Dark Horse Comics']\n",
    "\n",
    "superheroes1 = pd.DataFrame({'name': name, \n",
    "                             'alignment': alignment, \n",
    "                             'gender': gender, \n",
    "                             'publisher': publisher})\n",
    "\n",
    "publisher_unique = ['Marvel', 'DC', 'Image']\n",
    "year_founded = ['1934', '1939', '1992']\n",
    "\n",
    "publishers = pd.DataFrame({'publisher': publisher_unique, \n",
    "                           'year_founded': year_founded})\n",
    "\n",
    "superheroes2 = pd.DataFrame({'name': ['Black Widow', 'Superman'], 'alignment': ['good', 'good'], \n",
    "                             'gender': ['female', 'male'], 'publisher': ['Marvel', 'DC']})"
   ]
  },
  {
   "cell_type": "code",
   "execution_count": 487,
   "metadata": {},
   "outputs": [
    {
     "data": {
      "text/html": [
       "<div>\n",
       "<style scoped>\n",
       "    .dataframe tbody tr th:only-of-type {\n",
       "        vertical-align: middle;\n",
       "    }\n",
       "\n",
       "    .dataframe tbody tr th {\n",
       "        vertical-align: top;\n",
       "    }\n",
       "\n",
       "    .dataframe thead th {\n",
       "        text-align: right;\n",
       "    }\n",
       "</style>\n",
       "<table border=\"1\" class=\"dataframe\">\n",
       "  <thead>\n",
       "    <tr style=\"text-align: right;\">\n",
       "      <th></th>\n",
       "      <th>name</th>\n",
       "      <th>alignment</th>\n",
       "      <th>gender</th>\n",
       "      <th>publisher</th>\n",
       "    </tr>\n",
       "  </thead>\n",
       "  <tbody>\n",
       "    <tr>\n",
       "      <th>0</th>\n",
       "      <td>Magneto</td>\n",
       "      <td>bad</td>\n",
       "      <td>male</td>\n",
       "      <td>Marvel</td>\n",
       "    </tr>\n",
       "    <tr>\n",
       "      <th>1</th>\n",
       "      <td>Storm</td>\n",
       "      <td>good</td>\n",
       "      <td>female</td>\n",
       "      <td>Marvel</td>\n",
       "    </tr>\n",
       "    <tr>\n",
       "      <th>2</th>\n",
       "      <td>Mystique</td>\n",
       "      <td>bad</td>\n",
       "      <td>female</td>\n",
       "      <td>Marvel</td>\n",
       "    </tr>\n",
       "    <tr>\n",
       "      <th>3</th>\n",
       "      <td>Batman</td>\n",
       "      <td>good</td>\n",
       "      <td>male</td>\n",
       "      <td>DC</td>\n",
       "    </tr>\n",
       "    <tr>\n",
       "      <th>4</th>\n",
       "      <td>Joker</td>\n",
       "      <td>bad</td>\n",
       "      <td>male</td>\n",
       "      <td>DC</td>\n",
       "    </tr>\n",
       "    <tr>\n",
       "      <th>5</th>\n",
       "      <td>Catwoman</td>\n",
       "      <td>bad</td>\n",
       "      <td>female</td>\n",
       "      <td>DC</td>\n",
       "    </tr>\n",
       "    <tr>\n",
       "      <th>6</th>\n",
       "      <td>Hellboy</td>\n",
       "      <td>good</td>\n",
       "      <td>male</td>\n",
       "      <td>Dark Horse Comics</td>\n",
       "    </tr>\n",
       "  </tbody>\n",
       "</table>\n",
       "</div>"
      ],
      "text/plain": [
       "       name alignment  gender          publisher\n",
       "0   Magneto       bad    male             Marvel\n",
       "1     Storm      good  female             Marvel\n",
       "2  Mystique       bad  female             Marvel\n",
       "3    Batman      good    male                 DC\n",
       "4     Joker       bad    male                 DC\n",
       "5  Catwoman       bad  female                 DC\n",
       "6   Hellboy      good    male  Dark Horse Comics"
      ]
     },
     "execution_count": 487,
     "metadata": {},
     "output_type": "execute_result"
    }
   ],
   "source": [
    "superheroes1"
   ]
  },
  {
   "cell_type": "code",
   "execution_count": 488,
   "metadata": {},
   "outputs": [
    {
     "data": {
      "text/html": [
       "<div>\n",
       "<style scoped>\n",
       "    .dataframe tbody tr th:only-of-type {\n",
       "        vertical-align: middle;\n",
       "    }\n",
       "\n",
       "    .dataframe tbody tr th {\n",
       "        vertical-align: top;\n",
       "    }\n",
       "\n",
       "    .dataframe thead th {\n",
       "        text-align: right;\n",
       "    }\n",
       "</style>\n",
       "<table border=\"1\" class=\"dataframe\">\n",
       "  <thead>\n",
       "    <tr style=\"text-align: right;\">\n",
       "      <th></th>\n",
       "      <th>name</th>\n",
       "      <th>alignment</th>\n",
       "      <th>gender</th>\n",
       "      <th>publisher</th>\n",
       "    </tr>\n",
       "  </thead>\n",
       "  <tbody>\n",
       "    <tr>\n",
       "      <th>0</th>\n",
       "      <td>Black Widow</td>\n",
       "      <td>good</td>\n",
       "      <td>female</td>\n",
       "      <td>Marvel</td>\n",
       "    </tr>\n",
       "    <tr>\n",
       "      <th>1</th>\n",
       "      <td>Superman</td>\n",
       "      <td>good</td>\n",
       "      <td>male</td>\n",
       "      <td>DC</td>\n",
       "    </tr>\n",
       "  </tbody>\n",
       "</table>\n",
       "</div>"
      ],
      "text/plain": [
       "          name alignment  gender publisher\n",
       "0  Black Widow      good  female    Marvel\n",
       "1     Superman      good    male        DC"
      ]
     },
     "execution_count": 488,
     "metadata": {},
     "output_type": "execute_result"
    }
   ],
   "source": [
    "superheroes2"
   ]
  },
  {
   "cell_type": "code",
   "execution_count": 489,
   "metadata": {},
   "outputs": [
    {
     "data": {
      "text/html": [
       "<div>\n",
       "<style scoped>\n",
       "    .dataframe tbody tr th:only-of-type {\n",
       "        vertical-align: middle;\n",
       "    }\n",
       "\n",
       "    .dataframe tbody tr th {\n",
       "        vertical-align: top;\n",
       "    }\n",
       "\n",
       "    .dataframe thead th {\n",
       "        text-align: right;\n",
       "    }\n",
       "</style>\n",
       "<table border=\"1\" class=\"dataframe\">\n",
       "  <thead>\n",
       "    <tr style=\"text-align: right;\">\n",
       "      <th></th>\n",
       "      <th>publisher</th>\n",
       "      <th>year_founded</th>\n",
       "    </tr>\n",
       "  </thead>\n",
       "  <tbody>\n",
       "    <tr>\n",
       "      <th>0</th>\n",
       "      <td>Marvel</td>\n",
       "      <td>1934</td>\n",
       "    </tr>\n",
       "    <tr>\n",
       "      <th>1</th>\n",
       "      <td>DC</td>\n",
       "      <td>1939</td>\n",
       "    </tr>\n",
       "    <tr>\n",
       "      <th>2</th>\n",
       "      <td>Image</td>\n",
       "      <td>1992</td>\n",
       "    </tr>\n",
       "  </tbody>\n",
       "</table>\n",
       "</div>"
      ],
      "text/plain": [
       "  publisher year_founded\n",
       "0    Marvel         1934\n",
       "1        DC         1939\n",
       "2     Image         1992"
      ]
     },
     "execution_count": 489,
     "metadata": {},
     "output_type": "execute_result"
    }
   ],
   "source": [
    "publishers"
   ]
  },
  {
   "cell_type": "markdown",
   "metadata": {
    "slideshow": {
     "slide_type": "subslide"
    }
   },
   "source": [
    "## Concat\n",
    "\n",
    "Many a time, we are required to combine different arrays. So, instead of typing each of their elements manually, you can use array concatenation to handle such tasks easily."
   ]
  },
  {
   "cell_type": "code",
   "execution_count": 490,
   "metadata": {
    "slideshow": {
     "slide_type": "fragment"
    }
   },
   "outputs": [
    {
     "data": {
      "text/html": [
       "<div>\n",
       "<style scoped>\n",
       "    .dataframe tbody tr th:only-of-type {\n",
       "        vertical-align: middle;\n",
       "    }\n",
       "\n",
       "    .dataframe tbody tr th {\n",
       "        vertical-align: top;\n",
       "    }\n",
       "\n",
       "    .dataframe thead th {\n",
       "        text-align: right;\n",
       "    }\n",
       "</style>\n",
       "<table border=\"1\" class=\"dataframe\">\n",
       "  <thead>\n",
       "    <tr style=\"text-align: right;\">\n",
       "      <th></th>\n",
       "      <th>name</th>\n",
       "      <th>alignment</th>\n",
       "      <th>gender</th>\n",
       "      <th>publisher</th>\n",
       "    </tr>\n",
       "  </thead>\n",
       "  <tbody>\n",
       "    <tr>\n",
       "      <th>0</th>\n",
       "      <td>Magneto</td>\n",
       "      <td>bad</td>\n",
       "      <td>male</td>\n",
       "      <td>Marvel</td>\n",
       "    </tr>\n",
       "    <tr>\n",
       "      <th>1</th>\n",
       "      <td>Storm</td>\n",
       "      <td>good</td>\n",
       "      <td>female</td>\n",
       "      <td>Marvel</td>\n",
       "    </tr>\n",
       "    <tr>\n",
       "      <th>2</th>\n",
       "      <td>Mystique</td>\n",
       "      <td>bad</td>\n",
       "      <td>female</td>\n",
       "      <td>Marvel</td>\n",
       "    </tr>\n",
       "    <tr>\n",
       "      <th>3</th>\n",
       "      <td>Batman</td>\n",
       "      <td>good</td>\n",
       "      <td>male</td>\n",
       "      <td>DC</td>\n",
       "    </tr>\n",
       "    <tr>\n",
       "      <th>4</th>\n",
       "      <td>Joker</td>\n",
       "      <td>bad</td>\n",
       "      <td>male</td>\n",
       "      <td>DC</td>\n",
       "    </tr>\n",
       "    <tr>\n",
       "      <th>5</th>\n",
       "      <td>Catwoman</td>\n",
       "      <td>bad</td>\n",
       "      <td>female</td>\n",
       "      <td>DC</td>\n",
       "    </tr>\n",
       "    <tr>\n",
       "      <th>6</th>\n",
       "      <td>Hellboy</td>\n",
       "      <td>good</td>\n",
       "      <td>male</td>\n",
       "      <td>Dark Horse Comics</td>\n",
       "    </tr>\n",
       "    <tr>\n",
       "      <th>7</th>\n",
       "      <td>Black Widow</td>\n",
       "      <td>good</td>\n",
       "      <td>female</td>\n",
       "      <td>Marvel</td>\n",
       "    </tr>\n",
       "    <tr>\n",
       "      <th>8</th>\n",
       "      <td>Superman</td>\n",
       "      <td>good</td>\n",
       "      <td>male</td>\n",
       "      <td>DC</td>\n",
       "    </tr>\n",
       "  </tbody>\n",
       "</table>\n",
       "</div>"
      ],
      "text/plain": [
       "          name alignment  gender          publisher\n",
       "0      Magneto       bad    male             Marvel\n",
       "1        Storm      good  female             Marvel\n",
       "2     Mystique       bad  female             Marvel\n",
       "3       Batman      good    male                 DC\n",
       "4        Joker       bad    male                 DC\n",
       "5     Catwoman       bad  female                 DC\n",
       "6      Hellboy      good    male  Dark Horse Comics\n",
       "7  Black Widow      good  female             Marvel\n",
       "8     Superman      good    male                 DC"
      ]
     },
     "execution_count": 490,
     "metadata": {},
     "output_type": "execute_result"
    }
   ],
   "source": [
    "pd.concat([superheroes1, superheroes2]).reset_index(drop=True)"
   ]
  },
  {
   "cell_type": "code",
   "execution_count": 491,
   "metadata": {},
   "outputs": [],
   "source": [
    "superheroes = pd.concat([superheroes1, superheroes2], ignore_index=True)"
   ]
  },
  {
   "cell_type": "markdown",
   "metadata": {},
   "source": [
    "![](https://shanelynnwebsite-mid9n9g1q9y8tt.netdna-ssl.com/wp-content/uploads/2017/03/join-types-merge-names.jpg)"
   ]
  },
  {
   "cell_type": "code",
   "execution_count": 492,
   "metadata": {},
   "outputs": [
    {
     "data": {
      "text/html": [
       "<div>\n",
       "<style scoped>\n",
       "    .dataframe tbody tr th:only-of-type {\n",
       "        vertical-align: middle;\n",
       "    }\n",
       "\n",
       "    .dataframe tbody tr th {\n",
       "        vertical-align: top;\n",
       "    }\n",
       "\n",
       "    .dataframe thead th {\n",
       "        text-align: right;\n",
       "    }\n",
       "</style>\n",
       "<table border=\"1\" class=\"dataframe\">\n",
       "  <thead>\n",
       "    <tr style=\"text-align: right;\">\n",
       "      <th></th>\n",
       "      <th>name</th>\n",
       "      <th>alignment</th>\n",
       "      <th>gender</th>\n",
       "      <th>publisher</th>\n",
       "    </tr>\n",
       "  </thead>\n",
       "  <tbody>\n",
       "    <tr>\n",
       "      <th>0</th>\n",
       "      <td>Magneto</td>\n",
       "      <td>bad</td>\n",
       "      <td>male</td>\n",
       "      <td>Marvel</td>\n",
       "    </tr>\n",
       "    <tr>\n",
       "      <th>1</th>\n",
       "      <td>Storm</td>\n",
       "      <td>good</td>\n",
       "      <td>female</td>\n",
       "      <td>Marvel</td>\n",
       "    </tr>\n",
       "    <tr>\n",
       "      <th>2</th>\n",
       "      <td>Mystique</td>\n",
       "      <td>bad</td>\n",
       "      <td>female</td>\n",
       "      <td>Marvel</td>\n",
       "    </tr>\n",
       "    <tr>\n",
       "      <th>3</th>\n",
       "      <td>Batman</td>\n",
       "      <td>good</td>\n",
       "      <td>male</td>\n",
       "      <td>DC</td>\n",
       "    </tr>\n",
       "    <tr>\n",
       "      <th>4</th>\n",
       "      <td>Joker</td>\n",
       "      <td>bad</td>\n",
       "      <td>male</td>\n",
       "      <td>DC</td>\n",
       "    </tr>\n",
       "    <tr>\n",
       "      <th>5</th>\n",
       "      <td>Catwoman</td>\n",
       "      <td>bad</td>\n",
       "      <td>female</td>\n",
       "      <td>DC</td>\n",
       "    </tr>\n",
       "    <tr>\n",
       "      <th>6</th>\n",
       "      <td>Hellboy</td>\n",
       "      <td>good</td>\n",
       "      <td>male</td>\n",
       "      <td>Dark Horse Comics</td>\n",
       "    </tr>\n",
       "    <tr>\n",
       "      <th>7</th>\n",
       "      <td>Black Widow</td>\n",
       "      <td>good</td>\n",
       "      <td>female</td>\n",
       "      <td>Marvel</td>\n",
       "    </tr>\n",
       "    <tr>\n",
       "      <th>8</th>\n",
       "      <td>Superman</td>\n",
       "      <td>good</td>\n",
       "      <td>male</td>\n",
       "      <td>DC</td>\n",
       "    </tr>\n",
       "  </tbody>\n",
       "</table>\n",
       "</div>"
      ],
      "text/plain": [
       "          name alignment  gender          publisher\n",
       "0      Magneto       bad    male             Marvel\n",
       "1        Storm      good  female             Marvel\n",
       "2     Mystique       bad  female             Marvel\n",
       "3       Batman      good    male                 DC\n",
       "4        Joker       bad    male                 DC\n",
       "5     Catwoman       bad  female                 DC\n",
       "6      Hellboy      good    male  Dark Horse Comics\n",
       "7  Black Widow      good  female             Marvel\n",
       "8     Superman      good    male                 DC"
      ]
     },
     "execution_count": 492,
     "metadata": {},
     "output_type": "execute_result"
    }
   ],
   "source": [
    "superheroes"
   ]
  },
  {
   "cell_type": "code",
   "execution_count": 493,
   "metadata": {},
   "outputs": [
    {
     "data": {
      "text/html": [
       "<div>\n",
       "<style scoped>\n",
       "    .dataframe tbody tr th:only-of-type {\n",
       "        vertical-align: middle;\n",
       "    }\n",
       "\n",
       "    .dataframe tbody tr th {\n",
       "        vertical-align: top;\n",
       "    }\n",
       "\n",
       "    .dataframe thead th {\n",
       "        text-align: right;\n",
       "    }\n",
       "</style>\n",
       "<table border=\"1\" class=\"dataframe\">\n",
       "  <thead>\n",
       "    <tr style=\"text-align: right;\">\n",
       "      <th></th>\n",
       "      <th>publisher</th>\n",
       "      <th>year_founded</th>\n",
       "    </tr>\n",
       "  </thead>\n",
       "  <tbody>\n",
       "    <tr>\n",
       "      <th>0</th>\n",
       "      <td>Marvel</td>\n",
       "      <td>1934</td>\n",
       "    </tr>\n",
       "    <tr>\n",
       "      <th>1</th>\n",
       "      <td>DC</td>\n",
       "      <td>1939</td>\n",
       "    </tr>\n",
       "    <tr>\n",
       "      <th>2</th>\n",
       "      <td>Image</td>\n",
       "      <td>1992</td>\n",
       "    </tr>\n",
       "  </tbody>\n",
       "</table>\n",
       "</div>"
      ],
      "text/plain": [
       "  publisher year_founded\n",
       "0    Marvel         1934\n",
       "1        DC         1939\n",
       "2     Image         1992"
      ]
     },
     "execution_count": 493,
     "metadata": {},
     "output_type": "execute_result"
    }
   ],
   "source": [
    "publishers"
   ]
  },
  {
   "cell_type": "code",
   "execution_count": null,
   "metadata": {},
   "outputs": [],
   "source": []
  },
  {
   "cell_type": "markdown",
   "metadata": {
    "slideshow": {
     "slide_type": "subslide"
    }
   },
   "source": [
    "## Merge\n",
    "\n",
    "Many a times you will be working with multiple dataframes all at once.\n",
    "\n",
    "The merge function allows them to be combined into a single data frame"
   ]
  },
  {
   "cell_type": "code",
   "execution_count": 494,
   "metadata": {
    "slideshow": {
     "slide_type": "fragment"
    }
   },
   "outputs": [
    {
     "data": {
      "text/html": [
       "<div>\n",
       "<style scoped>\n",
       "    .dataframe tbody tr th:only-of-type {\n",
       "        vertical-align: middle;\n",
       "    }\n",
       "\n",
       "    .dataframe tbody tr th {\n",
       "        vertical-align: top;\n",
       "    }\n",
       "\n",
       "    .dataframe thead th {\n",
       "        text-align: right;\n",
       "    }\n",
       "</style>\n",
       "<table border=\"1\" class=\"dataframe\">\n",
       "  <thead>\n",
       "    <tr style=\"text-align: right;\">\n",
       "      <th></th>\n",
       "      <th>name</th>\n",
       "      <th>alignment</th>\n",
       "      <th>gender</th>\n",
       "      <th>publisher</th>\n",
       "      <th>year_founded</th>\n",
       "    </tr>\n",
       "  </thead>\n",
       "  <tbody>\n",
       "    <tr>\n",
       "      <th>0</th>\n",
       "      <td>Magneto</td>\n",
       "      <td>bad</td>\n",
       "      <td>male</td>\n",
       "      <td>Marvel</td>\n",
       "      <td>1934</td>\n",
       "    </tr>\n",
       "    <tr>\n",
       "      <th>1</th>\n",
       "      <td>Storm</td>\n",
       "      <td>good</td>\n",
       "      <td>female</td>\n",
       "      <td>Marvel</td>\n",
       "      <td>1934</td>\n",
       "    </tr>\n",
       "    <tr>\n",
       "      <th>2</th>\n",
       "      <td>Mystique</td>\n",
       "      <td>bad</td>\n",
       "      <td>female</td>\n",
       "      <td>Marvel</td>\n",
       "      <td>1934</td>\n",
       "    </tr>\n",
       "    <tr>\n",
       "      <th>3</th>\n",
       "      <td>Batman</td>\n",
       "      <td>good</td>\n",
       "      <td>male</td>\n",
       "      <td>DC</td>\n",
       "      <td>1939</td>\n",
       "    </tr>\n",
       "    <tr>\n",
       "      <th>4</th>\n",
       "      <td>Joker</td>\n",
       "      <td>bad</td>\n",
       "      <td>male</td>\n",
       "      <td>DC</td>\n",
       "      <td>1939</td>\n",
       "    </tr>\n",
       "    <tr>\n",
       "      <th>5</th>\n",
       "      <td>Catwoman</td>\n",
       "      <td>bad</td>\n",
       "      <td>female</td>\n",
       "      <td>DC</td>\n",
       "      <td>1939</td>\n",
       "    </tr>\n",
       "    <tr>\n",
       "      <th>6</th>\n",
       "      <td>Hellboy</td>\n",
       "      <td>good</td>\n",
       "      <td>male</td>\n",
       "      <td>Dark Horse Comics</td>\n",
       "      <td>NaN</td>\n",
       "    </tr>\n",
       "    <tr>\n",
       "      <th>7</th>\n",
       "      <td>Black Widow</td>\n",
       "      <td>good</td>\n",
       "      <td>female</td>\n",
       "      <td>Marvel</td>\n",
       "      <td>1934</td>\n",
       "    </tr>\n",
       "    <tr>\n",
       "      <th>8</th>\n",
       "      <td>Superman</td>\n",
       "      <td>good</td>\n",
       "      <td>male</td>\n",
       "      <td>DC</td>\n",
       "      <td>1939</td>\n",
       "    </tr>\n",
       "  </tbody>\n",
       "</table>\n",
       "</div>"
      ],
      "text/plain": [
       "          name alignment  gender          publisher year_founded\n",
       "0      Magneto       bad    male             Marvel         1934\n",
       "1        Storm      good  female             Marvel         1934\n",
       "2     Mystique       bad  female             Marvel         1934\n",
       "3       Batman      good    male                 DC         1939\n",
       "4        Joker       bad    male                 DC         1939\n",
       "5     Catwoman       bad  female                 DC         1939\n",
       "6      Hellboy      good    male  Dark Horse Comics          NaN\n",
       "7  Black Widow      good  female             Marvel         1934\n",
       "8     Superman      good    male                 DC         1939"
      ]
     },
     "execution_count": 494,
     "metadata": {},
     "output_type": "execute_result"
    }
   ],
   "source": [
    "pd.merge(superheroes, \n",
    "         publishers, \n",
    "         on='publisher', \n",
    "         how='left')"
   ]
  },
  {
   "cell_type": "code",
   "execution_count": 495,
   "metadata": {
    "slideshow": {
     "slide_type": "subslide"
    }
   },
   "outputs": [
    {
     "data": {
      "text/html": [
       "<div>\n",
       "<style scoped>\n",
       "    .dataframe tbody tr th:only-of-type {\n",
       "        vertical-align: middle;\n",
       "    }\n",
       "\n",
       "    .dataframe tbody tr th {\n",
       "        vertical-align: top;\n",
       "    }\n",
       "\n",
       "    .dataframe thead th {\n",
       "        text-align: right;\n",
       "    }\n",
       "</style>\n",
       "<table border=\"1\" class=\"dataframe\">\n",
       "  <thead>\n",
       "    <tr style=\"text-align: right;\">\n",
       "      <th></th>\n",
       "      <th>name</th>\n",
       "      <th>alignment</th>\n",
       "      <th>gender</th>\n",
       "      <th>publisher</th>\n",
       "      <th>year_founded</th>\n",
       "    </tr>\n",
       "  </thead>\n",
       "  <tbody>\n",
       "    <tr>\n",
       "      <th>0</th>\n",
       "      <td>Magneto</td>\n",
       "      <td>bad</td>\n",
       "      <td>male</td>\n",
       "      <td>Marvel</td>\n",
       "      <td>1934</td>\n",
       "    </tr>\n",
       "    <tr>\n",
       "      <th>1</th>\n",
       "      <td>Storm</td>\n",
       "      <td>good</td>\n",
       "      <td>female</td>\n",
       "      <td>Marvel</td>\n",
       "      <td>1934</td>\n",
       "    </tr>\n",
       "    <tr>\n",
       "      <th>2</th>\n",
       "      <td>Mystique</td>\n",
       "      <td>bad</td>\n",
       "      <td>female</td>\n",
       "      <td>Marvel</td>\n",
       "      <td>1934</td>\n",
       "    </tr>\n",
       "    <tr>\n",
       "      <th>3</th>\n",
       "      <td>Black Widow</td>\n",
       "      <td>good</td>\n",
       "      <td>female</td>\n",
       "      <td>Marvel</td>\n",
       "      <td>1934</td>\n",
       "    </tr>\n",
       "    <tr>\n",
       "      <th>4</th>\n",
       "      <td>Batman</td>\n",
       "      <td>good</td>\n",
       "      <td>male</td>\n",
       "      <td>DC</td>\n",
       "      <td>1939</td>\n",
       "    </tr>\n",
       "    <tr>\n",
       "      <th>5</th>\n",
       "      <td>Joker</td>\n",
       "      <td>bad</td>\n",
       "      <td>male</td>\n",
       "      <td>DC</td>\n",
       "      <td>1939</td>\n",
       "    </tr>\n",
       "    <tr>\n",
       "      <th>6</th>\n",
       "      <td>Catwoman</td>\n",
       "      <td>bad</td>\n",
       "      <td>female</td>\n",
       "      <td>DC</td>\n",
       "      <td>1939</td>\n",
       "    </tr>\n",
       "    <tr>\n",
       "      <th>7</th>\n",
       "      <td>Superman</td>\n",
       "      <td>good</td>\n",
       "      <td>male</td>\n",
       "      <td>DC</td>\n",
       "      <td>1939</td>\n",
       "    </tr>\n",
       "  </tbody>\n",
       "</table>\n",
       "</div>"
      ],
      "text/plain": [
       "          name alignment  gender publisher year_founded\n",
       "0      Magneto       bad    male    Marvel         1934\n",
       "1        Storm      good  female    Marvel         1934\n",
       "2     Mystique       bad  female    Marvel         1934\n",
       "3  Black Widow      good  female    Marvel         1934\n",
       "4       Batman      good    male        DC         1939\n",
       "5        Joker       bad    male        DC         1939\n",
       "6     Catwoman       bad  female        DC         1939\n",
       "7     Superman      good    male        DC         1939"
      ]
     },
     "execution_count": 495,
     "metadata": {},
     "output_type": "execute_result"
    }
   ],
   "source": [
    "pd.merge(superheroes, \n",
    "         publishers, \n",
    "         on='publisher', \n",
    "         how='inner')"
   ]
  },
  {
   "cell_type": "code",
   "execution_count": 496,
   "metadata": {},
   "outputs": [
    {
     "data": {
      "text/html": [
       "<div>\n",
       "<style scoped>\n",
       "    .dataframe tbody tr th:only-of-type {\n",
       "        vertical-align: middle;\n",
       "    }\n",
       "\n",
       "    .dataframe tbody tr th {\n",
       "        vertical-align: top;\n",
       "    }\n",
       "\n",
       "    .dataframe thead th {\n",
       "        text-align: right;\n",
       "    }\n",
       "</style>\n",
       "<table border=\"1\" class=\"dataframe\">\n",
       "  <thead>\n",
       "    <tr style=\"text-align: right;\">\n",
       "      <th></th>\n",
       "      <th>name</th>\n",
       "      <th>alignment</th>\n",
       "      <th>gender</th>\n",
       "      <th>publisher</th>\n",
       "      <th>year_founded</th>\n",
       "    </tr>\n",
       "  </thead>\n",
       "  <tbody>\n",
       "    <tr>\n",
       "      <th>0</th>\n",
       "      <td>Magneto</td>\n",
       "      <td>bad</td>\n",
       "      <td>male</td>\n",
       "      <td>Marvel</td>\n",
       "      <td>1934</td>\n",
       "    </tr>\n",
       "    <tr>\n",
       "      <th>1</th>\n",
       "      <td>Storm</td>\n",
       "      <td>good</td>\n",
       "      <td>female</td>\n",
       "      <td>Marvel</td>\n",
       "      <td>1934</td>\n",
       "    </tr>\n",
       "    <tr>\n",
       "      <th>2</th>\n",
       "      <td>Mystique</td>\n",
       "      <td>bad</td>\n",
       "      <td>female</td>\n",
       "      <td>Marvel</td>\n",
       "      <td>1934</td>\n",
       "    </tr>\n",
       "    <tr>\n",
       "      <th>3</th>\n",
       "      <td>Black Widow</td>\n",
       "      <td>good</td>\n",
       "      <td>female</td>\n",
       "      <td>Marvel</td>\n",
       "      <td>1934</td>\n",
       "    </tr>\n",
       "    <tr>\n",
       "      <th>4</th>\n",
       "      <td>Batman</td>\n",
       "      <td>good</td>\n",
       "      <td>male</td>\n",
       "      <td>DC</td>\n",
       "      <td>1939</td>\n",
       "    </tr>\n",
       "    <tr>\n",
       "      <th>5</th>\n",
       "      <td>Joker</td>\n",
       "      <td>bad</td>\n",
       "      <td>male</td>\n",
       "      <td>DC</td>\n",
       "      <td>1939</td>\n",
       "    </tr>\n",
       "    <tr>\n",
       "      <th>6</th>\n",
       "      <td>Catwoman</td>\n",
       "      <td>bad</td>\n",
       "      <td>female</td>\n",
       "      <td>DC</td>\n",
       "      <td>1939</td>\n",
       "    </tr>\n",
       "    <tr>\n",
       "      <th>7</th>\n",
       "      <td>Superman</td>\n",
       "      <td>good</td>\n",
       "      <td>male</td>\n",
       "      <td>DC</td>\n",
       "      <td>1939</td>\n",
       "    </tr>\n",
       "    <tr>\n",
       "      <th>8</th>\n",
       "      <td>NaN</td>\n",
       "      <td>NaN</td>\n",
       "      <td>NaN</td>\n",
       "      <td>Image</td>\n",
       "      <td>1992</td>\n",
       "    </tr>\n",
       "  </tbody>\n",
       "</table>\n",
       "</div>"
      ],
      "text/plain": [
       "          name alignment  gender publisher year_founded\n",
       "0      Magneto       bad    male    Marvel         1934\n",
       "1        Storm      good  female    Marvel         1934\n",
       "2     Mystique       bad  female    Marvel         1934\n",
       "3  Black Widow      good  female    Marvel         1934\n",
       "4       Batman      good    male        DC         1939\n",
       "5        Joker       bad    male        DC         1939\n",
       "6     Catwoman       bad  female        DC         1939\n",
       "7     Superman      good    male        DC         1939\n",
       "8          NaN       NaN     NaN     Image         1992"
      ]
     },
     "execution_count": 496,
     "metadata": {},
     "output_type": "execute_result"
    }
   ],
   "source": [
    "pd.merge(superheroes, \n",
    "         publishers, \n",
    "         on='publisher', \n",
    "         how='right')"
   ]
  },
  {
   "cell_type": "code",
   "execution_count": null,
   "metadata": {},
   "outputs": [],
   "source": []
  },
  {
   "cell_type": "code",
   "execution_count": 497,
   "metadata": {},
   "outputs": [
    {
     "data": {
      "text/html": [
       "<div>\n",
       "<style scoped>\n",
       "    .dataframe tbody tr th:only-of-type {\n",
       "        vertical-align: middle;\n",
       "    }\n",
       "\n",
       "    .dataframe tbody tr th {\n",
       "        vertical-align: top;\n",
       "    }\n",
       "\n",
       "    .dataframe thead th {\n",
       "        text-align: right;\n",
       "    }\n",
       "</style>\n",
       "<table border=\"1\" class=\"dataframe\">\n",
       "  <thead>\n",
       "    <tr style=\"text-align: right;\">\n",
       "      <th></th>\n",
       "      <th>name</th>\n",
       "      <th>alignment</th>\n",
       "      <th>gender</th>\n",
       "      <th>publisher</th>\n",
       "      <th>year_founded</th>\n",
       "    </tr>\n",
       "  </thead>\n",
       "  <tbody>\n",
       "    <tr>\n",
       "      <th>0</th>\n",
       "      <td>Magneto</td>\n",
       "      <td>bad</td>\n",
       "      <td>male</td>\n",
       "      <td>Marvel</td>\n",
       "      <td>1934</td>\n",
       "    </tr>\n",
       "    <tr>\n",
       "      <th>1</th>\n",
       "      <td>Storm</td>\n",
       "      <td>good</td>\n",
       "      <td>female</td>\n",
       "      <td>Marvel</td>\n",
       "      <td>1934</td>\n",
       "    </tr>\n",
       "    <tr>\n",
       "      <th>2</th>\n",
       "      <td>Mystique</td>\n",
       "      <td>bad</td>\n",
       "      <td>female</td>\n",
       "      <td>Marvel</td>\n",
       "      <td>1934</td>\n",
       "    </tr>\n",
       "    <tr>\n",
       "      <th>3</th>\n",
       "      <td>Batman</td>\n",
       "      <td>good</td>\n",
       "      <td>male</td>\n",
       "      <td>DC</td>\n",
       "      <td>1939</td>\n",
       "    </tr>\n",
       "    <tr>\n",
       "      <th>4</th>\n",
       "      <td>Joker</td>\n",
       "      <td>bad</td>\n",
       "      <td>male</td>\n",
       "      <td>DC</td>\n",
       "      <td>1939</td>\n",
       "    </tr>\n",
       "    <tr>\n",
       "      <th>5</th>\n",
       "      <td>Catwoman</td>\n",
       "      <td>bad</td>\n",
       "      <td>female</td>\n",
       "      <td>DC</td>\n",
       "      <td>1939</td>\n",
       "    </tr>\n",
       "    <tr>\n",
       "      <th>6</th>\n",
       "      <td>Hellboy</td>\n",
       "      <td>good</td>\n",
       "      <td>male</td>\n",
       "      <td>Dark Horse Comics</td>\n",
       "      <td>NaN</td>\n",
       "    </tr>\n",
       "    <tr>\n",
       "      <th>7</th>\n",
       "      <td>NaN</td>\n",
       "      <td>NaN</td>\n",
       "      <td>NaN</td>\n",
       "      <td>Image</td>\n",
       "      <td>1992</td>\n",
       "    </tr>\n",
       "  </tbody>\n",
       "</table>\n",
       "</div>"
      ],
      "text/plain": [
       "       name alignment  gender          publisher year_founded\n",
       "0   Magneto       bad    male             Marvel         1934\n",
       "1     Storm      good  female             Marvel         1934\n",
       "2  Mystique       bad  female             Marvel         1934\n",
       "3    Batman      good    male                 DC         1939\n",
       "4     Joker       bad    male                 DC         1939\n",
       "5  Catwoman       bad  female                 DC         1939\n",
       "6   Hellboy      good    male  Dark Horse Comics          NaN\n",
       "7       NaN       NaN     NaN              Image         1992"
      ]
     },
     "execution_count": 497,
     "metadata": {},
     "output_type": "execute_result"
    }
   ],
   "source": [
    "pd.merge(superheroes1, \n",
    "         publishers, \n",
    "         on='publisher', \n",
    "         how='outer')"
   ]
  },
  {
   "cell_type": "markdown",
   "metadata": {
    "slideshow": {
     "slide_type": "subslide"
    }
   },
   "source": [
    "## Join\n",
    "***\n",
    "Simply join two DFs having potentially different row indices\n",
    "\n",
    "You can do both inner as well as outer joins using the join function in pandas\n",
    "- Parameters {‘inner’, ‘outer’}, default ‘outer’. Outer for union and inner for intersection."
   ]
  },
  {
   "cell_type": "markdown",
   "metadata": {},
   "source": [
    "### `left` join"
   ]
  },
  {
   "cell_type": "code",
   "execution_count": 47,
   "metadata": {
    "scrolled": true
   },
   "outputs": [
    {
     "name": "stdout",
     "output_type": "stream",
     "text": [
      "<class 'pandas.core.frame.DataFrame'>\n",
      "RangeIndex: 7 entries, 0 to 6\n",
      "Data columns (total 4 columns):\n",
      "name         7 non-null object\n",
      "alignment    7 non-null object\n",
      "gender       7 non-null object\n",
      "publisher    7 non-null object\n",
      "dtypes: object(4)\n",
      "memory usage: 304.0+ bytes\n"
     ]
    }
   ],
   "source": [
    "superheroes1.info()"
   ]
  },
  {
   "cell_type": "code",
   "execution_count": 48,
   "metadata": {},
   "outputs": [
    {
     "name": "stdout",
     "output_type": "stream",
     "text": [
      "<class 'pandas.core.frame.DataFrame'>\n",
      "RangeIndex: 3 entries, 0 to 2\n",
      "Data columns (total 2 columns):\n",
      "publisher       3 non-null object\n",
      "year_founded    3 non-null object\n",
      "dtypes: object(2)\n",
      "memory usage: 128.0+ bytes\n"
     ]
    }
   ],
   "source": [
    "publishers.info()"
   ]
  },
  {
   "cell_type": "code",
   "execution_count": 70,
   "metadata": {},
   "outputs": [
    {
     "data": {
      "text/html": [
       "<div>\n",
       "<style scoped>\n",
       "    .dataframe tbody tr th:only-of-type {\n",
       "        vertical-align: middle;\n",
       "    }\n",
       "\n",
       "    .dataframe tbody tr th {\n",
       "        vertical-align: top;\n",
       "    }\n",
       "\n",
       "    .dataframe thead th {\n",
       "        text-align: right;\n",
       "    }\n",
       "</style>\n",
       "<table border=\"1\" class=\"dataframe\">\n",
       "  <thead>\n",
       "    <tr style=\"text-align: right;\">\n",
       "      <th></th>\n",
       "      <th>publisher</th>\n",
       "      <th>year_founded</th>\n",
       "    </tr>\n",
       "  </thead>\n",
       "  <tbody>\n",
       "    <tr>\n",
       "      <th>0</th>\n",
       "      <td>Marvel</td>\n",
       "      <td>1934</td>\n",
       "    </tr>\n",
       "    <tr>\n",
       "      <th>1</th>\n",
       "      <td>DC</td>\n",
       "      <td>1939</td>\n",
       "    </tr>\n",
       "    <tr>\n",
       "      <th>2</th>\n",
       "      <td>Image</td>\n",
       "      <td>1992</td>\n",
       "    </tr>\n",
       "  </tbody>\n",
       "</table>\n",
       "</div>"
      ],
      "text/plain": [
       "  publisher year_founded\n",
       "0    Marvel         1934\n",
       "1        DC         1939\n",
       "2     Image         1992"
      ]
     },
     "execution_count": 70,
     "metadata": {},
     "output_type": "execute_result"
    }
   ],
   "source": [
    "publishers"
   ]
  },
  {
   "cell_type": "code",
   "execution_count": 73,
   "metadata": {
    "slideshow": {
     "slide_type": "fragment"
    }
   },
   "outputs": [
    {
     "data": {
      "text/html": [
       "<div>\n",
       "<style scoped>\n",
       "    .dataframe tbody tr th:only-of-type {\n",
       "        vertical-align: middle;\n",
       "    }\n",
       "\n",
       "    .dataframe tbody tr th {\n",
       "        vertical-align: top;\n",
       "    }\n",
       "\n",
       "    .dataframe thead th {\n",
       "        text-align: right;\n",
       "    }\n",
       "</style>\n",
       "<table border=\"1\" class=\"dataframe\">\n",
       "  <thead>\n",
       "    <tr style=\"text-align: right;\">\n",
       "      <th></th>\n",
       "      <th>name</th>\n",
       "      <th>alignment</th>\n",
       "      <th>gender</th>\n",
       "    </tr>\n",
       "    <tr>\n",
       "      <th>publisher</th>\n",
       "      <th></th>\n",
       "      <th></th>\n",
       "      <th></th>\n",
       "    </tr>\n",
       "  </thead>\n",
       "  <tbody>\n",
       "    <tr>\n",
       "      <th>Marvel</th>\n",
       "      <td>Magneto</td>\n",
       "      <td>bad</td>\n",
       "      <td>male</td>\n",
       "    </tr>\n",
       "    <tr>\n",
       "      <th>Marvel</th>\n",
       "      <td>Storm</td>\n",
       "      <td>good</td>\n",
       "      <td>female</td>\n",
       "    </tr>\n",
       "    <tr>\n",
       "      <th>Marvel</th>\n",
       "      <td>Mystique</td>\n",
       "      <td>bad</td>\n",
       "      <td>female</td>\n",
       "    </tr>\n",
       "    <tr>\n",
       "      <th>DC</th>\n",
       "      <td>Batman</td>\n",
       "      <td>good</td>\n",
       "      <td>male</td>\n",
       "    </tr>\n",
       "    <tr>\n",
       "      <th>DC</th>\n",
       "      <td>Joker</td>\n",
       "      <td>bad</td>\n",
       "      <td>male</td>\n",
       "    </tr>\n",
       "    <tr>\n",
       "      <th>DC</th>\n",
       "      <td>Catwoman</td>\n",
       "      <td>bad</td>\n",
       "      <td>female</td>\n",
       "    </tr>\n",
       "    <tr>\n",
       "      <th>Dark Horse Comics</th>\n",
       "      <td>Hellboy</td>\n",
       "      <td>good</td>\n",
       "      <td>male</td>\n",
       "    </tr>\n",
       "  </tbody>\n",
       "</table>\n",
       "</div>"
      ],
      "text/plain": [
       "                       name alignment  gender\n",
       "publisher                                    \n",
       "Marvel              Magneto       bad    male\n",
       "Marvel                Storm      good  female\n",
       "Marvel             Mystique       bad  female\n",
       "DC                   Batman      good    male\n",
       "DC                    Joker       bad    male\n",
       "DC                 Catwoman       bad  female\n",
       "Dark Horse Comics   Hellboy      good    male"
      ]
     },
     "execution_count": 73,
     "metadata": {},
     "output_type": "execute_result"
    }
   ],
   "source": [
    "superheroes1.set_index('publisher')"
   ]
  },
  {
   "cell_type": "code",
   "execution_count": 498,
   "metadata": {},
   "outputs": [
    {
     "data": {
      "text/html": [
       "<div>\n",
       "<style scoped>\n",
       "    .dataframe tbody tr th:only-of-type {\n",
       "        vertical-align: middle;\n",
       "    }\n",
       "\n",
       "    .dataframe tbody tr th {\n",
       "        vertical-align: top;\n",
       "    }\n",
       "\n",
       "    .dataframe thead th {\n",
       "        text-align: right;\n",
       "    }\n",
       "</style>\n",
       "<table border=\"1\" class=\"dataframe\">\n",
       "  <thead>\n",
       "    <tr style=\"text-align: right;\">\n",
       "      <th></th>\n",
       "      <th>name</th>\n",
       "      <th>alignment</th>\n",
       "      <th>gender</th>\n",
       "      <th>year_founded</th>\n",
       "    </tr>\n",
       "    <tr>\n",
       "      <th>publisher</th>\n",
       "      <th></th>\n",
       "      <th></th>\n",
       "      <th></th>\n",
       "      <th></th>\n",
       "    </tr>\n",
       "  </thead>\n",
       "  <tbody>\n",
       "    <tr>\n",
       "      <th>DC</th>\n",
       "      <td>Batman</td>\n",
       "      <td>good</td>\n",
       "      <td>male</td>\n",
       "      <td>1939</td>\n",
       "    </tr>\n",
       "    <tr>\n",
       "      <th>DC</th>\n",
       "      <td>Joker</td>\n",
       "      <td>bad</td>\n",
       "      <td>male</td>\n",
       "      <td>1939</td>\n",
       "    </tr>\n",
       "    <tr>\n",
       "      <th>DC</th>\n",
       "      <td>Catwoman</td>\n",
       "      <td>bad</td>\n",
       "      <td>female</td>\n",
       "      <td>1939</td>\n",
       "    </tr>\n",
       "    <tr>\n",
       "      <th>Dark Horse Comics</th>\n",
       "      <td>Hellboy</td>\n",
       "      <td>good</td>\n",
       "      <td>male</td>\n",
       "      <td>NaN</td>\n",
       "    </tr>\n",
       "    <tr>\n",
       "      <th>Marvel</th>\n",
       "      <td>Magneto</td>\n",
       "      <td>bad</td>\n",
       "      <td>male</td>\n",
       "      <td>1934</td>\n",
       "    </tr>\n",
       "    <tr>\n",
       "      <th>Marvel</th>\n",
       "      <td>Storm</td>\n",
       "      <td>good</td>\n",
       "      <td>female</td>\n",
       "      <td>1934</td>\n",
       "    </tr>\n",
       "    <tr>\n",
       "      <th>Marvel</th>\n",
       "      <td>Mystique</td>\n",
       "      <td>bad</td>\n",
       "      <td>female</td>\n",
       "      <td>1934</td>\n",
       "    </tr>\n",
       "  </tbody>\n",
       "</table>\n",
       "</div>"
      ],
      "text/plain": [
       "                       name alignment  gender year_founded\n",
       "publisher                                                 \n",
       "DC                   Batman      good    male         1939\n",
       "DC                    Joker       bad    male         1939\n",
       "DC                 Catwoman       bad  female         1939\n",
       "Dark Horse Comics   Hellboy      good    male          NaN\n",
       "Marvel              Magneto       bad    male         1934\n",
       "Marvel                Storm      good  female         1934\n",
       "Marvel             Mystique       bad  female         1934"
      ]
     },
     "execution_count": 498,
     "metadata": {},
     "output_type": "execute_result"
    }
   ],
   "source": [
    "superheroes1.set_index('publisher').join(publishers.set_index('publisher'), how='left', rsuffix='_publisher')"
   ]
  },
  {
   "cell_type": "code",
   "execution_count": 499,
   "metadata": {},
   "outputs": [
    {
     "data": {
      "text/html": [
       "<div>\n",
       "<style scoped>\n",
       "    .dataframe tbody tr th:only-of-type {\n",
       "        vertical-align: middle;\n",
       "    }\n",
       "\n",
       "    .dataframe tbody tr th {\n",
       "        vertical-align: top;\n",
       "    }\n",
       "\n",
       "    .dataframe thead th {\n",
       "        text-align: right;\n",
       "    }\n",
       "</style>\n",
       "<table border=\"1\" class=\"dataframe\">\n",
       "  <thead>\n",
       "    <tr style=\"text-align: right;\">\n",
       "      <th></th>\n",
       "      <th>publisher</th>\n",
       "      <th>name</th>\n",
       "      <th>alignment</th>\n",
       "      <th>gender</th>\n",
       "      <th>year_founded</th>\n",
       "    </tr>\n",
       "  </thead>\n",
       "  <tbody>\n",
       "    <tr>\n",
       "      <th>0</th>\n",
       "      <td>DC</td>\n",
       "      <td>Batman</td>\n",
       "      <td>good</td>\n",
       "      <td>male</td>\n",
       "      <td>1939</td>\n",
       "    </tr>\n",
       "    <tr>\n",
       "      <th>1</th>\n",
       "      <td>DC</td>\n",
       "      <td>Joker</td>\n",
       "      <td>bad</td>\n",
       "      <td>male</td>\n",
       "      <td>1939</td>\n",
       "    </tr>\n",
       "    <tr>\n",
       "      <th>2</th>\n",
       "      <td>DC</td>\n",
       "      <td>Catwoman</td>\n",
       "      <td>bad</td>\n",
       "      <td>female</td>\n",
       "      <td>1939</td>\n",
       "    </tr>\n",
       "    <tr>\n",
       "      <th>3</th>\n",
       "      <td>Dark Horse Comics</td>\n",
       "      <td>Hellboy</td>\n",
       "      <td>good</td>\n",
       "      <td>male</td>\n",
       "      <td>NaN</td>\n",
       "    </tr>\n",
       "    <tr>\n",
       "      <th>4</th>\n",
       "      <td>Marvel</td>\n",
       "      <td>Magneto</td>\n",
       "      <td>bad</td>\n",
       "      <td>male</td>\n",
       "      <td>1934</td>\n",
       "    </tr>\n",
       "    <tr>\n",
       "      <th>5</th>\n",
       "      <td>Marvel</td>\n",
       "      <td>Storm</td>\n",
       "      <td>good</td>\n",
       "      <td>female</td>\n",
       "      <td>1934</td>\n",
       "    </tr>\n",
       "    <tr>\n",
       "      <th>6</th>\n",
       "      <td>Marvel</td>\n",
       "      <td>Mystique</td>\n",
       "      <td>bad</td>\n",
       "      <td>female</td>\n",
       "      <td>1934</td>\n",
       "    </tr>\n",
       "  </tbody>\n",
       "</table>\n",
       "</div>"
      ],
      "text/plain": [
       "           publisher      name alignment  gender year_founded\n",
       "0                 DC    Batman      good    male         1939\n",
       "1                 DC     Joker       bad    male         1939\n",
       "2                 DC  Catwoman       bad  female         1939\n",
       "3  Dark Horse Comics   Hellboy      good    male          NaN\n",
       "4             Marvel   Magneto       bad    male         1934\n",
       "5             Marvel     Storm      good  female         1934\n",
       "6             Marvel  Mystique       bad  female         1934"
      ]
     },
     "execution_count": 499,
     "metadata": {},
     "output_type": "execute_result"
    }
   ],
   "source": [
    "superheroes1.set_index('publisher').join(publishers.set_index('publisher'), how='left', rsuffix='_publisher').reset_index()"
   ]
  },
  {
   "cell_type": "markdown",
   "metadata": {},
   "source": [
    "### `outer` join"
   ]
  },
  {
   "cell_type": "code",
   "execution_count": null,
   "metadata": {},
   "outputs": [],
   "source": []
  },
  {
   "cell_type": "markdown",
   "metadata": {},
   "source": [
    "### `inner` join"
   ]
  },
  {
   "cell_type": "code",
   "execution_count": null,
   "metadata": {},
   "outputs": [],
   "source": []
  },
  {
   "cell_type": "markdown",
   "metadata": {},
   "source": [
    "### `right` join"
   ]
  },
  {
   "cell_type": "code",
   "execution_count": null,
   "metadata": {},
   "outputs": [],
   "source": []
  },
  {
   "cell_type": "markdown",
   "metadata": {},
   "source": [
    "## Add a few rows as lists"
   ]
  },
  {
   "cell_type": "code",
   "execution_count": 97,
   "metadata": {},
   "outputs": [],
   "source": [
    "date_time = ['2012-13-01', '2013-01-01', '2013-01-02', '2012-01-02']"
   ]
  },
  {
   "cell_type": "markdown",
   "metadata": {},
   "source": [
    "## Letting few of them to be NaNs"
   ]
  },
  {
   "cell_type": "code",
   "execution_count": 88,
   "metadata": {},
   "outputs": [],
   "source": [
    "temp = [np.nan, np.nan, 30, 12]"
   ]
  },
  {
   "cell_type": "code",
   "execution_count": 89,
   "metadata": {
    "collapsed": true
   },
   "outputs": [],
   "source": [
    "dew_pt_temp = [-2, np.nan, np.nan, -1]"
   ]
  },
  {
   "cell_type": "code",
   "execution_count": 90,
   "metadata": {
    "collapsed": true
   },
   "outputs": [],
   "source": [
    "relative_humidity = [np.nan, np.nan, np.nan, np.nan]"
   ]
  },
  {
   "cell_type": "code",
   "execution_count": 91,
   "metadata": {
    "collapsed": true
   },
   "outputs": [],
   "source": [
    "wind_speed = [np.nan, np.nan, np.nan, 50]"
   ]
  },
  {
   "cell_type": "code",
   "execution_count": 92,
   "metadata": {
    "collapsed": true
   },
   "outputs": [],
   "source": [
    "visibility = [np.nan, 10.0, np.nan, 12.1]"
   ]
  },
  {
   "cell_type": "code",
   "execution_count": 93,
   "metadata": {
    "collapsed": true
   },
   "outputs": [],
   "source": [
    "stn_pressure = [104.1, np.nan, 101.2, 101.24]"
   ]
  },
  {
   "cell_type": "code",
   "execution_count": 94,
   "metadata": {
    "collapsed": true
   },
   "outputs": [],
   "source": [
    "weather = ['Snow', None, None, 'Fog']"
   ]
  },
  {
   "cell_type": "markdown",
   "metadata": {},
   "source": [
    "## Create a new dataframe"
   ]
  },
  {
   "cell_type": "code",
   "execution_count": 102,
   "metadata": {},
   "outputs": [
    {
     "data": {
      "text/html": [
       "<div>\n",
       "<style>\n",
       "    .dataframe thead tr:only-child th {\n",
       "        text-align: right;\n",
       "    }\n",
       "\n",
       "    .dataframe thead th {\n",
       "        text-align: left;\n",
       "    }\n",
       "\n",
       "    .dataframe tbody tr th {\n",
       "        vertical-align: top;\n",
       "    }\n",
       "</style>\n",
       "<table border=\"1\" class=\"dataframe\">\n",
       "  <thead>\n",
       "    <tr style=\"text-align: right;\">\n",
       "      <th></th>\n",
       "      <th>0</th>\n",
       "      <th>1</th>\n",
       "      <th>2</th>\n",
       "      <th>3</th>\n",
       "    </tr>\n",
       "  </thead>\n",
       "  <tbody>\n",
       "    <tr>\n",
       "      <th>0</th>\n",
       "      <td>2012-13-01</td>\n",
       "      <td>2013-01-01</td>\n",
       "      <td>2013-01-02</td>\n",
       "      <td>2012-01-02</td>\n",
       "    </tr>\n",
       "    <tr>\n",
       "      <th>1</th>\n",
       "      <td>NaN</td>\n",
       "      <td>NaN</td>\n",
       "      <td>30</td>\n",
       "      <td>12</td>\n",
       "    </tr>\n",
       "    <tr>\n",
       "      <th>2</th>\n",
       "      <td>-2</td>\n",
       "      <td>NaN</td>\n",
       "      <td>NaN</td>\n",
       "      <td>-1</td>\n",
       "    </tr>\n",
       "    <tr>\n",
       "      <th>3</th>\n",
       "      <td>NaN</td>\n",
       "      <td>NaN</td>\n",
       "      <td>NaN</td>\n",
       "      <td>NaN</td>\n",
       "    </tr>\n",
       "    <tr>\n",
       "      <th>4</th>\n",
       "      <td>NaN</td>\n",
       "      <td>NaN</td>\n",
       "      <td>NaN</td>\n",
       "      <td>50</td>\n",
       "    </tr>\n",
       "    <tr>\n",
       "      <th>5</th>\n",
       "      <td>NaN</td>\n",
       "      <td>10</td>\n",
       "      <td>NaN</td>\n",
       "      <td>12.1</td>\n",
       "    </tr>\n",
       "    <tr>\n",
       "      <th>6</th>\n",
       "      <td>104.1</td>\n",
       "      <td>NaN</td>\n",
       "      <td>101.2</td>\n",
       "      <td>101.24</td>\n",
       "    </tr>\n",
       "    <tr>\n",
       "      <th>7</th>\n",
       "      <td>Snow</td>\n",
       "      <td>None</td>\n",
       "      <td>None</td>\n",
       "      <td>Fog</td>\n",
       "    </tr>\n",
       "  </tbody>\n",
       "</table>\n",
       "</div>"
      ],
      "text/plain": [
       "            0           1           2           3\n",
       "0  2012-13-01  2013-01-01  2013-01-02  2012-01-02\n",
       "1         NaN         NaN          30          12\n",
       "2          -2         NaN         NaN          -1\n",
       "3         NaN         NaN         NaN         NaN\n",
       "4         NaN         NaN         NaN          50\n",
       "5         NaN          10         NaN        12.1\n",
       "6       104.1         NaN       101.2      101.24\n",
       "7        Snow        None        None         Fog"
      ]
     },
     "execution_count": 102,
     "metadata": {},
     "output_type": "execute_result"
    }
   ],
   "source": [
    "pd.DataFrame([date_time, temp, dew_pt_temp, relative_humidity, wind_speed, visibility, stn_pressure, weather])"
   ]
  },
  {
   "cell_type": "code",
   "execution_count": 103,
   "metadata": {
    "collapsed": true
   },
   "outputs": [],
   "source": [
    "weather_df3 = pd.DataFrame([date_time, temp, dew_pt_temp, relative_humidity, wind_speed, visibility, stn_pressure, weather]).T"
   ]
  },
  {
   "cell_type": "code",
   "execution_count": 105,
   "metadata": {},
   "outputs": [
    {
     "data": {
      "text/plain": [
       "[0, 1, 2, 3, 4, 5, 6, 7]"
      ]
     },
     "execution_count": 105,
     "metadata": {},
     "output_type": "execute_result"
    }
   ],
   "source": [
    "weather_df3.columns.tolist()"
   ]
  },
  {
   "cell_type": "code",
   "execution_count": 106,
   "metadata": {
    "collapsed": true
   },
   "outputs": [],
   "source": [
    "weather_df3.columns = ['Date/Time', 'Temp (C)', 'Dew Point Temp (C)', 'Rel Hum (%)', 'Wind Spd (km/h)', 'Visibility (km)', 'Stn Press (kPa)', 'Weather']"
   ]
  },
  {
   "cell_type": "code",
   "execution_count": 108,
   "metadata": {},
   "outputs": [
    {
     "data": {
      "text/plain": [
       "['Date/Time',\n",
       " 'Temp (C)',\n",
       " 'Dew Point Temp (C)',\n",
       " 'Rel Hum (%)',\n",
       " 'Wind Spd (km/h)',\n",
       " 'Visibility (km)',\n",
       " 'Stn Press (kPa)',\n",
       " 'Weather']"
      ]
     },
     "execution_count": 108,
     "metadata": {},
     "output_type": "execute_result"
    }
   ],
   "source": [
    "weather_df3.columns.tolist()"
   ]
  },
  {
   "cell_type": "markdown",
   "metadata": {},
   "source": [
    "### Display the dataframe"
   ]
  },
  {
   "cell_type": "code",
   "execution_count": 109,
   "metadata": {},
   "outputs": [
    {
     "data": {
      "text/html": [
       "<div>\n",
       "<style>\n",
       "    .dataframe thead tr:only-child th {\n",
       "        text-align: right;\n",
       "    }\n",
       "\n",
       "    .dataframe thead th {\n",
       "        text-align: left;\n",
       "    }\n",
       "\n",
       "    .dataframe tbody tr th {\n",
       "        vertical-align: top;\n",
       "    }\n",
       "</style>\n",
       "<table border=\"1\" class=\"dataframe\">\n",
       "  <thead>\n",
       "    <tr style=\"text-align: right;\">\n",
       "      <th></th>\n",
       "      <th>Date/Time</th>\n",
       "      <th>Temp (C)</th>\n",
       "      <th>Dew Point Temp (C)</th>\n",
       "      <th>Rel Hum (%)</th>\n",
       "      <th>Wind Spd (km/h)</th>\n",
       "      <th>Visibility (km)</th>\n",
       "      <th>Stn Press (kPa)</th>\n",
       "      <th>Weather</th>\n",
       "    </tr>\n",
       "  </thead>\n",
       "  <tbody>\n",
       "    <tr>\n",
       "      <th>0</th>\n",
       "      <td>2012-13-01</td>\n",
       "      <td>NaN</td>\n",
       "      <td>-2</td>\n",
       "      <td>NaN</td>\n",
       "      <td>NaN</td>\n",
       "      <td>NaN</td>\n",
       "      <td>104.1</td>\n",
       "      <td>Snow</td>\n",
       "    </tr>\n",
       "    <tr>\n",
       "      <th>1</th>\n",
       "      <td>2013-01-01</td>\n",
       "      <td>NaN</td>\n",
       "      <td>NaN</td>\n",
       "      <td>NaN</td>\n",
       "      <td>NaN</td>\n",
       "      <td>10</td>\n",
       "      <td>NaN</td>\n",
       "      <td>None</td>\n",
       "    </tr>\n",
       "    <tr>\n",
       "      <th>2</th>\n",
       "      <td>2013-01-02</td>\n",
       "      <td>30</td>\n",
       "      <td>NaN</td>\n",
       "      <td>NaN</td>\n",
       "      <td>NaN</td>\n",
       "      <td>NaN</td>\n",
       "      <td>101.2</td>\n",
       "      <td>None</td>\n",
       "    </tr>\n",
       "    <tr>\n",
       "      <th>3</th>\n",
       "      <td>2012-01-02</td>\n",
       "      <td>12</td>\n",
       "      <td>-1</td>\n",
       "      <td>NaN</td>\n",
       "      <td>50</td>\n",
       "      <td>12.1</td>\n",
       "      <td>101.24</td>\n",
       "      <td>Fog</td>\n",
       "    </tr>\n",
       "  </tbody>\n",
       "</table>\n",
       "</div>"
      ],
      "text/plain": [
       "    Date/Time Temp (C) Dew Point Temp (C) Rel Hum (%) Wind Spd (km/h)  \\\n",
       "0  2012-13-01      NaN                 -2         NaN             NaN   \n",
       "1  2013-01-01      NaN                NaN         NaN             NaN   \n",
       "2  2013-01-02       30                NaN         NaN             NaN   \n",
       "3  2012-01-02       12                 -1         NaN              50   \n",
       "\n",
       "  Visibility (km) Stn Press (kPa) Weather  \n",
       "0             NaN           104.1    Snow  \n",
       "1              10             NaN    None  \n",
       "2             NaN           101.2    None  \n",
       "3            12.1          101.24     Fog  "
      ]
     },
     "execution_count": 109,
     "metadata": {},
     "output_type": "execute_result"
    }
   ],
   "source": [
    "weather_df3.head()"
   ]
  },
  {
   "cell_type": "markdown",
   "metadata": {},
   "source": [
    "### Append the `weather_df2` and `weather_df3` by rows"
   ]
  },
  {
   "cell_type": "code",
   "execution_count": 114,
   "metadata": {},
   "outputs": [],
   "source": [
    "weather_df_appended_1 = weather_df.append(weather_df3)"
   ]
  },
  {
   "cell_type": "code",
   "execution_count": 115,
   "metadata": {
    "collapsed": true
   },
   "outputs": [],
   "source": [
    "weather_df_appended_1.reset_index(drop=True, inplace=True)"
   ]
  },
  {
   "cell_type": "code",
   "execution_count": 117,
   "metadata": {},
   "outputs": [
    {
     "data": {
      "text/html": [
       "<div>\n",
       "<style>\n",
       "    .dataframe thead tr:only-child th {\n",
       "        text-align: right;\n",
       "    }\n",
       "\n",
       "    .dataframe thead th {\n",
       "        text-align: left;\n",
       "    }\n",
       "\n",
       "    .dataframe tbody tr th {\n",
       "        vertical-align: top;\n",
       "    }\n",
       "</style>\n",
       "<table border=\"1\" class=\"dataframe\">\n",
       "  <thead>\n",
       "    <tr style=\"text-align: right;\">\n",
       "      <th></th>\n",
       "      <th>Date/Time</th>\n",
       "      <th>Temp (C)</th>\n",
       "      <th>Dew Point Temp (C)</th>\n",
       "      <th>Rel Hum (%)</th>\n",
       "      <th>Wind Spd (km/h)</th>\n",
       "      <th>Visibility (km)</th>\n",
       "      <th>Stn Press (kPa)</th>\n",
       "      <th>Weather</th>\n",
       "    </tr>\n",
       "  </thead>\n",
       "  <tbody>\n",
       "    <tr>\n",
       "      <th>8778</th>\n",
       "      <td>2012-12-31 18:00:00</td>\n",
       "      <td>-1.3</td>\n",
       "      <td>-3.1</td>\n",
       "      <td>88</td>\n",
       "      <td>17</td>\n",
       "      <td>9.7</td>\n",
       "      <td>100.19</td>\n",
       "      <td>Snow</td>\n",
       "    </tr>\n",
       "    <tr>\n",
       "      <th>8779</th>\n",
       "      <td>2012-12-31 19:00:00</td>\n",
       "      <td>0.1</td>\n",
       "      <td>-2.7</td>\n",
       "      <td>81</td>\n",
       "      <td>30</td>\n",
       "      <td>9.7</td>\n",
       "      <td>100.13</td>\n",
       "      <td>Snow</td>\n",
       "    </tr>\n",
       "    <tr>\n",
       "      <th>8780</th>\n",
       "      <td>2012-12-31 20:00:00</td>\n",
       "      <td>0.2</td>\n",
       "      <td>-2.4</td>\n",
       "      <td>83</td>\n",
       "      <td>24</td>\n",
       "      <td>9.7</td>\n",
       "      <td>100.03</td>\n",
       "      <td>Snow</td>\n",
       "    </tr>\n",
       "    <tr>\n",
       "      <th>8781</th>\n",
       "      <td>2012-12-31 21:00:00</td>\n",
       "      <td>-0.5</td>\n",
       "      <td>-1.5</td>\n",
       "      <td>93</td>\n",
       "      <td>28</td>\n",
       "      <td>4.8</td>\n",
       "      <td>99.95</td>\n",
       "      <td>Snow</td>\n",
       "    </tr>\n",
       "    <tr>\n",
       "      <th>8782</th>\n",
       "      <td>2012-12-31 22:00:00</td>\n",
       "      <td>-0.2</td>\n",
       "      <td>-1.8</td>\n",
       "      <td>89</td>\n",
       "      <td>28</td>\n",
       "      <td>9.7</td>\n",
       "      <td>99.91</td>\n",
       "      <td>Snow</td>\n",
       "    </tr>\n",
       "    <tr>\n",
       "      <th>8783</th>\n",
       "      <td>2012-12-31 23:00:00</td>\n",
       "      <td>0</td>\n",
       "      <td>-2.1</td>\n",
       "      <td>86</td>\n",
       "      <td>30</td>\n",
       "      <td>11.3</td>\n",
       "      <td>99.89</td>\n",
       "      <td>Snow</td>\n",
       "    </tr>\n",
       "    <tr>\n",
       "      <th>8784</th>\n",
       "      <td>2012-13-01</td>\n",
       "      <td>NaN</td>\n",
       "      <td>-2</td>\n",
       "      <td>NaN</td>\n",
       "      <td>NaN</td>\n",
       "      <td>NaN</td>\n",
       "      <td>104.1</td>\n",
       "      <td>Snow</td>\n",
       "    </tr>\n",
       "    <tr>\n",
       "      <th>8785</th>\n",
       "      <td>2013-01-01</td>\n",
       "      <td>NaN</td>\n",
       "      <td>NaN</td>\n",
       "      <td>NaN</td>\n",
       "      <td>NaN</td>\n",
       "      <td>10</td>\n",
       "      <td>NaN</td>\n",
       "      <td>None</td>\n",
       "    </tr>\n",
       "    <tr>\n",
       "      <th>8786</th>\n",
       "      <td>2013-01-02</td>\n",
       "      <td>30</td>\n",
       "      <td>NaN</td>\n",
       "      <td>NaN</td>\n",
       "      <td>NaN</td>\n",
       "      <td>NaN</td>\n",
       "      <td>101.2</td>\n",
       "      <td>None</td>\n",
       "    </tr>\n",
       "    <tr>\n",
       "      <th>8787</th>\n",
       "      <td>2012-01-02</td>\n",
       "      <td>12</td>\n",
       "      <td>-1</td>\n",
       "      <td>NaN</td>\n",
       "      <td>50</td>\n",
       "      <td>12.1</td>\n",
       "      <td>101.24</td>\n",
       "      <td>Fog</td>\n",
       "    </tr>\n",
       "  </tbody>\n",
       "</table>\n",
       "</div>"
      ],
      "text/plain": [
       "                Date/Time Temp (C) Dew Point Temp (C) Rel Hum (%)  \\\n",
       "8778  2012-12-31 18:00:00     -1.3               -3.1          88   \n",
       "8779  2012-12-31 19:00:00      0.1               -2.7          81   \n",
       "8780  2012-12-31 20:00:00      0.2               -2.4          83   \n",
       "8781  2012-12-31 21:00:00     -0.5               -1.5          93   \n",
       "8782  2012-12-31 22:00:00     -0.2               -1.8          89   \n",
       "8783  2012-12-31 23:00:00        0               -2.1          86   \n",
       "8784           2012-13-01      NaN                 -2         NaN   \n",
       "8785           2013-01-01      NaN                NaN         NaN   \n",
       "8786           2013-01-02       30                NaN         NaN   \n",
       "8787           2012-01-02       12                 -1         NaN   \n",
       "\n",
       "     Wind Spd (km/h) Visibility (km) Stn Press (kPa) Weather  \n",
       "8778              17             9.7          100.19    Snow  \n",
       "8779              30             9.7          100.13    Snow  \n",
       "8780              24             9.7          100.03    Snow  \n",
       "8781              28             4.8           99.95    Snow  \n",
       "8782              28             9.7           99.91    Snow  \n",
       "8783              30            11.3           99.89    Snow  \n",
       "8784             NaN             NaN           104.1    Snow  \n",
       "8785             NaN              10             NaN    None  \n",
       "8786             NaN             NaN           101.2    None  \n",
       "8787              50            12.1          101.24     Fog  "
      ]
     },
     "execution_count": 117,
     "metadata": {},
     "output_type": "execute_result"
    }
   ],
   "source": [
    "weather_df_appended_1.tail(10)"
   ]
  },
  {
   "cell_type": "code",
   "execution_count": 113,
   "metadata": {},
   "outputs": [],
   "source": [
    "weather_df_appended2 = weather_df.append(weather_df3, ignore_index=True)"
   ]
  },
  {
   "cell_type": "markdown",
   "metadata": {},
   "source": [
    "## Dealing with missing values"
   ]
  },
  {
   "cell_type": "code",
   "execution_count": 112,
   "metadata": {
    "scrolled": true
   },
   "outputs": [
    {
     "data": {
      "text/html": [
       "<div>\n",
       "<style>\n",
       "    .dataframe thead tr:only-child th {\n",
       "        text-align: right;\n",
       "    }\n",
       "\n",
       "    .dataframe thead th {\n",
       "        text-align: left;\n",
       "    }\n",
       "\n",
       "    .dataframe tbody tr th {\n",
       "        vertical-align: top;\n",
       "    }\n",
       "</style>\n",
       "<table border=\"1\" class=\"dataframe\">\n",
       "  <thead>\n",
       "    <tr style=\"text-align: right;\">\n",
       "      <th></th>\n",
       "      <th>Date/Time</th>\n",
       "      <th>Temp (C)</th>\n",
       "      <th>Dew Point Temp (C)</th>\n",
       "      <th>Rel Hum (%)</th>\n",
       "      <th>Wind Spd (km/h)</th>\n",
       "      <th>Visibility (km)</th>\n",
       "      <th>Stn Press (kPa)</th>\n",
       "      <th>Weather</th>\n",
       "    </tr>\n",
       "  </thead>\n",
       "  <tbody>\n",
       "    <tr>\n",
       "      <th>8779</th>\n",
       "      <td>2012-12-31 19:00:00</td>\n",
       "      <td>0.1</td>\n",
       "      <td>-2.7</td>\n",
       "      <td>81</td>\n",
       "      <td>30</td>\n",
       "      <td>9.7</td>\n",
       "      <td>100.13</td>\n",
       "      <td>Snow</td>\n",
       "    </tr>\n",
       "    <tr>\n",
       "      <th>8780</th>\n",
       "      <td>2012-12-31 20:00:00</td>\n",
       "      <td>0.2</td>\n",
       "      <td>-2.4</td>\n",
       "      <td>83</td>\n",
       "      <td>24</td>\n",
       "      <td>9.7</td>\n",
       "      <td>100.03</td>\n",
       "      <td>Snow</td>\n",
       "    </tr>\n",
       "    <tr>\n",
       "      <th>8781</th>\n",
       "      <td>2012-12-31 21:00:00</td>\n",
       "      <td>-0.5</td>\n",
       "      <td>-1.5</td>\n",
       "      <td>93</td>\n",
       "      <td>28</td>\n",
       "      <td>4.8</td>\n",
       "      <td>99.95</td>\n",
       "      <td>Snow</td>\n",
       "    </tr>\n",
       "    <tr>\n",
       "      <th>8782</th>\n",
       "      <td>2012-12-31 22:00:00</td>\n",
       "      <td>-0.2</td>\n",
       "      <td>-1.8</td>\n",
       "      <td>89</td>\n",
       "      <td>28</td>\n",
       "      <td>9.7</td>\n",
       "      <td>99.91</td>\n",
       "      <td>Snow</td>\n",
       "    </tr>\n",
       "    <tr>\n",
       "      <th>8783</th>\n",
       "      <td>2012-12-31 23:00:00</td>\n",
       "      <td>0.0</td>\n",
       "      <td>-2.1</td>\n",
       "      <td>86</td>\n",
       "      <td>30</td>\n",
       "      <td>11.3</td>\n",
       "      <td>99.89</td>\n",
       "      <td>Snow</td>\n",
       "    </tr>\n",
       "  </tbody>\n",
       "</table>\n",
       "</div>"
      ],
      "text/plain": [
       "                Date/Time  Temp (C)  Dew Point Temp (C)  Rel Hum (%)  \\\n",
       "8779  2012-12-31 19:00:00       0.1                -2.7           81   \n",
       "8780  2012-12-31 20:00:00       0.2                -2.4           83   \n",
       "8781  2012-12-31 21:00:00      -0.5                -1.5           93   \n",
       "8782  2012-12-31 22:00:00      -0.2                -1.8           89   \n",
       "8783  2012-12-31 23:00:00       0.0                -2.1           86   \n",
       "\n",
       "      Wind Spd (km/h)  Visibility (km)  Stn Press (kPa) Weather  \n",
       "8779               30              9.7           100.13    Snow  \n",
       "8780               24              9.7           100.03    Snow  \n",
       "8781               28              4.8            99.95    Snow  \n",
       "8782               28              9.7            99.91    Snow  \n",
       "8783               30             11.3            99.89    Snow  "
      ]
     },
     "execution_count": 112,
     "metadata": {},
     "output_type": "execute_result"
    }
   ],
   "source": [
    "weather_df.tail()"
   ]
  },
  {
   "cell_type": "markdown",
   "metadata": {},
   "source": [
    "## How do you filter out the NaNs\n",
    "\n",
    "* Check the NaNs: `df.isna()`\n",
    "* Check the Null values: `df.isnull()`\n",
    "\n",
    "## How do you treat those nulls or NaNs:\n",
    "\n",
    "* Drop the rows entirely!: `df.dropna()`\n",
    "* Fill the values with something: `df.fillna()`"
   ]
  },
  {
   "cell_type": "markdown",
   "metadata": {},
   "source": [
    "## We want count of the values: `.sum()`"
   ]
  },
  {
   "cell_type": "code",
   "execution_count": 125,
   "metadata": {},
   "outputs": [
    {
     "data": {
      "text/plain": [
       "Date/Time             0\n",
       "Temp (C)              2\n",
       "Dew Point Temp (C)    2\n",
       "Rel Hum (%)           4\n",
       "Wind Spd (km/h)       3\n",
       "Visibility (km)       2\n",
       "Stn Press (kPa)       1\n",
       "Weather               2\n",
       "dtype: int64"
      ]
     },
     "execution_count": 125,
     "metadata": {},
     "output_type": "execute_result"
    }
   ],
   "source": [
    "weather_df_appended2.isnull().sum()"
   ]
  },
  {
   "cell_type": "markdown",
   "metadata": {},
   "source": [
    "## What if we just want to check if there's null data or not?: `.any()`"
   ]
  },
  {
   "cell_type": "code",
   "execution_count": 135,
   "metadata": {
    "scrolled": true
   },
   "outputs": [
    {
     "data": {
      "text/plain": [
       "Date/Time             False\n",
       "Temp (C)               True\n",
       "Dew Point Temp (C)     True\n",
       "Rel Hum (%)            True\n",
       "Wind Spd (km/h)        True\n",
       "Visibility (km)        True\n",
       "Stn Press (kPa)        True\n",
       "Weather                True\n",
       "dtype: bool"
      ]
     },
     "execution_count": 135,
     "metadata": {},
     "output_type": "execute_result"
    }
   ],
   "source": [
    "weather_df_appended2.isnull().any()"
   ]
  },
  {
   "cell_type": "markdown",
   "metadata": {},
   "source": [
    "### Finding the count of nan and empty strings (yes, empty string \"\" or \" \" is not handled separately, occurs mostly in character and categorical variable list)"
   ]
  },
  {
   "cell_type": "markdown",
   "metadata": {},
   "source": [
    "## Remember the numpy aggregate operations?"
   ]
  },
  {
   "cell_type": "markdown",
   "metadata": {},
   "source": [
    "## using df.mean to do fill operations"
   ]
  },
  {
   "cell_type": "code",
   "execution_count": 133,
   "metadata": {},
   "outputs": [
    {
     "data": {
      "text/plain": [
       "8.8009219212383805"
      ]
     },
     "execution_count": 133,
     "metadata": {},
     "output_type": "execute_result"
    }
   ],
   "source": [
    "weather_df_appended2['Temp (C)'].mean()"
   ]
  },
  {
   "cell_type": "code",
   "execution_count": 134,
   "metadata": {},
   "outputs": [
    {
     "data": {
      "text/plain": [
       "8783     0.000000\n",
       "8784     8.800922\n",
       "8785     8.800922\n",
       "8786    30.000000\n",
       "8787    12.000000\n",
       "Name: Temp (C), dtype: float64"
      ]
     },
     "execution_count": 134,
     "metadata": {},
     "output_type": "execute_result"
    }
   ],
   "source": [
    "weather_df_appended2['Temp (C)'].fillna(value=weather_df_appended2['Temp (C)'].mean()).tail()"
   ]
  },
  {
   "cell_type": "markdown",
   "metadata": {},
   "source": [
    "## Working with string, more examples!"
   ]
  },
  {
   "cell_type": "code",
   "execution_count": 136,
   "metadata": {
    "collapsed": true
   },
   "outputs": [],
   "source": [
    "monte = pd.Series(['Graham Chapman', 'John Cleese', 'Terry Gilliam',\n",
    "                   'Eric Idle', 'Terry Jones', 'Michael Palin'])"
   ]
  },
  {
   "cell_type": "markdown",
   "metadata": {},
   "source": [
    "### There are generic methods: `.str.`\n",
    "\n",
    "### But there's one essential thing: using regexes\n",
    "\n",
    "```bash\n",
    "\n",
    "Method\t    Description\n",
    "match()\t    Call re.match() on each element, returning a boolean.\n",
    "extract()\tCall re.match() on each element, returning matched groups as strings.\n",
    "findall()\tCall re.findall() on each element\n",
    "replace()\tReplace occurrences of pattern with some other string\n",
    "contains()\tCall re.search() on each element, returning a boolean\n",
    "count()\t    Count occurrences of pattern\n",
    "split()\t    Equivalent to str.split(), but accepts regexps\n",
    "rsplit()\tEquivalent to str.rsplit(), but accepts regexps\n",
    "```"
   ]
  },
  {
   "cell_type": "code",
   "execution_count": null,
   "metadata": {
    "collapsed": true
   },
   "outputs": [],
   "source": []
  },
  {
   "cell_type": "code",
   "execution_count": null,
   "metadata": {
    "collapsed": true
   },
   "outputs": [],
   "source": []
  },
  {
   "cell_type": "markdown",
   "metadata": {},
   "source": [
    "## Using DateTime"
   ]
  },
  {
   "cell_type": "code",
   "execution_count": 139,
   "metadata": {
    "collapsed": true
   },
   "outputs": [],
   "source": [
    "from datetime import datetime"
   ]
  },
  {
   "cell_type": "code",
   "execution_count": 140,
   "metadata": {},
   "outputs": [
    {
     "data": {
      "text/plain": [
       "datetime.datetime(2018, 11, 3, 19, 47, 42, 178108)"
      ]
     },
     "execution_count": 140,
     "metadata": {},
     "output_type": "execute_result"
    }
   ],
   "source": [
    "datetime.now()"
   ]
  },
  {
   "cell_type": "markdown",
   "metadata": {},
   "source": [
    "### `strftime` formatting in python\n",
    "\n",
    "### [One stop source](http://strftime.org/)"
   ]
  },
  {
   "cell_type": "code",
   "execution_count": 141,
   "metadata": {},
   "outputs": [
    {
     "data": {
      "text/plain": [
       "datetime.datetime(2015, 7, 4, 0, 0)"
      ]
     },
     "execution_count": 141,
     "metadata": {},
     "output_type": "execute_result"
    }
   ],
   "source": [
    "from dateutil import parser\n",
    "date = parser.parse(\"4th of July, 2015\")\n",
    "date"
   ]
  },
  {
   "cell_type": "code",
   "execution_count": 144,
   "metadata": {},
   "outputs": [
    {
     "data": {
      "text/plain": [
       "'04'"
      ]
     },
     "execution_count": 144,
     "metadata": {},
     "output_type": "execute_result"
    }
   ],
   "source": [
    "date.strftime(\"%d\")"
   ]
  },
  {
   "cell_type": "code",
   "execution_count": 149,
   "metadata": {},
   "outputs": [
    {
     "data": {
      "text/plain": [
       "DatetimeIndex(['2015-07-03', '2015-07-04', '2015-07-06', '2015-07-07',\n",
       "               '2015-07-08', '2010-11-12', '2010-11-12'],\n",
       "              dtype='datetime64[ns]', freq=None)"
      ]
     },
     "execution_count": 149,
     "metadata": {},
     "output_type": "execute_result"
    }
   ],
   "source": [
    "dates = pd.to_datetime([datetime(2015, 7, 3), '4th of July, 2015',\n",
    "                       '2015-Jul-6', '07-07-2015', '20150708', '2010/11/12', '2010.11.12'])\n",
    "dates"
   ]
  },
  {
   "cell_type": "markdown",
   "metadata": {},
   "source": [
    "## Formatting is baked in `pd.to_datetime`"
   ]
  },
  {
   "cell_type": "code",
   "execution_count": 150,
   "metadata": {},
   "outputs": [
    {
     "data": {
      "text/plain": [
       "Timestamp('2010-11-12 00:00:00')"
      ]
     },
     "execution_count": 150,
     "metadata": {},
     "output_type": "execute_result"
    }
   ],
   "source": [
    "pd.to_datetime('2010/11/12', format='%Y/%m/%d')"
   ]
  },
  {
   "cell_type": "markdown",
   "metadata": {},
   "source": [
    "## We talking about this yesterday!"
   ]
  },
  {
   "cell_type": "code",
   "execution_count": null,
   "metadata": {
    "collapsed": true
   },
   "outputs": [],
   "source": [
    "pd.date_range(start, periods=1000, freq='M')"
   ]
  },
  {
   "cell_type": "markdown",
   "metadata": {},
   "source": [
    "## Requested snippet:\n",
    "\n",
    "### What if there's a date: '13-13-2018'"
   ]
  },
  {
   "cell_type": "code",
   "execution_count": 148,
   "metadata": {},
   "outputs": [
    {
     "data": {
      "text/plain": [
       "DatetimeIndex(['2015-07-03', '2015-07-04', '2015-07-06', '2015-07-07',\n",
       "               '2015-07-08'],\n",
       "              dtype='datetime64[ns]', freq=None)"
      ]
     },
     "execution_count": 148,
     "metadata": {},
     "output_type": "execute_result"
    }
   ],
   "source": [
    "dates = pd.to_datetime([datetime(2015, 7, 3), '4th of July, 2015',\n",
    "                       '2015-Jul-6', '07-07-2015', '20150708'])\n",
    "dates"
   ]
  },
  {
   "cell_type": "markdown",
   "metadata": {},
   "source": [
    "## Working with Categorical Variables"
   ]
  },
  {
   "cell_type": "code",
   "execution_count": 152,
   "metadata": {},
   "outputs": [
    {
     "data": {
      "text/plain": [
       "0                     Fog\n",
       "1                     Fog\n",
       "2    Freezing Drizzle,Fog\n",
       "3    Freezing Drizzle,Fog\n",
       "4                     Fog\n",
       "Name: Weather, dtype: object"
      ]
     },
     "execution_count": 152,
     "metadata": {},
     "output_type": "execute_result"
    }
   ],
   "source": [
    "weather_df_appended2['Weather'].head()"
   ]
  },
  {
   "cell_type": "code",
   "execution_count": 154,
   "metadata": {},
   "outputs": [],
   "source": [
    "#pd.get_dummies(weather_df, columns=['Weather'])"
   ]
  },
  {
   "cell_type": "markdown",
   "metadata": {},
   "source": [
    "## Few other tricks:"
   ]
  },
  {
   "cell_type": "markdown",
   "metadata": {},
   "source": [
    "### * Reading directly from a simple html webpage"
   ]
  },
  {
   "cell_type": "code",
   "execution_count": 126,
   "metadata": {
    "collapsed": true
   },
   "outputs": [],
   "source": [
    "tables = pd.read_html(\"http://www.basketball-reference.com/leagues/NBA_2016_games.html\")"
   ]
  },
  {
   "cell_type": "code",
   "execution_count": null,
   "metadata": {},
   "outputs": [],
   "source": []
  }
 ],
 "metadata": {
  "kernelspec": {
   "display_name": "Python 3",
   "language": "python",
   "name": "python3"
  },
  "language_info": {
   "codemirror_mode": {
    "name": "ipython",
    "version": 3
   },
   "file_extension": ".py",
   "mimetype": "text/x-python",
   "name": "python",
   "nbconvert_exporter": "python",
   "pygments_lexer": "ipython3",
   "version": "3.6.7"
  }
 },
 "nbformat": 4,
 "nbformat_minor": 2
}
