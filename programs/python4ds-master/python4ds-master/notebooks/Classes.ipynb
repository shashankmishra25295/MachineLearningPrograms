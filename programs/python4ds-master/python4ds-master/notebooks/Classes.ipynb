{
 "cells": [
  {
   "cell_type": "markdown",
   "metadata": {},
   "source": [
    "## Objects\n",
    "\n",
    "- Objects in Python are everywhere\n",
    "- Consider a string: `Hello World`"
   ]
  },
  {
   "cell_type": "code",
   "execution_count": 1,
   "metadata": {},
   "outputs": [],
   "source": [
    "string1 = \"Hello World\""
   ]
  },
  {
   "cell_type": "code",
   "execution_count": 2,
   "metadata": {},
   "outputs": [
    {
     "data": {
      "text/plain": [
       "['__add__',\n",
       " '__class__',\n",
       " '__contains__',\n",
       " '__delattr__',\n",
       " '__dir__',\n",
       " '__doc__',\n",
       " '__eq__',\n",
       " '__format__',\n",
       " '__ge__',\n",
       " '__getattribute__',\n",
       " '__getitem__',\n",
       " '__getnewargs__',\n",
       " '__gt__',\n",
       " '__hash__',\n",
       " '__init__',\n",
       " '__init_subclass__',\n",
       " '__iter__',\n",
       " '__le__',\n",
       " '__len__',\n",
       " '__lt__',\n",
       " '__mod__',\n",
       " '__mul__',\n",
       " '__ne__',\n",
       " '__new__',\n",
       " '__reduce__',\n",
       " '__reduce_ex__',\n",
       " '__repr__',\n",
       " '__rmod__',\n",
       " '__rmul__',\n",
       " '__setattr__',\n",
       " '__sizeof__',\n",
       " '__str__',\n",
       " '__subclasshook__',\n",
       " 'capitalize',\n",
       " 'casefold',\n",
       " 'center',\n",
       " 'count',\n",
       " 'encode',\n",
       " 'endswith',\n",
       " 'expandtabs',\n",
       " 'find',\n",
       " 'format',\n",
       " 'format_map',\n",
       " 'index',\n",
       " 'isalnum',\n",
       " 'isalpha',\n",
       " 'isdecimal',\n",
       " 'isdigit',\n",
       " 'isidentifier',\n",
       " 'islower',\n",
       " 'isnumeric',\n",
       " 'isprintable',\n",
       " 'isspace',\n",
       " 'istitle',\n",
       " 'isupper',\n",
       " 'join',\n",
       " 'ljust',\n",
       " 'lower',\n",
       " 'lstrip',\n",
       " 'maketrans',\n",
       " 'partition',\n",
       " 'replace',\n",
       " 'rfind',\n",
       " 'rindex',\n",
       " 'rjust',\n",
       " 'rpartition',\n",
       " 'rsplit',\n",
       " 'rstrip',\n",
       " 'split',\n",
       " 'splitlines',\n",
       " 'startswith',\n",
       " 'strip',\n",
       " 'swapcase',\n",
       " 'title',\n",
       " 'translate',\n",
       " 'upper',\n",
       " 'zfill']"
      ]
     },
     "execution_count": 2,
     "metadata": {},
     "output_type": "execute_result"
    }
   ],
   "source": [
    "dir(string1)"
   ]
  },
  {
   "cell_type": "markdown",
   "metadata": {},
   "source": [
    "## What are Classes?\n",
    "\n",
    "- Can be a __collection__ of functions that fall under a similar task structure (Performing Machine Learning steps on a dataset)\n",
    "- Can be a set of operations (collection of functions) that help us to manipulate an object (e.g. functions that are available with string)\n",
    "- it can be a Data Model for a Database (e.g. Django ORM Models)"
   ]
  },
  {
   "cell_type": "markdown",
   "metadata": {},
   "source": [
    "## Defining a Class"
   ]
  },
  {
   "cell_type": "code",
   "execution_count": 11,
   "metadata": {},
   "outputs": [],
   "source": [
    "class Employee():\n",
    "    pass"
   ]
  },
  {
   "cell_type": "code",
   "execution_count": 12,
   "metadata": {},
   "outputs": [
    {
     "data": {
      "text/plain": [
       "<__main__.Employee at 0x104257c50>"
      ]
     },
     "execution_count": 12,
     "metadata": {},
     "output_type": "execute_result"
    }
   ],
   "source": [
    "Employee()"
   ]
  },
  {
   "cell_type": "markdown",
   "metadata": {},
   "source": [
    "## Next step is to create an `instance` of the Class"
   ]
  },
  {
   "cell_type": "code",
   "execution_count": 13,
   "metadata": {},
   "outputs": [],
   "source": [
    "employee1 = Employee()"
   ]
  },
  {
   "cell_type": "code",
   "execution_count": 14,
   "metadata": {},
   "outputs": [
    {
     "data": {
      "text/plain": [
       "<__main__.Employee at 0x104257d30>"
      ]
     },
     "execution_count": 14,
     "metadata": {},
     "output_type": "execute_result"
    }
   ],
   "source": [
    "employee1"
   ]
  },
  {
   "cell_type": "markdown",
   "metadata": {},
   "source": [
    "## How do you pass in values to a Class?\n",
    "\n",
    "### Using the Initializer: `__init__()`"
   ]
  },
  {
   "cell_type": "code",
   "execution_count": 16,
   "metadata": {},
   "outputs": [],
   "source": [
    "class Employee():\n",
    "    def __init__(self, name, age, position):\n",
    "        self.name = name\n",
    "        self.age = age\n",
    "        self.position = position"
   ]
  },
  {
   "cell_type": "markdown",
   "metadata": {},
   "source": [
    "### Variables (or the attributes of `__init__()`) are called instances variables"
   ]
  },
  {
   "cell_type": "code",
   "execution_count": 17,
   "metadata": {},
   "outputs": [
    {
     "ename": "TypeError",
     "evalue": "__init__() missing 3 required positional arguments: 'name', 'age', and 'position'",
     "output_type": "error",
     "traceback": [
      "\u001b[0;31m---------------------------------------------------------------------------\u001b[0m",
      "\u001b[0;31mTypeError\u001b[0m                                 Traceback (most recent call last)",
      "\u001b[0;32m<ipython-input-17-52643da200f7>\u001b[0m in \u001b[0;36m<module>\u001b[0;34m()\u001b[0m\n\u001b[0;32m----> 1\u001b[0;31m \u001b[0memployee1\u001b[0m \u001b[0;34m=\u001b[0m \u001b[0mEmployee\u001b[0m\u001b[0;34m(\u001b[0m\u001b[0;34m)\u001b[0m\u001b[0;34m\u001b[0m\u001b[0;34m\u001b[0m\u001b[0m\n\u001b[0m",
      "\u001b[0;31mTypeError\u001b[0m: __init__() missing 3 required positional arguments: 'name', 'age', and 'position'"
     ]
    }
   ],
   "source": [
    "employee1 = Employee()"
   ]
  },
  {
   "cell_type": "markdown",
   "metadata": {},
   "source": [
    "### `__init()__` gets called automatically when the `Employee()` class instance is created"
   ]
  },
  {
   "cell_type": "code",
   "execution_count": 18,
   "metadata": {},
   "outputs": [],
   "source": [
    "employee1 = Employee(name=\"Jay\", age=28, position=\"ML Engineer\")"
   ]
  },
  {
   "cell_type": "code",
   "execution_count": 19,
   "metadata": {},
   "outputs": [
    {
     "data": {
      "text/plain": [
       "28"
      ]
     },
     "execution_count": 19,
     "metadata": {},
     "output_type": "execute_result"
    }
   ],
   "source": [
    "employee1.age"
   ]
  },
  {
   "cell_type": "code",
   "execution_count": 20,
   "metadata": {},
   "outputs": [
    {
     "data": {
      "text/plain": [
       "'Jay'"
      ]
     },
     "execution_count": 20,
     "metadata": {},
     "output_type": "execute_result"
    }
   ],
   "source": [
    "employee1.name"
   ]
  },
  {
   "cell_type": "code",
   "execution_count": 21,
   "metadata": {},
   "outputs": [
    {
     "data": {
      "text/plain": [
       "'ML Engineer'"
      ]
     },
     "execution_count": 21,
     "metadata": {},
     "output_type": "execute_result"
    }
   ],
   "source": [
    "employee1.position"
   ]
  },
  {
   "cell_type": "markdown",
   "metadata": {},
   "source": [
    "### Few other methods to get all the information about the Class using `__repr__` and `__str__` methods\n",
    "\n",
    "> `__str__()` returns the string representation of the object. This method is called when print() or str() function is invoked on an object."
   ]
  },
  {
   "cell_type": "code",
   "execution_count": 45,
   "metadata": {},
   "outputs": [],
   "source": [
    "class Employee():\n",
    "    def __init__(self, name, age, position):\n",
    "        self.name = name\n",
    "        self.age = age\n",
    "        self.position = position\n",
    "    \n",
    "    def __str__(self):\n",
    "        return f\"Employee Name: {self.name} | Employee Position: {self.position} | Employee Age: {self.age}\""
   ]
  },
  {
   "cell_type": "code",
   "execution_count": 46,
   "metadata": {},
   "outputs": [],
   "source": [
    "employee1 = Employee(name=\"Jay\", age=28, position=\"ML Engineer\")"
   ]
  },
  {
   "cell_type": "code",
   "execution_count": 47,
   "metadata": {},
   "outputs": [
    {
     "data": {
      "text/plain": [
       "<__main__.Employee at 0x104317a58>"
      ]
     },
     "execution_count": 47,
     "metadata": {},
     "output_type": "execute_result"
    }
   ],
   "source": [
    "employee1"
   ]
  },
  {
   "cell_type": "code",
   "execution_count": 48,
   "metadata": {},
   "outputs": [
    {
     "data": {
      "text/plain": [
       "'Employee Name: Jay | Employee Position: ML Engineer | Employee Age: 28'"
      ]
     },
     "execution_count": 48,
     "metadata": {},
     "output_type": "execute_result"
    }
   ],
   "source": [
    "str(employee1)"
   ]
  },
  {
   "cell_type": "markdown",
   "metadata": {},
   "source": [
    "> `__repr__()` function returns the object representation. It could be any valid python expression such as tuple, dictionary, string etc."
   ]
  },
  {
   "cell_type": "code",
   "execution_count": 59,
   "metadata": {},
   "outputs": [],
   "source": [
    "class Employee():\n",
    "    def __init__(self, name, age, position):\n",
    "        self.name = name\n",
    "        self.age = age\n",
    "        self.position = position\n",
    "    \n",
    "    def __str__(self):\n",
    "        return f\"Employee Name: {self.name} | Employee Position: {self.position} | Employee Age: {self.age}\"\n",
    "    \n",
    "    def __repr__(self):\n",
    "        return {'Employee Name': self.name, 'Employee Position': self.position, 'Employee Age': self.age}"
   ]
  },
  {
   "cell_type": "code",
   "execution_count": 60,
   "metadata": {},
   "outputs": [],
   "source": [
    "employee1 = Employee(name=\"Jay\", age=28, position=\"ML Engineer\")"
   ]
  },
  {
   "cell_type": "code",
   "execution_count": 61,
   "metadata": {},
   "outputs": [
    {
     "ename": "TypeError",
     "evalue": "__repr__ returned non-string (type dict)",
     "output_type": "error",
     "traceback": [
      "\u001b[0;31m---------------------------------------------------------------------------\u001b[0m",
      "\u001b[0;31mTypeError\u001b[0m                                 Traceback (most recent call last)",
      "\u001b[0;32m<ipython-input-61-d544c2c26eb5>\u001b[0m in \u001b[0;36m<module>\u001b[0;34m()\u001b[0m\n\u001b[0;32m----> 1\u001b[0;31m \u001b[0mrepr\u001b[0m\u001b[0;34m(\u001b[0m\u001b[0memployee1\u001b[0m\u001b[0;34m)\u001b[0m\u001b[0;34m\u001b[0m\u001b[0;34m\u001b[0m\u001b[0m\n\u001b[0m",
      "\u001b[0;31mTypeError\u001b[0m: __repr__ returned non-string (type dict)"
     ]
    }
   ],
   "source": [
    "repr(employee1)"
   ]
  },
  {
   "cell_type": "code",
   "execution_count": 62,
   "metadata": {},
   "outputs": [
    {
     "data": {
      "text/plain": [
       "{'Employee Name': 'Jay',\n",
       " 'Employee Position': 'ML Engineer',\n",
       " 'Employee Age': 28}"
      ]
     },
     "execution_count": 62,
     "metadata": {},
     "output_type": "execute_result"
    }
   ],
   "source": [
    "employee1.__repr__()"
   ]
  },
  {
   "cell_type": "code",
   "execution_count": 63,
   "metadata": {},
   "outputs": [
    {
     "ename": "TypeError",
     "evalue": "__repr__ returned non-string (type dict)",
     "output_type": "error",
     "traceback": [
      "\u001b[0;31m---------------------------------------------------------------------------\u001b[0m",
      "\u001b[0;31mTypeError\u001b[0m                                 Traceback (most recent call last)",
      "\u001b[0;32m~/miniconda3/envs/greyatom/lib/python3.6/site-packages/IPython/core/formatters.py\u001b[0m in \u001b[0;36m__call__\u001b[0;34m(self, obj)\u001b[0m\n\u001b[1;32m    700\u001b[0m                 \u001b[0mtype_pprinters\u001b[0m\u001b[0;34m=\u001b[0m\u001b[0mself\u001b[0m\u001b[0;34m.\u001b[0m\u001b[0mtype_printers\u001b[0m\u001b[0;34m,\u001b[0m\u001b[0;34m\u001b[0m\u001b[0;34m\u001b[0m\u001b[0m\n\u001b[1;32m    701\u001b[0m                 deferred_pprinters=self.deferred_printers)\n\u001b[0;32m--> 702\u001b[0;31m             \u001b[0mprinter\u001b[0m\u001b[0;34m.\u001b[0m\u001b[0mpretty\u001b[0m\u001b[0;34m(\u001b[0m\u001b[0mobj\u001b[0m\u001b[0;34m)\u001b[0m\u001b[0;34m\u001b[0m\u001b[0;34m\u001b[0m\u001b[0m\n\u001b[0m\u001b[1;32m    703\u001b[0m             \u001b[0mprinter\u001b[0m\u001b[0;34m.\u001b[0m\u001b[0mflush\u001b[0m\u001b[0;34m(\u001b[0m\u001b[0;34m)\u001b[0m\u001b[0;34m\u001b[0m\u001b[0;34m\u001b[0m\u001b[0m\n\u001b[1;32m    704\u001b[0m             \u001b[0;32mreturn\u001b[0m \u001b[0mstream\u001b[0m\u001b[0;34m.\u001b[0m\u001b[0mgetvalue\u001b[0m\u001b[0;34m(\u001b[0m\u001b[0;34m)\u001b[0m\u001b[0;34m\u001b[0m\u001b[0;34m\u001b[0m\u001b[0m\n",
      "\u001b[0;32m~/miniconda3/envs/greyatom/lib/python3.6/site-packages/IPython/lib/pretty.py\u001b[0m in \u001b[0;36mpretty\u001b[0;34m(self, obj)\u001b[0m\n\u001b[1;32m    398\u001b[0m                         \u001b[0;32mif\u001b[0m \u001b[0mcls\u001b[0m \u001b[0;32mis\u001b[0m \u001b[0;32mnot\u001b[0m \u001b[0mobject\u001b[0m\u001b[0;31m \u001b[0m\u001b[0;31m\\\u001b[0m\u001b[0;34m\u001b[0m\u001b[0;34m\u001b[0m\u001b[0m\n\u001b[1;32m    399\u001b[0m                                 \u001b[0;32mand\u001b[0m \u001b[0mcallable\u001b[0m\u001b[0;34m(\u001b[0m\u001b[0mcls\u001b[0m\u001b[0;34m.\u001b[0m\u001b[0m__dict__\u001b[0m\u001b[0;34m.\u001b[0m\u001b[0mget\u001b[0m\u001b[0;34m(\u001b[0m\u001b[0;34m'__repr__'\u001b[0m\u001b[0;34m)\u001b[0m\u001b[0;34m)\u001b[0m\u001b[0;34m:\u001b[0m\u001b[0;34m\u001b[0m\u001b[0;34m\u001b[0m\u001b[0m\n\u001b[0;32m--> 400\u001b[0;31m                             \u001b[0;32mreturn\u001b[0m \u001b[0m_repr_pprint\u001b[0m\u001b[0;34m(\u001b[0m\u001b[0mobj\u001b[0m\u001b[0;34m,\u001b[0m \u001b[0mself\u001b[0m\u001b[0;34m,\u001b[0m \u001b[0mcycle\u001b[0m\u001b[0;34m)\u001b[0m\u001b[0;34m\u001b[0m\u001b[0;34m\u001b[0m\u001b[0m\n\u001b[0m\u001b[1;32m    401\u001b[0m \u001b[0;34m\u001b[0m\u001b[0m\n\u001b[1;32m    402\u001b[0m             \u001b[0;32mreturn\u001b[0m \u001b[0m_default_pprint\u001b[0m\u001b[0;34m(\u001b[0m\u001b[0mobj\u001b[0m\u001b[0;34m,\u001b[0m \u001b[0mself\u001b[0m\u001b[0;34m,\u001b[0m \u001b[0mcycle\u001b[0m\u001b[0;34m)\u001b[0m\u001b[0;34m\u001b[0m\u001b[0;34m\u001b[0m\u001b[0m\n",
      "\u001b[0;32m~/miniconda3/envs/greyatom/lib/python3.6/site-packages/IPython/lib/pretty.py\u001b[0m in \u001b[0;36m_repr_pprint\u001b[0;34m(obj, p, cycle)\u001b[0m\n\u001b[1;32m    693\u001b[0m     \u001b[0;34m\"\"\"A pprint that just redirects to the normal repr function.\"\"\"\u001b[0m\u001b[0;34m\u001b[0m\u001b[0;34m\u001b[0m\u001b[0m\n\u001b[1;32m    694\u001b[0m     \u001b[0;31m# Find newlines and replace them with p.break_()\u001b[0m\u001b[0;34m\u001b[0m\u001b[0;34m\u001b[0m\u001b[0;34m\u001b[0m\u001b[0m\n\u001b[0;32m--> 695\u001b[0;31m     \u001b[0moutput\u001b[0m \u001b[0;34m=\u001b[0m \u001b[0mrepr\u001b[0m\u001b[0;34m(\u001b[0m\u001b[0mobj\u001b[0m\u001b[0;34m)\u001b[0m\u001b[0;34m\u001b[0m\u001b[0;34m\u001b[0m\u001b[0m\n\u001b[0m\u001b[1;32m    696\u001b[0m     \u001b[0;32mfor\u001b[0m \u001b[0midx\u001b[0m\u001b[0;34m,\u001b[0m\u001b[0moutput_line\u001b[0m \u001b[0;32min\u001b[0m \u001b[0menumerate\u001b[0m\u001b[0;34m(\u001b[0m\u001b[0moutput\u001b[0m\u001b[0;34m.\u001b[0m\u001b[0msplitlines\u001b[0m\u001b[0;34m(\u001b[0m\u001b[0;34m)\u001b[0m\u001b[0;34m)\u001b[0m\u001b[0;34m:\u001b[0m\u001b[0;34m\u001b[0m\u001b[0;34m\u001b[0m\u001b[0m\n\u001b[1;32m    697\u001b[0m         \u001b[0;32mif\u001b[0m \u001b[0midx\u001b[0m\u001b[0;34m:\u001b[0m\u001b[0;34m\u001b[0m\u001b[0;34m\u001b[0m\u001b[0m\n",
      "\u001b[0;31mTypeError\u001b[0m: __repr__ returned non-string (type dict)"
     ]
    }
   ],
   "source": [
    "employee1"
   ]
  },
  {
   "cell_type": "markdown",
   "metadata": {},
   "source": [
    "### `self` instance in the Classes: If you don't put in `self` you won't be able to access all the instances variables across all the functions"
   ]
  },
  {
   "cell_type": "code",
   "execution_count": 64,
   "metadata": {},
   "outputs": [],
   "source": [
    "class Employee():\n",
    "    def __init__(self, name, age, position):\n",
    "        self.name = name\n",
    "        self.age = age\n",
    "        self.position = position\n",
    "    \n",
    "    def __str__(self):\n",
    "        return f\"Employee Name: {name} | Employee Position: {position} | Employee Age: {age}\"\n",
    "    \n",
    "    def __repr__(self):\n",
    "        return {'Employee Name': self.name, 'Employee Position': self.position, 'Employee Age': self.age}"
   ]
  },
  {
   "cell_type": "code",
   "execution_count": 65,
   "metadata": {},
   "outputs": [],
   "source": [
    "employee1 = Employee(name=\"Jay\", age=28, position=\"ML Engineer\")"
   ]
  },
  {
   "cell_type": "code",
   "execution_count": 66,
   "metadata": {},
   "outputs": [
    {
     "ename": "NameError",
     "evalue": "name 'name' is not defined",
     "output_type": "error",
     "traceback": [
      "\u001b[0;31m---------------------------------------------------------------------------\u001b[0m",
      "\u001b[0;31mNameError\u001b[0m                                 Traceback (most recent call last)",
      "\u001b[0;32m<ipython-input-66-139ff5ea1941>\u001b[0m in \u001b[0;36m<module>\u001b[0;34m()\u001b[0m\n\u001b[0;32m----> 1\u001b[0;31m \u001b[0mstr\u001b[0m\u001b[0;34m(\u001b[0m\u001b[0memployee1\u001b[0m\u001b[0;34m)\u001b[0m\u001b[0;34m\u001b[0m\u001b[0;34m\u001b[0m\u001b[0m\n\u001b[0m",
      "\u001b[0;32m<ipython-input-64-614c2924568e>\u001b[0m in \u001b[0;36m__str__\u001b[0;34m(self)\u001b[0m\n\u001b[1;32m      6\u001b[0m \u001b[0;34m\u001b[0m\u001b[0m\n\u001b[1;32m      7\u001b[0m     \u001b[0;32mdef\u001b[0m \u001b[0m__str__\u001b[0m\u001b[0;34m(\u001b[0m\u001b[0mself\u001b[0m\u001b[0;34m)\u001b[0m\u001b[0;34m:\u001b[0m\u001b[0;34m\u001b[0m\u001b[0;34m\u001b[0m\u001b[0m\n\u001b[0;32m----> 8\u001b[0;31m         \u001b[0;32mreturn\u001b[0m \u001b[0;34mf\"Employee Name: {name} | Employee Position: {position} | Employee Age: {age}\"\u001b[0m\u001b[0;34m\u001b[0m\u001b[0;34m\u001b[0m\u001b[0m\n\u001b[0m\u001b[1;32m      9\u001b[0m \u001b[0;34m\u001b[0m\u001b[0m\n\u001b[1;32m     10\u001b[0m     \u001b[0;32mdef\u001b[0m \u001b[0m__repr__\u001b[0m\u001b[0;34m(\u001b[0m\u001b[0mself\u001b[0m\u001b[0;34m)\u001b[0m\u001b[0;34m:\u001b[0m\u001b[0;34m\u001b[0m\u001b[0;34m\u001b[0m\u001b[0m\n",
      "\u001b[0;31mNameError\u001b[0m: name 'name' is not defined"
     ]
    }
   ],
   "source": [
    "str(employee1)"
   ]
  },
  {
   "cell_type": "markdown",
   "metadata": {},
   "source": [
    "### Let's check out the values that can be printed out saved in `self`"
   ]
  },
  {
   "cell_type": "code",
   "execution_count": 88,
   "metadata": {},
   "outputs": [],
   "source": [
    "class Employee():\n",
    "    def __init__(self, name, age, position):\n",
    "        self.name = name\n",
    "        self.age = age\n",
    "        self.position = position\n",
    "    \n",
    "    def __str__(self):\n",
    "        return f\"Employee Name: {self.name} | Employee Position: {self.position} | Employee Age: {self.age}\"\n",
    "    \n",
    "    def __repr__(self):\n",
    "        return str({'Employee Name': self.name, 'Employee Position': self.position, 'Employee Age': self.age})\n",
    "    \n",
    "    def print_self(self):\n",
    "        print(self)"
   ]
  },
  {
   "cell_type": "code",
   "execution_count": 89,
   "metadata": {},
   "outputs": [],
   "source": [
    "employee1 = Employee(name=\"Jay\", age=28, position=\"ML Engineer\")"
   ]
  },
  {
   "cell_type": "code",
   "execution_count": 90,
   "metadata": {},
   "outputs": [
    {
     "name": "stdout",
     "output_type": "stream",
     "text": [
      "Employee Name: Jay | Employee Position: ML Engineer | Employee Age: 28\n"
     ]
    }
   ],
   "source": [
    "employee1.print_self()"
   ]
  },
  {
   "cell_type": "markdown",
   "metadata": {},
   "source": [
    "## Why does printing `self` gives you the output it has?\n",
    "\n",
    "### When objects are instantiated, the object itself is passed into the self parameter.\n",
    "\n",
    "### Which means: `employee1.print_self() == print(employee)`"
   ]
  },
  {
   "cell_type": "code",
   "execution_count": 92,
   "metadata": {},
   "outputs": [
    {
     "name": "stdout",
     "output_type": "stream",
     "text": [
      "Employee Name: Jay | Employee Position: ML Engineer | Employee Age: 28\n"
     ]
    }
   ],
   "source": [
    "print(employee1)"
   ]
  },
  {
   "cell_type": "markdown",
   "metadata": {},
   "source": [
    "### We have been dealing with instance variables or attributes that are passed on to `__init__()`, but there's one more type that can be useful is: `Class attribute` or `Class variable`"
   ]
  },
  {
   "cell_type": "code",
   "execution_count": 93,
   "metadata": {},
   "outputs": [],
   "source": [
    "class Employee():\n",
    "    address = \"91Springboard, BKC, Mumbai\"\n",
    "    \n",
    "    def __init__(self, name, age, position):\n",
    "        self.name = name\n",
    "        self.age = age\n",
    "        self.position = position\n",
    "    \n",
    "    def __str__(self):\n",
    "        return f\"Employee Name: {self.name} | Employee Position: {self.position} | Employee Age: {self.age}\"\n",
    "    \n",
    "    def __repr__(self):\n",
    "        return str({'Employee Name': self.name, 'Employee Position': self.position, 'Employee Age': self.age})\n",
    "    \n",
    "    def print_self(self):\n",
    "        print(self)"
   ]
  },
  {
   "cell_type": "code",
   "execution_count": 94,
   "metadata": {},
   "outputs": [],
   "source": [
    "employee1 = Employee(name=\"Jay\", age=28, position=\"ML Engineer\")"
   ]
  },
  {
   "cell_type": "code",
   "execution_count": 95,
   "metadata": {},
   "outputs": [
    {
     "data": {
      "text/plain": [
       "'91Springboard, BKC, Mumbai'"
      ]
     },
     "execution_count": 95,
     "metadata": {},
     "output_type": "execute_result"
    }
   ],
   "source": [
    "employee1.address"
   ]
  },
  {
   "cell_type": "code",
   "execution_count": 96,
   "metadata": {},
   "outputs": [],
   "source": [
    "employee2 = Employee(name=\"Prathamesh\", age=28, position=\"ML Engineer\")"
   ]
  },
  {
   "cell_type": "code",
   "execution_count": 97,
   "metadata": {},
   "outputs": [
    {
     "data": {
      "text/plain": [
       "'91Springboard, BKC, Mumbai'"
      ]
     },
     "execution_count": 97,
     "metadata": {},
     "output_type": "execute_result"
    }
   ],
   "source": [
    "employee2.address"
   ]
  },
  {
   "cell_type": "markdown",
   "metadata": {},
   "source": [
    "### This Class variable can be changed"
   ]
  },
  {
   "cell_type": "code",
   "execution_count": 98,
   "metadata": {},
   "outputs": [],
   "source": [
    "employee1.address = '91Springboard, Andheri, Mumbai'"
   ]
  },
  {
   "cell_type": "code",
   "execution_count": 99,
   "metadata": {},
   "outputs": [
    {
     "data": {
      "text/plain": [
       "'91Springboard, Andheri, Mumbai'"
      ]
     },
     "execution_count": 99,
     "metadata": {},
     "output_type": "execute_result"
    }
   ],
   "source": [
    "employee1.address"
   ]
  },
  {
   "cell_type": "markdown",
   "metadata": {},
   "source": [
    "### Changing the first employee address, would it change the employee address of the second employee?"
   ]
  },
  {
   "cell_type": "code",
   "execution_count": null,
   "metadata": {},
   "outputs": [],
   "source": []
  },
  {
   "cell_type": "markdown",
   "metadata": {},
   "source": [
    "### If we create a new employee instance: `employee3`, would the address be the changed one or the original one?"
   ]
  },
  {
   "cell_type": "code",
   "execution_count": 103,
   "metadata": {},
   "outputs": [],
   "source": [
    "employee3 = Employee(name=\"Kunal\", age=28, position=\"Founder\")"
   ]
  },
  {
   "cell_type": "code",
   "execution_count": null,
   "metadata": {},
   "outputs": [],
   "source": []
  },
  {
   "cell_type": "markdown",
   "metadata": {},
   "source": [
    "## Types of Methods:\n",
    "\n",
    "- instance methods\n",
    "- class methods\n",
    "- static methods"
   ]
  },
  {
   "cell_type": "markdown",
   "metadata": {},
   "source": [
    "### Instance Methods"
   ]
  },
  {
   "cell_type": "code",
   "execution_count": 106,
   "metadata": {},
   "outputs": [],
   "source": [
    "class Employee():\n",
    "    address = \"91Springboard, BKC, Mumbai\"\n",
    "    \n",
    "    def __init__(self, name, age, position):\n",
    "        self.name = name\n",
    "        self.age = age\n",
    "        self.position = position\n",
    "    \n",
    "    def __str__(self):\n",
    "        return f\"Employee Name: {self.name} | Employee Position: {self.position} | Employee Age: {self.age}\"\n",
    "    \n",
    "    def __repr__(self):\n",
    "        return str({'Employee Name': self.name, 'Employee Position': self.position, 'Employee Age': self.age})\n",
    "    \n",
    "    def print_self(self):\n",
    "        \"\"\"Example of Instance Method\n",
    "        \"\"\"\n",
    "        print(self)"
   ]
  },
  {
   "cell_type": "markdown",
   "metadata": {},
   "source": [
    "### Class methods"
   ]
  },
  {
   "cell_type": "code",
   "execution_count": 122,
   "metadata": {},
   "outputs": [],
   "source": [
    "class Employee():\n",
    "    address = \"91Springboard, BKC, Mumbai\"\n",
    "    \n",
    "    def __init__(self, name, age, position):\n",
    "        self.name = name\n",
    "        self.age = age\n",
    "        self.position = position\n",
    "    \n",
    "    def __str__(self):\n",
    "        return f\"Employee Name: {self.name} | Employee Position: {self.position} | Employee Age: {self.age}\"\n",
    "    \n",
    "    def __repr__(self):\n",
    "        return str({'Employee Name': self.name, 'Employee Position': self.position, 'Employee Age': self.age})\n",
    "    \n",
    "    def print_self(self):\n",
    "        \"\"\"Example of Instance Method\n",
    "        \"\"\"\n",
    "        print(self)\n",
    "    \n",
    "    @classmethod\n",
    "    def change_address(cls, new_address):\n",
    "        \"\"\"Example of Class method\n",
    "        \"\"\"\n",
    "        print(\"Accessing the Class method\")\n",
    "        print(cls)\n",
    "        cls.address = new_address"
   ]
  },
  {
   "cell_type": "code",
   "execution_count": 123,
   "metadata": {},
   "outputs": [],
   "source": [
    "employee3 = Employee(name=\"Kunal\", age=28, position=\"Founder\")"
   ]
  },
  {
   "cell_type": "code",
   "execution_count": 124,
   "metadata": {},
   "outputs": [
    {
     "name": "stdout",
     "output_type": "stream",
     "text": [
      "Accessing the Class method\n",
      "<class '__main__.Employee'>\n"
     ]
    }
   ],
   "source": [
    "employee3.change_address('San Francisco, CA')"
   ]
  },
  {
   "cell_type": "code",
   "execution_count": 125,
   "metadata": {},
   "outputs": [
    {
     "data": {
      "text/plain": [
       "'San Francisco, CA'"
      ]
     },
     "execution_count": 125,
     "metadata": {},
     "output_type": "execute_result"
    }
   ],
   "source": [
    "employee3.address"
   ]
  },
  {
   "cell_type": "markdown",
   "metadata": {},
   "source": [
    "### Static Methods"
   ]
  },
  {
   "cell_type": "code",
   "execution_count": 132,
   "metadata": {},
   "outputs": [],
   "source": [
    "class Employee():\n",
    "    address = \"91Springboard, BKC, Mumbai\"\n",
    "    \n",
    "    def __init__(self, name, age, position, salary):\n",
    "        self.name = name\n",
    "        self.age = age\n",
    "        self.position = position\n",
    "        self.salary = salary # Adding new attribute\n",
    "    \n",
    "    def __str__(self):\n",
    "        return f\"Employee Name: {self.name} | Employee Position: {self.position} | Employee Age: {self.age}\"\n",
    "    \n",
    "    def __repr__(self):\n",
    "        return str({'Employee Name': self.name, 'Employee Position': self.position, 'Employee Age': self.age})\n",
    "    \n",
    "    def print_self(self):\n",
    "        \"\"\"Example of Instance Method\n",
    "        \"\"\"\n",
    "        print(self)\n",
    "        \n",
    "    def print_salary_breakup(self):\n",
    "        \"\"\"Example of Instance method using a static method\n",
    "        \"\"\"\n",
    "        return {'salary': self.salary, 'tds': self.calculate_tds(self.salary, 0.10)}\n",
    "        \n",
    "    @classmethod\n",
    "    def change_address(cls, new_address):\n",
    "        \"\"\"Example of Class method\n",
    "        \"\"\"\n",
    "        print(\"Accessing the Class method\")\n",
    "        cls.address = new_address\n",
    "        \n",
    "    @staticmethod\n",
    "    def calculate_tds(salary, tax_bracket):\n",
    "        return salary * tax_bracket"
   ]
  },
  {
   "cell_type": "code",
   "execution_count": 133,
   "metadata": {},
   "outputs": [],
   "source": [
    "employee3 = Employee(name=\"Kunal\", age=28, position=\"Founder\", salary=2100000)"
   ]
  },
  {
   "cell_type": "code",
   "execution_count": 134,
   "metadata": {},
   "outputs": [
    {
     "data": {
      "text/plain": [
       "{'salary': 2100000, 'tds': 210000.0}"
      ]
     },
     "execution_count": 134,
     "metadata": {},
     "output_type": "execute_result"
    }
   ],
   "source": [
    "employee3.print_salary_breakup()"
   ]
  },
  {
   "cell_type": "markdown",
   "metadata": {},
   "source": [
    "## Inheritance"
   ]
  },
  {
   "cell_type": "code",
   "execution_count": 145,
   "metadata": {},
   "outputs": [],
   "source": [
    "class Employee():\n",
    "    address = \"91Springboard, BKC, Mumbai\"\n",
    "    \n",
    "    def __init__(self, name, age, position, salary):\n",
    "        self.name = name\n",
    "        self.age = age\n",
    "        self.position = position\n",
    "        self.salary = salary # Adding new attribute\n",
    "    \n",
    "    def __str__(self):\n",
    "        return f\"Employee Name: {self.name} | Employee Position: {self.position} | Employee Age: {self.age}\"\n",
    "    \n",
    "    def __repr__(self):\n",
    "        return str({'Employee Name': self.name, 'Employee Position': self.position, 'Employee Age': self.age})\n",
    "    \n",
    "    def print_self(self):\n",
    "        \"\"\"Example of Instance Method\n",
    "        \"\"\"\n",
    "        print(self)\n",
    "        \n",
    "    def print_salary_breakup(self):\n",
    "        \"\"\"Example of Instance method using a static method\n",
    "        \"\"\"\n",
    "        return {'salary': self.salary, 'tds': self.calculate_tds(self.salary, 0.10)}\n",
    "        \n",
    "    @classmethod\n",
    "    def change_address(cls, new_address):\n",
    "        \"\"\"Example of Class method\n",
    "        \"\"\"\n",
    "        print(\"Accessing the Class method\")\n",
    "        cls.address = new_address\n",
    "        \n",
    "    @staticmethod\n",
    "    def calculate_tds(salary, tax_bracket):\n",
    "        return salary * tax_bracket"
   ]
  },
  {
   "cell_type": "markdown",
   "metadata": {},
   "source": [
    "### We can consider `Employee` class as the base class and we'll extend it to a new class called `Machine Learning Engineer`"
   ]
  },
  {
   "cell_type": "code",
   "execution_count": 136,
   "metadata": {},
   "outputs": [],
   "source": [
    "class MLEngineer(Employee):\n",
    "    def __init__(self, skills, projects):\n",
    "        self.skills = skills\n",
    "        self.projects = projects\n",
    "        \n",
    "    def __str__(self):\n",
    "        return f\"\"\"Employee Name: {self.name} | Employee Position: {self.position} | \n",
    "        Employee Age: {self.age} | Skills: {self.skills} | Projects: {self.skills}\"\"\""
   ]
  },
  {
   "cell_type": "code",
   "execution_count": 137,
   "metadata": {},
   "outputs": [],
   "source": [
    "mlengineer1 = MLEngineer(skills=['Python', 'Machine Learning', 'AWS', 'Docker'], \n",
    "                         projects=['Lending default predictions', 'Machine Learning Deployments'])"
   ]
  },
  {
   "cell_type": "code",
   "execution_count": 138,
   "metadata": {},
   "outputs": [
    {
     "ename": "AttributeError",
     "evalue": "'MLEngineer' object has no attribute 'name'",
     "output_type": "error",
     "traceback": [
      "\u001b[0;31m---------------------------------------------------------------------------\u001b[0m",
      "\u001b[0;31mAttributeError\u001b[0m                            Traceback (most recent call last)",
      "\u001b[0;32m<ipython-input-138-17c111084f24>\u001b[0m in \u001b[0;36m<module>\u001b[0;34m()\u001b[0m\n\u001b[0;32m----> 1\u001b[0;31m \u001b[0mstr\u001b[0m\u001b[0;34m(\u001b[0m\u001b[0mmlengineer1\u001b[0m\u001b[0;34m)\u001b[0m\u001b[0;34m\u001b[0m\u001b[0;34m\u001b[0m\u001b[0m\n\u001b[0m",
      "\u001b[0;32m<ipython-input-136-f12f95184ffb>\u001b[0m in \u001b[0;36m__str__\u001b[0;34m(self)\u001b[0m\n\u001b[1;32m      6\u001b[0m     \u001b[0;32mdef\u001b[0m \u001b[0m__str__\u001b[0m\u001b[0;34m(\u001b[0m\u001b[0mself\u001b[0m\u001b[0;34m)\u001b[0m\u001b[0;34m:\u001b[0m\u001b[0;34m\u001b[0m\u001b[0;34m\u001b[0m\u001b[0m\n\u001b[1;32m      7\u001b[0m         return f\"\"\"Employee Name: {self.name} | Employee Position: {self.position} | \n\u001b[0;32m----> 8\u001b[0;31m         Employee Age: {self.age} | Skills: {self.skills} | Projects: {self.skills}\"\"\"\n\u001b[0m",
      "\u001b[0;31mAttributeError\u001b[0m: 'MLEngineer' object has no attribute 'name'"
     ]
    }
   ],
   "source": [
    "str(mlengineer1)"
   ]
  },
  {
   "cell_type": "markdown",
   "metadata": {},
   "source": [
    "### We did extend the base class `Employee` to the `MLEngineer` class, but if I want to access the values or send in the values from `MLEngineer` to `Employee` to be initialized I need: `super()`\n",
    "\n",
    "### `super()` lets you reference the parent class instead of hard-coding it."
   ]
  },
  {
   "cell_type": "code",
   "execution_count": 160,
   "metadata": {},
   "outputs": [],
   "source": [
    "class MLEngineer(Employee):\n",
    "    def __init__(self, name, age, position, salary, skills, projects):\n",
    "        # The implementation in Python3\n",
    "        super().__init__(name, age, position, salary)\n",
    "        \n",
    "        self.skills = skills\n",
    "        self.projects = projects\n",
    "        \n",
    "    def __str__(self):\n",
    "        return f\"\"\"Employee Name: {self.name} | Employee Position: {self.position} | Employee Age: {self.age} | Skills: {self.skills} | Projects: {self.skills}\"\"\""
   ]
  },
  {
   "cell_type": "code",
   "execution_count": 161,
   "metadata": {},
   "outputs": [],
   "source": [
    "mlengineer1 = MLEngineer(name=\"Prathamesh\", age=28, position=\"MLEngineer\", salary=200000,\n",
    "                         skills=['Python', 'Machine Learning', 'AWS', 'Docker'], \n",
    "                         projects=['Lending default predictions', 'Machine Learning Deployments'])"
   ]
  },
  {
   "cell_type": "code",
   "execution_count": 162,
   "metadata": {},
   "outputs": [
    {
     "data": {
      "text/plain": [
       "\"Employee Name: Prathamesh | Employee Position: MLEngineer | Employee Age: 28 | Skills: ['Python', 'Machine Learning', 'AWS', 'Docker'] | Projects: ['Python', 'Machine Learning', 'AWS', 'Docker']\""
      ]
     },
     "execution_count": 162,
     "metadata": {},
     "output_type": "execute_result"
    }
   ],
   "source": [
    "str(mlengineer1)"
   ]
  },
  {
   "cell_type": "markdown",
   "metadata": {},
   "source": [
    "## There's a small gem that I had implemented and forgot!"
   ]
  },
  {
   "cell_type": "code",
   "execution_count": 176,
   "metadata": {},
   "outputs": [],
   "source": [
    "class MLEngineer:\n",
    "    def __init__(self, **kwargs):\n",
    "        self.__dict__.update(kwargs)\n",
    "        \n",
    "    def __str__(self):\n",
    "        return f\"\"\"Employee Name: {self.__dict__['name']}\"\"\""
   ]
  },
  {
   "cell_type": "code",
   "execution_count": 177,
   "metadata": {},
   "outputs": [],
   "source": [
    "mlengineer1 = MLEngineer(name=\"Prathamesh\", age=28, position=\"MLEngineer\", salary=200000,\n",
    "                         skills=['Python', 'Machine Learning', 'AWS', 'Docker'], \n",
    "                         projects=['Lending default predictions', 'Machine Learning Deployments'])"
   ]
  },
  {
   "cell_type": "code",
   "execution_count": 178,
   "metadata": {},
   "outputs": [
    {
     "data": {
      "text/plain": [
       "'Employee Name: Prathamesh'"
      ]
     },
     "execution_count": 178,
     "metadata": {},
     "output_type": "execute_result"
    }
   ],
   "source": [
    "str(mlengineer1)"
   ]
  },
  {
   "cell_type": "markdown",
   "metadata": {},
   "source": [
    "### Now you can add in a lot of other things that you want to do as instance methods, class methods or static methods"
   ]
  },
  {
   "cell_type": "markdown",
   "metadata": {},
   "source": [
    "## Duck Typing"
   ]
  },
  {
   "cell_type": "markdown",
   "metadata": {},
   "source": [
    "__Example: Dynamically typed languages__\n",
    "\n",
    "Imagine I have a magic wand. It has special powers. If I wave the wand and say \"Drive!\" to a car, well then, it drives!\n",
    "\n",
    "Does it work on other things? Not sure: so I try it on a truck. Wow - it drives too! I then try it on planes, trains and 1 Woods (they are a type of golf club which people use to 'drive' a golf ball). They all drive!\n",
    "\n",
    "But would it work on say, a teacup? Error: KAAAA-BOOOOOOM! that didn't work out so good. ====> Teacups can't drive!!!\n",
    "\n",
    "This is basically the concept of duck typing. It's a try-before-you-buy type system. If it works, all is well. But if it fails, well, it's gonna blow up in your face.\n",
    "\n",
    "In other words, we are interested in what the object can do, rather than with what the object is."
   ]
  },
  {
   "cell_type": "code",
   "execution_count": null,
   "metadata": {},
   "outputs": [],
   "source": []
  }
 ],
 "metadata": {
  "kernelspec": {
   "display_name": "Python 3",
   "language": "python",
   "name": "python3"
  },
  "language_info": {
   "codemirror_mode": {
    "name": "ipython",
    "version": 3
   },
   "file_extension": ".py",
   "mimetype": "text/x-python",
   "name": "python",
   "nbconvert_exporter": "python",
   "pygments_lexer": "ipython3",
   "version": "3.6.7"
  }
 },
 "nbformat": 4,
 "nbformat_minor": 2
}
